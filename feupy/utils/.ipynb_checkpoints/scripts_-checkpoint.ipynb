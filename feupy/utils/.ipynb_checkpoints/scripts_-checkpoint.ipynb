{
 "cells": [
  {
   "cell_type": "code",
   "execution_count": null,
   "id": "3f46c044",
   "metadata": {},
   "outputs": [],
   "source": [
    "# Licensed under a 3-clause BSD style license - see LICENSE.rst\n",
    "\"\"\"Utilities to create scripts and command-line tools.\"\"\"\n",
    "\n",
    "import pickle\n",
    "from gammapy.utils.scripts import make_path"
   ]
  },
  {
   "cell_type": "code",
   "execution_count": 1,
   "id": "7c766987",
   "metadata": {},
   "outputs": [],
   "source": [
    "def pickling(object_instance, file_name):        \n",
    "    \"\"\"...\"\"\"\n",
    "    with open(make_path(f\"{file_name}.pkl\"), \"wb\") as fp:  \n",
    "        pickle.dump(object_instance, fp)\n",
    "        \n",
    "    return"
   ]
  },
  {
   "cell_type": "code",
   "execution_count": null,
   "id": "f26d0b57",
   "metadata": {},
   "outputs": [],
   "source": [
    "def unpickling(file_name):        \n",
    "    \"\"\"...\"\"\"\n",
    "    with open(make_path(f\"{file_name}.pkl\"), \"rb\") as fp:  \n",
    "        return pickle.load(fp)"
   ]
  }
 ],
 "metadata": {
  "ipub": {
   "titlepage": {
    "author": "R. P. Costa Jr.",
    "email": "rubensp@utfpr.edu.br",
    "institution": [
     "Federal University of Technology – Paraná (UTFPR) "
    ],
    "tagline": "A TeV Astronomy Python package based on Gammapy.",
    "title": "feupy"
   }
  },
  "kernelspec": {
   "display_name": "Python 3 (ipykernel)",
   "language": "python",
   "name": "python3"
  },
  "language_info": {
   "codemirror_mode": {
    "name": "ipython",
    "version": 3
   },
   "file_extension": ".py",
   "mimetype": "text/x-python",
   "name": "python",
   "nbconvert_exporter": "python",
   "pygments_lexer": "ipython3",
   "version": "3.9.18"
  }
 },
 "nbformat": 4,
 "nbformat_minor": 5
}
