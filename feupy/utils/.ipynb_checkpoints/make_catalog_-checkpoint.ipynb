{
 "cells": [
  {
   "cell_type": "code",
   "execution_count": 1,
   "id": "a4931e91",
   "metadata": {},
   "outputs": [],
   "source": [
    "from astropy.units import Quantity\n",
    "\n",
    "def table_row_to_dict(row, make_quantity=True):\n",
    "    \"\"\"Make one source data dictionary.\n",
    "\n",
    "    Parameters\n",
    "    ----------\n",
    "    row : `~astropy.table.Row`\n",
    "        Row.\n",
    "    make_quantity : bool, optional\n",
    "        Make quantity values for columns with units.\n",
    "        Default is True.\n",
    "\n",
    "    Returns\n",
    "    -------\n",
    "    data : dict\n",
    "        Row data.\n",
    "    \"\"\"\n",
    "    \n",
    "    data = {}\n",
    "    for name, col in row.columns.items():\n",
    "        val = row[name]\n",
    "\n",
    "        if make_quantity and col.unit:\n",
    "            val = Quantity(val, unit=col.unit)\n",
    "        data[name] = val\n",
    "    return data"
   ]
  },
  {
   "cell_type": "code",
   "execution_count": null,
   "id": "ea6b5537",
   "metadata": {},
   "outputs": [],
   "source": []
  }
 ],
 "metadata": {
  "ipub": {
   "titlepage": {
    "author": "R. P. Costa Jr.",
    "email": "rubensp@utfpr.edu.br",
    "institution": [
     "Federal University of Technology – Paraná (UTFPR) "
    ],
    "tagline": "A TeV Astronomy Python package based on Gammapy.",
    "title": "feupy"
   }
  },
  "kernelspec": {
   "display_name": "Python 3 (ipykernel)",
   "language": "python",
   "name": "python3"
  },
  "language_info": {
   "codemirror_mode": {
    "name": "ipython",
    "version": 3
   },
   "file_extension": ".py",
   "mimetype": "text/x-python",
   "name": "python",
   "nbconvert_exporter": "python",
   "pygments_lexer": "ipython3",
   "version": "3.9.18"
  }
 },
 "nbformat": 4,
 "nbformat_minor": 5
}
