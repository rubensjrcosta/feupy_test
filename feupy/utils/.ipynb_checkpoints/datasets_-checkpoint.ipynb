{
 "cells": [
  {
   "cell_type": "code",
   "execution_count": 1,
   "id": "7c766987",
   "metadata": {},
   "outputs": [],
   "source": [
    "from gammapy.estimators import FluxPoints\n",
    "\n",
    "# def ds_fp_from_table_fp(table, sky_model, source_name, sed_type = \"e2dnde\"):\n",
    "#     '''Returns the flux points dataset from the flux points table \n",
    "    \n",
    "#     >>> ds_fp_from_table_fp(table, sky_model, sed_type)\n",
    "#     ds_fp\n",
    "#     '''\n",
    "#     flux_points = FluxPoints.from_table(table=table, reference_model=sky_model, sed_type=sed_type)\n",
    "    \n",
    "#     return FluxPointsDataset(\n",
    "#         models=sky_model,\n",
    "#         data=flux_points, \n",
    "#         name=source_name\n",
    "#     )"
   ]
  },
  {
   "cell_type": "code",
   "execution_count": null,
   "id": "f26d0b57",
   "metadata": {},
   "outputs": [],
   "source": []
  }
 ],
 "metadata": {
  "ipub": {
   "titlepage": {
    "author": "R. P. Costa Jr.",
    "email": "rubensp@utfpr.edu.br",
    "institution": [
     "Federal University of Technology – Paraná (UTFPR) "
    ],
    "tagline": "A TeV Astronomy Python package based on Gammapy.",
    "title": "feupy"
   }
  },
  "kernelspec": {
   "display_name": "Python 3 (ipykernel)",
   "language": "python",
   "name": "python3"
  },
  "language_info": {
   "codemirror_mode": {
    "name": "ipython",
    "version": 3
   },
   "file_extension": ".py",
   "mimetype": "text/x-python",
   "name": "python",
   "nbconvert_exporter": "python",
   "pygments_lexer": "ipython3",
   "version": "3.9.18"
  }
 },
 "nbformat": 4,
 "nbformat_minor": 5
}
