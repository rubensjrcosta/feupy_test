{
 "cells": [
  {
   "cell_type": "code",
   "execution_count": null,
   "id": "a4931e91",
   "metadata": {},
   "outputs": [],
   "source": [
    "rom astropy import units as u\n",
    "import numpy as np\n",
    "from math import floor\n",
    "def energy_unit_format(E):\n",
    "    \"\"\"Format energy quantities to a string representation that is more comfortable to read.\n",
    "\n",
    "    This is done by switching to the most relevant unit (keV, MeV, GeV, TeV) and changing the float precision.\n",
    "\n",
    "    Parameters\n",
    "    ----------\n",
    "    E: `~astropy.units.Quantity`\n",
    "        Quantity or list of quantities.\n",
    "\n",
    "    Returns\n",
    "    -------\n",
    "    str : str\n",
    "        A string or tuple of strings with energy unit formatted.\n",
    "    \"\"\"\n",
    "    try:\n",
    "        iter(E)\n",
    "    except TypeError:\n",
    "        pass\n",
    "    else:\n",
    "        return tuple(map(energy_unit_format, E))\n",
    "\n",
    "    i = floor(np.log10(E.to_value(u.eV)) / 3)  # a new unit every 3 decades\n",
    "    unit = (u.eV, u.keV, u.MeV, u.GeV, u.TeV, u.PeV)[i] if i < 5 else u.PeV\n",
    "\n",
    "    v = E.to_value(unit)\n",
    "    i = floor(np.log10(v))\n",
    "    prec = (2, 1, 0)[i] if i < 3 else 0\n",
    "\n",
    "    return f\"{v:0.{prec}f} {unit}\"\n",
    "energy_unit_format(1000000*u.eV)\n"
   ]
  }
 ],
 "metadata": {
  "ipub": {
   "titlepage": {
    "author": "R. P. Costa Jr.",
    "email": "rubensp@utfpr.edu.br",
    "institution": [
     "Federal University of Technology – Paraná (UTFPR) "
    ],
    "tagline": "A TeV Astronomy Python package based on Gammapy.",
    "title": "feupy"
   }
  },
  "kernelspec": {
   "display_name": "Python 3 (ipykernel)",
   "language": "python",
   "name": "python3"
  },
  "language_info": {
   "codemirror_mode": {
    "name": "ipython",
    "version": 3
   },
   "file_extension": ".py",
   "mimetype": "text/x-python",
   "name": "python",
   "nbconvert_exporter": "python",
   "pygments_lexer": "ipython3",
   "version": "3.9.18"
  }
 },
 "nbformat": 4,
 "nbformat_minor": 5
}
