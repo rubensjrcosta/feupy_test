{
 "cells": [
  {
   "cell_type": "code",
   "execution_count": 1,
   "id": "3171d8c8",
   "metadata": {},
   "outputs": [],
   "source": [
    "#!/usr/bin/env python\n",
    "# coding: utf-8\n",
    "\n",
    "# In[2]:\n",
    "\n",
    "\n",
    "# Licensed under a 3-clause BSD style license - see LICENSE.rst\n",
    "from astropy.table import Table\n",
    "from gammapy.utils.scripts import make_path\n",
    "\n",
    "def get_table():\n",
    "    file_name = \"$PYTHONPATH/feupy/data/catalogs/1LHAASO_catalog.fits\"\n",
    "    return Table.read(make_path(file_name))\n",
    "\n",
    "\n",
    "# # In[3]:\n",
    "\n",
    "\n",
    "# table.info()\n",
    "\n",
    "# table.to_pandas()\n",
    "\n",
    "\n",
    "# In[ ]:\n"
   ]
  },
  {
   "cell_type": "code",
   "execution_count": 2,
   "id": "b56d28dd",
   "metadata": {},
   "outputs": [
    {
     "data": {
      "text/html": [
       "<div><i>Table length=90</i>\n",
       "<table id=\"table139624676121568\" class=\"table-striped table-bordered table-condensed\">\n",
       "<thead><tr><th>Source_Name</th><th>Model_a</th><th>RAJ2000</th><th>DECJ2000</th><th>pos_err</th><th>r39</th><th>r39_err</th><th>r39_ul</th><th>N0</th><th>N0_err</th><th>N0_ul</th><th>gamma</th><th>gamma_err</th><th>gamma_ul</th><th>E0</th><th>TS</th><th>TS100</th><th>Model_b</th><th>RAJ2000_b</th><th>DECJ2000_b</th><th>pos_err_b</th><th>r39_b</th><th>r39_err_b</th><th>r39_ul_b</th><th>N0_b</th><th>N0_err_b</th><th>N0_ul_b</th><th>gamma_b</th><th>gamma_err_b</th><th>gamma_ul_b</th><th>E0_b</th><th>TS_b</th><th>TS100_b</th><th>ASSO_Name</th><th>ASSO_Sep</th></tr></thead>\n",
       "<thead><tr><th></th><th></th><th>deg</th><th>deg</th><th>deg</th><th>deg</th><th>deg</th><th>deg</th><th>1 / (TeV s cm2)</th><th>1 / (TeV s cm2)</th><th>1 / (TeV s cm2)</th><th></th><th></th><th></th><th>TeV</th><th></th><th></th><th></th><th>deg</th><th>deg</th><th>deg</th><th>deg</th><th>deg</th><th>deg</th><th>1 / (TeV s cm2)</th><th>1 / (TeV s cm2)</th><th>1 / (TeV s cm2)</th><th></th><th></th><th></th><th>TeV</th><th></th><th></th><th></th><th>deg</th></tr></thead>\n",
       "<thead><tr><th>bytes20</th><th>bytes7</th><th>float64</th><th>float64</th><th>float64</th><th>float64</th><th>float64</th><th>float64</th><th>float64</th><th>float64</th><th>float64</th><th>float64</th><th>float64</th><th>float64</th><th>float64</th><th>float64</th><th>float64</th><th>bytes7</th><th>float64</th><th>float64</th><th>float64</th><th>float64</th><th>float64</th><th>float64</th><th>float64</th><th>float64</th><th>float64</th><th>float64</th><th>float64</th><th>float64</th><th>float64</th><th>float64</th><th>float64</th><th>bytes16</th><th>float64</th></tr></thead>\n",
       "<tr><td>1LHAASO J0007+5659u</td><td>KM2A</td><td>1.86</td><td>57.0</td><td>0.12</td><td>--</td><td>--</td><td>0.18</td><td>3.3e-17</td><td>5e-18</td><td>--</td><td>3.1</td><td>0.2</td><td>--</td><td>50.0</td><td>86.5</td><td>43.6</td><td>WCDA</td><td>--</td><td>--</td><td>--</td><td>--</td><td>--</td><td>--</td><td>--</td><td>--</td><td>2.7000000000000002e-14</td><td>--</td><td>--</td><td>--</td><td>3.0</td><td>--</td><td>--</td><td>--</td><td>--</td></tr>\n",
       "<tr><td>1LHAASO J0007+7303u</td><td>KM2A</td><td>1.91</td><td>73.07</td><td>0.07</td><td>0.17</td><td>0.03</td><td>--</td><td>3.41e-16</td><td>2.7e-17</td><td>--</td><td>3.4</td><td>0.12</td><td>--</td><td>50.0</td><td>361.0</td><td>171.6</td><td>WCDA</td><td>1.48</td><td>73.15</td><td>0.1</td><td>--</td><td>--</td><td>0.22</td><td>5.01e-13</td><td>1.1100000000000002e-13</td><td>--</td><td>2.74</td><td>0.11</td><td>--</td><td>3.0</td><td>141.6</td><td>--</td><td>CTA 1</td><td>0.12</td></tr>\n",
       "<tr><td>1LHAASO J0056+6346u</td><td>KM2A</td><td>14.1</td><td>63.77</td><td>0.08</td><td>0.24</td><td>0.03</td><td>--</td><td>1.47e-16</td><td>1e-17</td><td>--</td><td>3.33</td><td>0.1</td><td>--</td><td>50.0</td><td>380.2</td><td>94.1</td><td>WCDA</td><td>13.78</td><td>63.96</td><td>0.15</td><td>0.33</td><td>0.07</td><td>--</td><td>1.45e-13</td><td>4.0999999999999996e-14</td><td>--</td><td>2.35</td><td>0.13</td><td>--</td><td>3.0</td><td>106.1</td><td>--</td><td>--</td><td>--</td></tr>\n",
       "<tr><td>1LHAASO J0206+4302u</td><td>KM2A</td><td>31.7</td><td>43.05</td><td>0.13</td><td>--</td><td>--</td><td>0.27</td><td>2.4e-17</td><td>3e-18</td><td>--</td><td>2.62</td><td>0.16</td><td>--</td><td>50.0</td><td>96.0</td><td>82.8</td><td>WCDA</td><td>--</td><td>--</td><td>--</td><td>--</td><td>--</td><td>--</td><td>--</td><td>--</td><td>9e-15</td><td>--</td><td>--</td><td>--</td><td>3.0</td><td>--</td><td>--</td><td>--</td><td>--</td></tr>\n",
       "<tr><td>1LHAASO J0212+4254u</td><td>KM2A</td><td>33.01</td><td>42.91</td><td>0.2</td><td>--</td><td>--</td><td>0.31</td><td>1.2e-17</td><td>3e-18</td><td>--</td><td>2.45</td><td>0.23</td><td>--</td><td>50.0</td><td>38.4</td><td>30.2</td><td>WCDA</td><td>--</td><td>--</td><td>--</td><td>--</td><td>--</td><td>--</td><td>--</td><td>--</td><td>7.000000000000001e-15</td><td>--</td><td>--</td><td>--</td><td>3.0</td><td>--</td><td>--</td><td>--</td><td>--</td></tr>\n",
       "<tr><td>1LHAASO J0216+4237u</td><td>KM2A</td><td>34.1</td><td>42.63</td><td>0.1</td><td>--</td><td>--</td><td>0.13</td><td>1.8e-17</td><td>3e-18</td><td>--</td><td>2.58</td><td>0.17</td><td>--</td><td>50.0</td><td>102.0</td><td>65.6</td><td>WCDA</td><td>--</td><td>--</td><td>--</td><td>--</td><td>--</td><td>--</td><td>--</td><td>--</td><td>2.0000000000000003e-14</td><td>--</td><td>--</td><td>--</td><td>3.0</td><td>--</td><td>--</td><td>--</td><td>--</td></tr>\n",
       "<tr><td>...</td><td>...</td><td>...</td><td>...</td><td>...</td><td>...</td><td>...</td><td>...</td><td>...</td><td>...</td><td>...</td><td>...</td><td>...</td><td>...</td><td>...</td><td>...</td><td>...</td><td>...</td><td>...</td><td>...</td><td>...</td><td>...</td><td>...</td><td>...</td><td>...</td><td>...</td><td>...</td><td>...</td><td>...</td><td>...</td><td>...</td><td>...</td><td>...</td><td>...</td><td>...</td></tr>\n",
       "<tr><td>1LHAASO J2200+5643u</td><td>KM2A</td><td>330.08</td><td>56.73</td><td>0.13</td><td>0.54</td><td>0.05</td><td>--</td><td>1.7e-16</td><td>1e-17</td><td>--</td><td>3.44</td><td>0.1</td><td>--</td><td>50.0</td><td>368.6</td><td>38.4</td><td>WCDA</td><td>330.38</td><td>56.73</td><td>0.2</td><td>0.43</td><td>0.07</td><td>--</td><td>3.8e-14</td><td>2.4e-14</td><td>--</td><td>1.77</td><td>0.28</td><td>--</td><td>3.0</td><td>75.7</td><td>--</td><td>--</td><td>--</td></tr>\n",
       "<tr><td>1LHAASO J2228+6100u</td><td>KM2A</td><td>337.01</td><td>61.0</td><td>0.04</td><td>0.35</td><td>0.01</td><td>--</td><td>4.759999999999999e-16</td><td>1.4000000000000003e-17</td><td>--</td><td>2.95</td><td>0.04</td><td>--</td><td>50.0</td><td>2180.9</td><td>605.2</td><td>WCDA</td><td>336.79</td><td>61.02</td><td>0.05</td><td>0.25</td><td>0.02</td><td>--</td><td>2.37e-13</td><td>1.6e-14</td><td>--</td><td>2.26</td><td>0.04</td><td>--</td><td>3.0</td><td>576.0</td><td>--</td><td>SNR G106.3+02.7</td><td>0.13</td></tr>\n",
       "<tr><td>1LHAASO J2229+5927u</td><td>WCDA</td><td>337.26</td><td>59.45</td><td>0.36</td><td>1.98</td><td>0.1</td><td>--</td><td>1.4900000000000001e-12</td><td>9.900000000000001e-14</td><td>--</td><td>2.67</td><td>0.05</td><td>--</td><td>3.0</td><td>228.0</td><td>--</td><td>KM2A*</td><td>337.88</td><td>59.55</td><td>0.46</td><td>1.74</td><td>0.16</td><td>--</td><td>4.4299999999999995e-16</td><td>3.6e-17</td><td>--</td><td>3.53</td><td>0.11</td><td>--</td><td>50.0</td><td>163.8</td><td>31.4</td><td>--</td><td>--</td></tr>\n",
       "<tr><td>1LHAASO J2238+5900</td><td>KM2A</td><td>339.54</td><td>59.0</td><td>0.09</td><td>0.43</td><td>0.03</td><td>--</td><td>2.0299999999999997e-16</td><td>1.2e-17</td><td>--</td><td>3.55</td><td>0.09</td><td>--</td><td>50.0</td><td>353.4</td><td>--</td><td>WCDA*</td><td>339.4</td><td>58.92</td><td>0.18</td><td>0.51</td><td>0.04</td><td>--</td><td>1.91e-13</td><td>2.6000000000000003e-14</td><td>--</td><td>2.39</td><td>0.07</td><td>--</td><td>3.0</td><td>110.2</td><td>--</td><td>--</td><td>--</td></tr>\n",
       "<tr><td>1LHAASO J2323+5854</td><td>WCDA</td><td>350.8</td><td>58.9</td><td>0.14</td><td>--</td><td>--</td><td>0.24</td><td>1.1000000000000001e-13</td><td>1.7000000000000003e-14</td><td>--</td><td>3.18</td><td>0.16</td><td>--</td><td>3.0</td><td>50.4</td><td>--</td><td>KM2A</td><td>--</td><td>--</td><td>--</td><td>--</td><td>--</td><td>--</td><td>--</td><td>--</td><td>1.5e-17</td><td>--</td><td>--</td><td>--</td><td>50.0</td><td>--</td><td>--</td><td>Cassiopeia A</td><td>0.1</td></tr>\n",
       "<tr><td>1LHAASO J2346+5138</td><td>WCDA</td><td>356.7</td><td>51.64</td><td>0.12</td><td>--</td><td>--</td><td>0.16</td><td>5.7e-14</td><td>9e-15</td><td>--</td><td>3.26</td><td>0.17</td><td>--</td><td>3.0</td><td>47.6</td><td>--</td><td>KM2A</td><td>--</td><td>--</td><td>--</td><td>--</td><td>--</td><td>--</td><td>--</td><td>--</td><td>7.000000000000001e-18</td><td>--</td><td>--</td><td>--</td><td>50.0</td><td>--</td><td>--</td><td>1ES 2344+514</td><td>0.08</td></tr>\n",
       "</table></div>"
      ],
      "text/plain": [
       "<Table length=90>\n",
       "    Source_Name     Model_a RAJ2000 ... TS100_b    ASSO_Name    ASSO_Sep\n",
       "                              deg   ...                           deg   \n",
       "      bytes20        bytes7 float64 ... float64     bytes16     float64 \n",
       "------------------- ------- ------- ... ------- --------------- --------\n",
       "1LHAASO J0007+5659u    KM2A    1.86 ...      --              --       --\n",
       "1LHAASO J0007+7303u    KM2A    1.91 ...      --           CTA 1     0.12\n",
       "1LHAASO J0056+6346u    KM2A    14.1 ...      --              --       --\n",
       "1LHAASO J0206+4302u    KM2A    31.7 ...      --              --       --\n",
       "1LHAASO J0212+4254u    KM2A   33.01 ...      --              --       --\n",
       "1LHAASO J0216+4237u    KM2A    34.1 ...      --              --       --\n",
       "                ...     ...     ... ...     ...             ...      ...\n",
       "1LHAASO J2200+5643u    KM2A  330.08 ...      --              --       --\n",
       "1LHAASO J2228+6100u    KM2A  337.01 ...      -- SNR G106.3+02.7     0.13\n",
       "1LHAASO J2229+5927u    WCDA  337.26 ...    31.4              --       --\n",
       " 1LHAASO J2238+5900    KM2A  339.54 ...      --              --       --\n",
       " 1LHAASO J2323+5854    WCDA   350.8 ...      --    Cassiopeia A      0.1\n",
       " 1LHAASO J2346+5138    WCDA   356.7 ...      --    1ES 2344+514     0.08"
      ]
     },
     "execution_count": 2,
     "metadata": {},
     "output_type": "execute_result"
    }
   ],
   "source": []
  },
  {
   "cell_type": "code",
   "execution_count": null,
   "id": "b31940c0",
   "metadata": {},
   "outputs": [],
   "source": []
  }
 ],
 "metadata": {
  "kernelspec": {
   "display_name": "Python 3 (ipykernel)",
   "language": "python",
   "name": "python3"
  },
  "language_info": {
   "codemirror_mode": {
    "name": "ipython",
    "version": 3
   },
   "file_extension": ".py",
   "mimetype": "text/x-python",
   "name": "python",
   "nbconvert_exporter": "python",
   "pygments_lexer": "ipython3",
   "version": "3.9.18"
  }
 },
 "nbformat": 4,
 "nbformat_minor": 5
}
