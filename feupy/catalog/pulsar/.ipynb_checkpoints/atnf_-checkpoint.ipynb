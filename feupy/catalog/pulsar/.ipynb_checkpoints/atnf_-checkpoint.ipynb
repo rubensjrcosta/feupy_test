{
 "cells": [
  {
   "cell_type": "code",
   "execution_count": 1,
   "id": "61777c6e",
   "metadata": {},
   "outputs": [
    {
     "data": {
      "text/plain": [
       "'ATNF Pulsar Catalogue and source classes.'"
      ]
     },
     "execution_count": 1,
     "metadata": {},
     "output_type": "execute_result"
    }
   ],
   "source": [
    "# Licensed under a 3-clause BSD style license - see LICENSE.rst\n",
    "\"\"\"ATNF Pulsar Catalogue and source classes.\"\"\""
   ]
  },
  {
   "cell_type": "code",
   "execution_count": 2,
   "id": "8bf7e879",
   "metadata": {},
   "outputs": [
    {
     "name": "stdout",
     "output_type": "stream",
     "text": [
      "/home/born-again/Documents/GitHub/feupy/feupy/catalog/pulsar\n"
     ]
    }
   ],
   "source": []
  },
  {
   "cell_type": "code",
   "execution_count": 3,
   "id": "4485c501",
   "metadata": {},
   "outputs": [],
   "source": [
    "\n",
    "# from feupy.utils.string_handling import *\n",
    "# from feupy.utils.table import *\n",
    "\n",
    "from astropy.table import Table\n",
    "\n",
    "from gammapy.utils.scripts import make_path\n",
    "from gammapy.catalog.core import SourceCatalog, SourceCatalogObject"
   ]
  },
  {
   "cell_type": "code",
   "execution_count": 4,
   "id": "b2c9a486",
   "metadata": {},
   "outputs": [],
   "source": [
    "__all__ = [\n",
    "    \"SourceCatalogATNF\",\n",
    "    \"SourceCatalogObjectATNF\",\n",
    "]"
   ]
  },
  {
   "cell_type": "code",
   "execution_count": 10,
   "id": "59c0c19c",
   "metadata": {},
   "outputs": [],
   "source": [
    "class SourceCatalogObjectATNF(SourceCatalogObject):\n",
    "    \"\"\"One source from the HAWC Catalogue.\n",
    "\n",
    "    See: ...\n",
    "    \n",
    "    The data are available through the web page (http://english.ihep.cas.cn/lhaaso/index.html) \n",
    "    in the section ‘Public Data’. \n",
    "\n",
    "    One source is represented by `~feupy.catalog.pulsar.SourceCatalogObjectATNF`.\n",
    "    \"\"\"    \n",
    "    _source_name_key = \"JNAME\"\n",
    "    \n",
    "    all = []\n",
    "    \n",
    "    def __init__(self):\n",
    "    \n",
    "        SourceCatalogObjectATNF.all.append(self)\n",
    "    \n",
    "    def __repr__(self):\n",
    "        return f\"{self.__class__.__name__}({self.name!r})\"\n",
    "\n",
    "    def __str__(self):\n",
    "        return self.info()\n",
    "    \n",
    "    @property\n",
    "    def dist(self):\n",
    "        \"\"\"\n",
    "        \"\"\"\n",
    "        return self.data['DIST']\n",
    "    \n",
    "    @property\n",
    "    def age(self):\n",
    "        \"\"\"\n",
    "        \"\"\"\n",
    "        return self.data['AGE']\n",
    "\n",
    "    @property\n",
    "    def P_0(self):\n",
    "        \"\"\"\n",
    "        \"\"\"\n",
    "        return self.data['P0']\n",
    "    \n",
    "    @property\n",
    "    def B_surf(self):\n",
    "        \"\"\"\n",
    "        \"\"\"\n",
    "        return self.data['BSURF']\n",
    "    \n",
    "    @property\n",
    "    def E_dot(self):\n",
    "        \"\"\"\n",
    "        \"\"\"\n",
    "        return self.data['EDOT']\n",
    "    \n",
    "    @property\n",
    "    def Type(self):\n",
    "        \"\"\"\n",
    "        \"\"\"\n",
    "        return self.data['TYPE']\n",
    "    \n",
    "    @property\n",
    "    def assoc(self):\n",
    "        \"\"\"\n",
    "        \"\"\"\n",
    "        return self.data['ASSOC']\n",
    "    \n",
    "class SourceCatalogATNF(SourceCatalog):\n",
    "    \"\"\"ATNF Pulsar Catalogue.\n",
    "\n",
    "    See: https://www.atnf.csiro.au/research/pulsar/psrcat/\n",
    "\n",
    "    One source is represented by `~feupy.pulsar.atnf.SourceCatalogATNF`.\n",
    "    \"\"\"  \n",
    "      \n",
    "    tag = \"ATNF\"\n",
    "    \"\"\"Catalog name\"\"\"\n",
    "        \n",
    "    description = \"A comprehensive database of all published pulsars\"\n",
    "    \"\"\"Catalog description\"\"\"\n",
    "    \n",
    "    PSR_PARAMS = [\n",
    "        'JNAME', \n",
    "        'RAJD', \n",
    "        'DECJD',\n",
    "        'RAJ', \n",
    "        'DECJ',\n",
    "        'DIST',\n",
    "        'DIST_DM', \n",
    "        'AGE', \n",
    "        'P0',\n",
    "        'BSURF',\n",
    "        'EDOT', \n",
    "        'TYPE', \n",
    "        'ASSOC',\n",
    "    ]\n",
    "    \"\"\"Pulsar default parameters\"\"\"\n",
    "    \n",
    "    source_object_class = SourceCatalogObjectATNF\n",
    "    \n",
    "    def __init__(self, filename=\"$PYTHONPATH/feupy/data/catalogs/ATNF/ATNF.fits\"):\n",
    "        table = Table.read(make_path(filename))\n",
    "        source_name_key = \"Source_Name\"\n",
    "        super().__init__(table=table, source_name_key=source_name_key)"
   ]
  },
  {
   "cell_type": "code",
   "execution_count": null,
   "id": "8d249884",
   "metadata": {},
   "outputs": [],
   "source": []
  }
 ],
 "metadata": {
  "kernelspec": {
   "display_name": "Python 3 (ipykernel)",
   "language": "python",
   "name": "python3"
  },
  "language_info": {
   "codemirror_mode": {
    "name": "ipython",
    "version": 3
   },
   "file_extension": ".py",
   "mimetype": "text/x-python",
   "name": "python",
   "nbconvert_exporter": "python",
   "pygments_lexer": "ipython3",
   "version": "3.9.18"
  }
 },
 "nbformat": 4,
 "nbformat_minor": 5
}
