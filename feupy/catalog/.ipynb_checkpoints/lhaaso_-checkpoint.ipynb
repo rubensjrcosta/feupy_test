{
 "cells": [
  {
   "cell_type": "code",
   "execution_count": 2,
   "id": "4d895f5c",
   "metadata": {},
   "outputs": [],
   "source": [
    "from feupy.source import Source\n",
    "from astropy.table import Table\n",
    "from gammapy.utils.scripts import make_path"
   ]
  },
  {
   "cell_type": "code",
   "execution_count": 3,
   "id": "e6f75224",
   "metadata": {},
   "outputs": [],
   "source": [
    "# Licensed under a 3-clause BSD style license - see LICENSE.rst\n",
    "\"\"\"Source catalog for LHAASO\"\"\"\n",
    "FILE_NAME = \"$PYTHONPATH/feupy/data/flux_points/lhaaso-catalog.fits\"\n",
    "\n",
    "class SourceCatalogLHAASO():\n",
    "    \"\"\"LHAASO first 12 PeVatrons Catalogue.\n",
    "\n",
    "    See: https://doi.org/10.1038/s41586-021-03498-z\n",
    "    \n",
    "    The data are available through the web page (http://english.ihep.cas.cn/lhaaso/index.html) \n",
    "    in the section ‘Public Data’. \n",
    "\n",
    "    One source is represented by `~feupy.catalog.SourceCatalogLHAASO`.\n",
    "    \"\"\"    \n",
    "    tag = \"lhaaso-nature\"\n",
    "    description = \"LHAASO first 12 PeVatrons Catalogue\"\n",
    "    \n",
    "    def __init__(self):\n",
    "        pass\n",
    "#         self.table = table\n",
    "        \n",
    "    def table(self):\n",
    "        _table = Table().read(make_path(FILE_NAME)) \n",
    "        _table.add_index('index')\n",
    "        return self._table\n",
    "\n",
    "\n",
    "    @classmethod\n",
    "    def instantiate_from_fits(cls):\n",
    "        table = Table().read(make_path(FILE_NAME))\n",
    "        col_names = table.colnames\n",
    "        for index, source in enumerate(table):\n",
    "            _index, name, ra, dec, = table[index][col_names]\n",
    "            pos_ra = ra*table[\"ra\"].unit\n",
    "            pos_dec = dec*table[\"dec\"].unit\n",
    "            Source(name=name, pos_ra=pos_ra, pos_dec=pos_dec, catalog=SourceCatalogLHAASO().tag)\n",
    "            \n",
    "    @classmethod            \n",
    "    def instantiate_from_data(cls, data):\n",
    "            name = data['name'] # JName: Source name based on J2000 coordinates\n",
    "            pos_ra =  data['ra'] # Right ascension (J2000) (degrees)\n",
    "            pos_dec = data['dec'] # Declination (J2000) (degrees\n",
    "            Source(name=name,pos_ra=pos_ra,pos_dec=pos_dec)\n",
    "\n",
    "            \n",
    "    @classmethod\n",
    "    # Property Decorator = Read-Only Attribute\n",
    "    def table(cls):\n",
    "        _table = Table().read(make_path(FILE_NAME)) \n",
    "        _table.add_index('name')\n",
    "        return _table    \n",
    "\n",
    "#     @property        \n",
    "#     def version(self):\n",
    "#         return __query.get_version\n"
   ]
  },
  {
   "cell_type": "code",
   "execution_count": 4,
   "id": "b17b0b88",
   "metadata": {},
   "outputs": [
    {
     "data": {
      "text/html": [
       "<i>Row index=0</i>\n",
       "<table id=\"table140176961286736\">\n",
       "<thead><tr><th>index</th><th>name</th><th>ra</th><th>dec</th></tr></thead>\n",
       "<thead><tr><th></th><th></th><th>deg</th><th>deg</th></tr></thead>\n",
       "<thead><tr><th>int64</th><th>bytes17</th><th>float64</th><th>float64</th></tr></thead>\n",
       "<tr><td>0</td><td>LHAASO J0534+2202</td><td>83.55</td><td>22.05</td></tr>\n",
       "</table>"
      ],
      "text/plain": [
       "<Row index=0>\n",
       "index        name          ra     dec  \n",
       "                          deg     deg  \n",
       "int64      bytes17      float64 float64\n",
       "----- ----------------- ------- -------\n",
       "    0 LHAASO J0534+2202   83.55   22.05"
      ]
     },
     "execution_count": 4,
     "metadata": {},
     "output_type": "execute_result"
    }
   ],
   "source": [
    "table = SourceCatalogLHAASO().table()\n",
    "table[0]"
   ]
  },
  {
   "cell_type": "code",
   "execution_count": 5,
   "id": "9f877640",
   "metadata": {},
   "outputs": [
    {
     "data": {
      "text/html": [
       "<div><i>Table length=12</i>\n",
       "<table id=\"table140176961282976\" class=\"table-striped table-bordered table-condensed\">\n",
       "<thead><tr><th>index</th><th>name</th><th>ra</th><th>dec</th></tr></thead>\n",
       "<thead><tr><th></th><th></th><th>deg</th><th>deg</th></tr></thead>\n",
       "<thead><tr><th>int64</th><th>bytes17</th><th>float64</th><th>float64</th></tr></thead>\n",
       "<tr><td>0</td><td>LHAASO J0534+2202</td><td>83.55</td><td>22.05</td></tr>\n",
       "<tr><td>1</td><td>LHAASO J1825-1326</td><td>276.45</td><td>-13.45</td></tr>\n",
       "<tr><td>2</td><td>LHAASO J1839-0545</td><td>279.95</td><td>-5.75</td></tr>\n",
       "<tr><td>3</td><td>LHAASO J1843-0338</td><td>280.75</td><td>-3.65</td></tr>\n",
       "<tr><td>4</td><td>LHAASO J1849-0003</td><td>282.35</td><td>-0.05</td></tr>\n",
       "<tr><td>5</td><td>LHAASO J1908+0621</td><td>287.05</td><td>6.35</td></tr>\n",
       "<tr><td>6</td><td>LHAASO J1929+1745</td><td>292.25</td><td>17.75</td></tr>\n",
       "<tr><td>7</td><td>LHAASO J1956+2845</td><td>299.05</td><td>28.75</td></tr>\n",
       "<tr><td>8</td><td>LHAASO J2018+3651</td><td>304.75</td><td>36.85</td></tr>\n",
       "<tr><td>9</td><td>LHAASO J2032+4102</td><td>308.05</td><td>41.05</td></tr>\n",
       "<tr><td>10</td><td>LHAASO J2108+5157</td><td>317.15</td><td>51.95</td></tr>\n",
       "<tr><td>11</td><td>LHAASO J2226+6057</td><td>336.75</td><td>60.95</td></tr>\n",
       "</table></div>"
      ],
      "text/plain": [
       "<Table length=12>\n",
       "index        name          ra     dec  \n",
       "                          deg     deg  \n",
       "int64      bytes17      float64 float64\n",
       "----- ----------------- ------- -------\n",
       "    0 LHAASO J0534+2202   83.55   22.05\n",
       "    1 LHAASO J1825-1326  276.45  -13.45\n",
       "    2 LHAASO J1839-0545  279.95   -5.75\n",
       "    3 LHAASO J1843-0338  280.75   -3.65\n",
       "    4 LHAASO J1849-0003  282.35   -0.05\n",
       "    5 LHAASO J1908+0621  287.05    6.35\n",
       "    6 LHAASO J1929+1745  292.25   17.75\n",
       "    7 LHAASO J1956+2845  299.05   28.75\n",
       "    8 LHAASO J2018+3651  304.75   36.85\n",
       "    9 LHAASO J2032+4102  308.05   41.05\n",
       "   10 LHAASO J2108+5157  317.15   51.95\n",
       "   11 LHAASO J2226+6057  336.75   60.95"
      ]
     },
     "execution_count": 5,
     "metadata": {},
     "output_type": "execute_result"
    }
   ],
   "source": [
    " Table().read(make_path(FILE_NAME)) "
   ]
  },
  {
   "cell_type": "code",
   "execution_count": 6,
   "id": "f9050eda",
   "metadata": {},
   "outputs": [],
   "source": [
    "from gammapy.utils.table import table_row_to_dict"
   ]
  },
  {
   "cell_type": "code",
   "execution_count": 7,
   "id": "44e15a55",
   "metadata": {},
   "outputs": [
    {
     "data": {
      "text/plain": [
       "{'index': 0,\n",
       " 'name': 'LHAASO J0534+2202',\n",
       " 'ra': <Quantity 83.55 deg>,\n",
       " 'dec': <Quantity 22.05 deg>}"
      ]
     },
     "execution_count": 7,
     "metadata": {},
     "output_type": "execute_result"
    }
   ],
   "source": [
    "data = table_row_to_dict(table[0], make_quantity=True)\n",
    "data"
   ]
  },
  {
   "cell_type": "code",
   "execution_count": 14,
   "id": "0641750a",
   "metadata": {},
   "outputs": [],
   "source": [
    "SourceCatalogLHAASO.instantiate_from_fits()"
   ]
  },
  {
   "cell_type": "code",
   "execution_count": 15,
   "id": "c00a823f",
   "metadata": {},
   "outputs": [
    {
     "data": {
      "text/plain": [
       "[Source('2HWC J1825-134', 27.46.deg, 12.2.deg, 2hwc),\n",
       " Source('LHAASO J0534+2202', 83.55.deg, 22.05.deg, lhaaso-nature),\n",
       " Source('LHAASO J1825-1326', 276.45.deg, -13.45.deg, lhaaso-nature),\n",
       " Source('LHAASO J1839-0545', 279.95.deg, -5.75.deg, lhaaso-nature),\n",
       " Source('LHAASO J1843-0338', 280.75.deg, -3.65.deg, lhaaso-nature),\n",
       " Source('LHAASO J1849-0003', 282.35.deg, -0.05.deg, lhaaso-nature),\n",
       " Source('LHAASO J1908+0621', 287.05.deg, 6.35.deg, lhaaso-nature),\n",
       " Source('LHAASO J1929+1745', 292.25.deg, 17.75.deg, lhaaso-nature),\n",
       " Source('LHAASO J1956+2845', 299.05.deg, 28.75.deg, lhaaso-nature),\n",
       " Source('LHAASO J2018+3651', 304.75.deg, 36.85.deg, lhaaso-nature),\n",
       " Source('LHAASO J2032+4102', 308.05.deg, 41.05.deg, lhaaso-nature),\n",
       " Source('LHAASO J2108+5157', 317.15.deg, 51.95.deg, lhaaso-nature),\n",
       " Source('LHAASO J2226+6057', 336.75.deg, 60.95.deg, lhaaso-nature),\n",
       " Source('LHAASO J0534+2202', 83.55.deg, 22.05.deg, lhaaso-nature),\n",
       " Source('LHAASO J1825-1326', 276.45.deg, -13.45.deg, lhaaso-nature),\n",
       " Source('LHAASO J1839-0545', 279.95.deg, -5.75.deg, lhaaso-nature),\n",
       " Source('LHAASO J1843-0338', 280.75.deg, -3.65.deg, lhaaso-nature),\n",
       " Source('LHAASO J1849-0003', 282.35.deg, -0.05.deg, lhaaso-nature),\n",
       " Source('LHAASO J1908+0621', 287.05.deg, 6.35.deg, lhaaso-nature),\n",
       " Source('LHAASO J1929+1745', 292.25.deg, 17.75.deg, lhaaso-nature),\n",
       " Source('LHAASO J1956+2845', 299.05.deg, 28.75.deg, lhaaso-nature),\n",
       " Source('LHAASO J2018+3651', 304.75.deg, 36.85.deg, lhaaso-nature),\n",
       " Source('LHAASO J2032+4102', 308.05.deg, 41.05.deg, lhaaso-nature),\n",
       " Source('LHAASO J2108+5157', 317.15.deg, 51.95.deg, lhaaso-nature),\n",
       " Source('LHAASO J2226+6057', 336.75.deg, 60.95.deg, lhaaso-nature),\n",
       " Source('LHAASO J0534+2202', 83.55.deg, 22.05.deg, lhaaso-nature),\n",
       " Source('LHAASO J1825-1326', 276.45.deg, -13.45.deg, lhaaso-nature),\n",
       " Source('LHAASO J1839-0545', 279.95.deg, -5.75.deg, lhaaso-nature),\n",
       " Source('LHAASO J1843-0338', 280.75.deg, -3.65.deg, lhaaso-nature),\n",
       " Source('LHAASO J1849-0003', 282.35.deg, -0.05.deg, lhaaso-nature),\n",
       " Source('LHAASO J1908+0621', 287.05.deg, 6.35.deg, lhaaso-nature),\n",
       " Source('LHAASO J1929+1745', 292.25.deg, 17.75.deg, lhaaso-nature),\n",
       " Source('LHAASO J1956+2845', 299.05.deg, 28.75.deg, lhaaso-nature),\n",
       " Source('LHAASO J2018+3651', 304.75.deg, 36.85.deg, lhaaso-nature),\n",
       " Source('LHAASO J2032+4102', 308.05.deg, 41.05.deg, lhaaso-nature),\n",
       " Source('LHAASO J2108+5157', 317.15.deg, 51.95.deg, lhaaso-nature),\n",
       " Source('LHAASO J2226+6057', 336.75.deg, 60.95.deg, lhaaso-nature)]"
      ]
     },
     "execution_count": 15,
     "metadata": {},
     "output_type": "execute_result"
    }
   ],
   "source": [
    "Source.all"
   ]
  },
  {
   "cell_type": "code",
   "execution_count": null,
   "id": "eac59aa0",
   "metadata": {},
   "outputs": [],
   "source": [
    "table = Table().read(make_path(FILE_NAME))\n",
    "col_names = table.colnames\n",
    "for index, source in enumerate(table):\n",
    "    print(source)\n",
    "    _index, name, ra, dec, = table[index][col_names]\n",
    "    pos_ra = ra*table[\"ra\"].unit\n",
    "    pos_dec = dec*table[\"dec\"].unit\n",
    "    Source(name=name, pos_ra=pos_ra, pos_dec=pos_dec, catalog=None)"
   ]
  },
  {
   "cell_type": "code",
   "execution_count": null,
   "id": "b2860def",
   "metadata": {},
   "outputs": [],
   "source": [
    "print(table[0][\"ra\"])"
   ]
  },
  {
   "cell_type": "code",
   "execution_count": null,
   "id": "1621c0f6",
   "metadata": {},
   "outputs": [],
   "source": [
    "index, name, ra, dec =table[0][col_names]"
   ]
  },
  {
   "cell_type": "code",
   "execution_count": null,
   "id": "0e5a281c",
   "metadata": {},
   "outputs": [],
   "source": [
    "index, name, ra, dec"
   ]
  },
  {
   "cell_type": "code",
   "execution_count": null,
   "id": "e69094d8",
   "metadata": {},
   "outputs": [],
   "source": []
  }
 ],
 "metadata": {
  "kernelspec": {
   "display_name": "Python 3 (ipykernel)",
   "language": "python",
   "name": "python3"
  },
  "language_info": {
   "codemirror_mode": {
    "name": "ipython",
    "version": 3
   },
   "file_extension": ".py",
   "mimetype": "text/x-python",
   "name": "python",
   "nbconvert_exporter": "python",
   "pygments_lexer": "ipython3",
   "version": "3.9.18"
  }
 },
 "nbformat": 4,
 "nbformat_minor": 5
}
