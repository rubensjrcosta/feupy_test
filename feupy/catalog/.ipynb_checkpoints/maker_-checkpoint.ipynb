{
 "cells": [
  {
   "cell_type": "code",
   "execution_count": null,
   "id": "415e5336",
   "metadata": {},
   "outputs": [],
   "source": [
    "#https://github.com/gammapy/gamma-sky/tree/master\n",
    "#https://docs.gammapy.org/0.7/_modules/gammapy/catalog/xmatch.html#catalog_xmatch_circle"
   ]
  },
  {
   "cell_type": "code",
   "execution_count": 1,
   "id": "a4f92a95",
   "metadata": {},
   "outputs": [],
   "source": [
    "# from gammapy.datasets import FluxPointsDataset\n",
    "from astropy.coordinates import SkyCoord\n",
    "from astropy import units as u"
   ]
  },
  {
   "cell_type": "code",
   "execution_count": 7,
   "id": "2cbf656b",
   "metadata": {},
   "outputs": [],
   "source": [
    "from gammapy.utils.table import table_row_to_dict"
   ]
  },
  {
   "cell_type": "code",
   "execution_count": 5,
   "id": "088d5fec",
   "metadata": {},
   "outputs": [],
   "source": [
    "from feupy.analysis.roi import ROI\n",
    "from feupy.scripts.gammapy import catalogs \n",
    "from feupy.catalog.pulsar.atnf import PSR_PARAMS\n",
    "from feupy.catalog.pulsar.atnf import SourceCatalogATNF\n",
    "from feupy.catalog.lhaaso import SourceCatalogLHAASO\n",
    "from feupy.catalog.hawc import SourceCatalogHAWC\n",
    "from feupy.source.observations import Source\n",
    "# source = Source"
   ]
  },
  {
   "cell_type": "code",
   "execution_count": null,
   "id": "aeabb8a1",
   "metadata": {},
   "outputs": [],
   "source": [
    "# def get_catalogs(roi: ROI):\n",
    "#     position = roi.position \n",
    "#     radius = roi.radius \n",
    "#     source_catalogs = catalogs.load_all_catalogs()\n",
    "#         pulsar_catalog_atnf = SourceCatalogATNF()\n",
    "#     source_catalog_lhaaso =  SourceCatalogLHAASO().table()\n",
    "#     source_catalog_hawc =  SourceCatalogHAWC().table()"
   ]
  },
  {
   "cell_type": "code",
   "execution_count": 9,
   "id": "431bc542",
   "metadata": {},
   "outputs": [
    {
     "data": {
      "text/plain": [
       "'lhaaso-nature'"
      ]
     },
     "execution_count": 9,
     "metadata": {},
     "output_type": "execute_result"
    }
   ],
   "source": []
  },
  {
   "cell_type": "code",
   "execution_count": 10,
   "id": "ba0eeede",
   "metadata": {},
   "outputs": [],
   "source": [
    "def gammapy_catalog(roi: ROI):\n",
    "    \"\"\"\n",
    "    Gets catalogs subset (only sources within the radius of the region of interest)\n",
    "    \"\"\"\n",
    "    \n",
    "    catalogs_gammapy = catalogs.load_all_catalogs()\n",
    "\n",
    "    \n",
    "    position = roi.position \n",
    "    radius = roi.radius \n",
    "        \n",
    "    catalogs_roi = []\n",
    "    catalogs_roi_no = []\n",
    "    n_roi = 0\n",
    "    \n",
    "    n_tot = len(catalogs_gammapy)\n",
    "    for catalog in catalogs_gammapy:        \n",
    "        # Selects only sources within the region of interest. \n",
    "        mask_roi = position.separation(catalog.positions) < radius\n",
    "        \n",
    "        if len(catalog[mask_roi].table):\n",
    "            catalogs_roi.append(catalog[mask_roi])\n",
    "            n_roi += 1\n",
    "        else:\n",
    "            catalogs_roi_no.append(f\"{catalog.tag}: {catalog.description}\")\n",
    "    \n",
    "### chamar o printer\n",
    "#     if numbers_catalogs_roi:\n",
    "#         print(f\"\\n{numbers_catalogs_roi} catalogs with sources within the region of interest:\", end = \"\\n\\n\")\n",
    "#         for catalog in catalogs_roi:\n",
    "#             print(f\"{catalog.tag}: {catalog.description}\")\n",
    "#             display(catalog.table)\n",
    "#     else:\n",
    "#         print(\"No catalogs with sources in the region of interest!\", end = \"\\n\\n\")\n",
    "\n",
    "#     if numbers_catalogs_roi and len(catalogs_roi_no):\n",
    "#         print(\"Catalogs without sources within the region of interest:\", end = \"\\n\\n\")\n",
    "#         for index, catalog_no_counterpart in enumerate(catalogs_roi_no):                            \n",
    "#             print(catalog_no_counterpart)\n",
    "\n",
    "    return catalogs_roi"
   ]
  },
  {
   "cell_type": "code",
   "execution_count": null,
   "id": "1ad2084f",
   "metadata": {},
   "outputs": [],
   "source": [
    "# def gammapy_catalog(roi: ROI):\n",
    "#     \"\"\"\n",
    "#     Gets catalogs subset (only sources within the radius of the region of interest)\n",
    "#     \"\"\"\n",
    "    \n",
    "#     source_catalogs = catalogs.load_all_catalogs()\n",
    "#     source_position = roi.position \n",
    "#     radius = roi.radius \n",
    "        \n",
    "#     catalogs_roi = []\n",
    "#     catalogs_no_counterparts = []\n",
    "#     numbers_catalogs_roi = 0\n",
    "    \n",
    "#     for catalog in source_catalogs:        \n",
    "#         # Selects only sources within the region of interest. \n",
    "#         mask_roi = source_position.separation(catalog.positions) < radius\n",
    "        \n",
    "#         if len(catalog[mask_roi].table):\n",
    "#             catalogs_roi.append(catalog[mask_roi])\n",
    "#             numbers_catalogs_roi += 1\n",
    "#         else:\n",
    "#             catalogs_no_counterparts.append(f\"{catalog.tag}: {catalog.description}\")\n",
    "    \n",
    "#     if numbers_catalogs_roi:\n",
    "#         print(f\"\\n{numbers_catalogs_roi} catalogs with sources within the region of interest:\", end = \"\\n\\n\")\n",
    "#         for catalog in catalogs_roi:\n",
    "#             print(f\"{catalog.tag}: {catalog.description}\")\n",
    "#             display(catalog.table)\n",
    "#     else:\n",
    "#         print(\"No catalogs with sources in the region of interest!\", end = \"\\n\\n\")\n",
    "\n",
    "#     if numbers_catalogs_roi and len(catalogs_no_counterparts):\n",
    "#         print(\"Catalogs without sources within the region of interest:\", end = \"\\n\\n\")\n",
    "#         for index, catalog_no_counterpart in enumerate(catalogs_no_counterparts):                            \n",
    "#             print(catalog_no_counterpart)\n",
    "\n",
    "#     return catalogs_roi\n",
    "\n"
   ]
  },
  {
   "cell_type": "code",
   "execution_count": null,
   "id": "63fd3a1f",
   "metadata": {},
   "outputs": [],
   "source": [
    "# @u.quantity_input(pos_ra= u.deg,  pos_dec= u.deg, radius = u.deg)\n",
    "def atnf_catalog(roi: ROI, params=PSR_PARAMS):\n",
    "    \"\"\"\n",
    "    \"\"\"\n",
    "    cat=SourceCatalogATNF()\n",
    "    \n",
    "    dict_psr = []    \n",
    "    radius = roi.radius.value\n",
    "    \n",
    "    # define circular search region\n",
    "    search_region = [str(roi.position.ra), str(roi.position.dec), radius]\n",
    "    # query ATNF catalog\n",
    "    psrs = SourceCatalogATNF().query(params = params, circular_boundary = search_region)\n",
    "\n",
    "    if len(psrs) == 0:\n",
    "        print('no PSR found!')\n",
    "    else:\n",
    "        # pulsars position in SkyCoord form\n",
    "        cpsrs = SkyCoord(\n",
    "            ra=psrs['RAJ'], \n",
    "            dec=psrs['DECJ'], \n",
    "            frame='icrs',            \n",
    "            unit=(u.hourangle, u.deg)\n",
    "        )\n",
    "        print(f'{len(psrs)} PSRs found!')\n",
    "        # calculate angular separation between pulsars and target\n",
    "        sep = cpsrs.separation(roi.position)\n",
    "    \n",
    "    for index, _table in enumerate(psrs.table):\n",
    "        _dict = table_row_to_dict(_table, make_quantity=True)\n",
    "        dict_psr.append(_dict)\n",
    "    \n",
    "    return psrs.table, dict_psr, sep\n"
   ]
  },
  {
   "cell_type": "code",
   "execution_count": null,
   "id": "3bc9a5ef",
   "metadata": {},
   "outputs": [],
   "source": [
    "def lhaaso_catalog(roi: ROI):\n",
    "    \"\"\"\n",
    "    Gets catalogs subset (only sources within the radius of the region of interest)\n",
    "    \"\"\"\n",
    "    \n",
    "    catalog =  SourceCatalogLHAASO().table()\n",
    "    coords = SkyCoord(\n",
    "        ra=catalog['ra'], \n",
    "        dec=catalog['dec'], \n",
    "        frame='icrs',            \n",
    "        unit=(catalog['dec'].unit, \n",
    "              catalog['dec'].unit)\n",
    "    )\n",
    "    \n",
    "    source_position = roi.position \n",
    "    radius = roi.radius \n",
    "    mask_roi = source_position.separation(coords) < radius\n",
    "    catalog_roi = catalog[mask_roi]\n",
    "    return catalog_roi"
   ]
  },
  {
   "cell_type": "code",
   "execution_count": null,
   "id": "a1aa68f8",
   "metadata": {},
   "outputs": [],
   "source": [
    "def hawc_catalog(roi: ROI):\n",
    "    \"\"\"\n",
    "    Gets catalogs subset (only sources within the radius of the region of interest)\n",
    "    \"\"\"        \n",
    "    catalog =  SourceCatalogHAWC().table()\n",
    "    coords = SkyCoord(\n",
    "        ra=catalog['ra'], \n",
    "        dec=catalog['dec'], \n",
    "        frame='icrs',            \n",
    "        unit=(catalog['dec'].unit, \n",
    "              catalog['dec'].unit)\n",
    "    )\n",
    "    \n",
    "    source_position = roi.position \n",
    "    radius = roi.radius \n",
    "    mask_roi = source_position.separation(coords) < radius\n",
    "    catalog_roi = catalog[mask_roi]\n",
    "    return catalog_roi"
   ]
  },
  {
   "cell_type": "code",
   "execution_count": null,
   "id": "8969d5e5",
   "metadata": {},
   "outputs": [],
   "source": []
  }
 ],
 "metadata": {
  "kernelspec": {
   "display_name": "Python 3 (ipykernel)",
   "language": "python",
   "name": "python3"
  },
  "language_info": {
   "codemirror_mode": {
    "name": "ipython",
    "version": 3
   },
   "file_extension": ".py",
   "mimetype": "text/x-python",
   "name": "python",
   "nbconvert_exporter": "python",
   "pygments_lexer": "ipython3",
   "version": "3.9.18"
  }
 },
 "nbformat": 4,
 "nbformat_minor": 5
}
