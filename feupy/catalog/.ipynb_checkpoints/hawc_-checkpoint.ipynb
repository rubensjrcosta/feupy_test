{
 "cells": [
  {
   "cell_type": "code",
   "execution_count": 15,
   "id": "4d895f5c",
   "metadata": {},
   "outputs": [],
   "source": [
    "from feupy.source.observations import Source\n"
   ]
  },
  {
   "cell_type": "code",
   "execution_count": 16,
   "id": "e6f75224",
   "metadata": {},
   "outputs": [],
   "source": [
    "# Licensed under a 3-clause BSD style license - see LICENSE.rst\n",
    "\n",
    "# \"\"\"Pulsar default parameters\"\"\"\n",
    "FILE_NAME = \"$PYTHONPATH/feupy/data/flux_points/hawc-catalog.fits\"\n",
    "\n",
    "from astropy.table import Table\n",
    "from gammapy.utils.scripts import make_path\n",
    "    \n",
    "class SourceCatalogHAWC():\n",
    "    \"\"\"\n",
    "    \"\"\"    \n",
    "    tag = \"hawc\"\n",
    "    description = \"...\"\n",
    "    \n",
    "    \n",
    "    def __init__(self):\n",
    "        pass\n",
    "#         self.table = table\n",
    "        \n",
    "    def table(self):\n",
    "        _table = Table().read(make_path(FILE_NAME)) \n",
    "        _table.add_index('index')\n",
    "        return self._table\n",
    "\n",
    "\n",
    "    @classmethod\n",
    "    def instantiate_from_fits(cls):\n",
    "        table = Table().read(make_path(FILE_NAME))\n",
    "        col_names = table.colnames\n",
    "        for index, pulsar in enumerate(table):\n",
    "            index, name, ra, dec, = table[index][col_names]\n",
    "            pos_ra = ra*table[\"ra\"].unit\n",
    "            pos_dec = dec*table[\"dec\"].unit\n",
    "            Source(name=name,pos_ra=pos_ra,pos_dec=pos_dec)\n",
    "            \n",
    "    @classmethod            \n",
    "    def instantiate_from_data(cls, data):\n",
    "        name = data['name'] # JName: Pulsar name based on J2000 coordinates\n",
    "        pos_ra =  data['ra'] # Right ascension (J2000) (degrees)\n",
    "        pos_dec = data['dec'] # Declination (J2000) (degrees\n",
    "        Source(name=name,pos_ra=pos_ra,pos_dec=pos_dec)\n",
    "\n",
    "            \n",
    "    @classmethod\n",
    "    # Property Decorator = Read-Only Attribute\n",
    "    def table(cls):\n",
    "        _table = Table().read(make_path(FILE_NAME)) \n",
    "        _table.add_index('name')\n",
    "        return _table    \n",
    "\n",
    "#     @property        \n",
    "#     def version(self):\n",
    "#         return __query.get_version\n"
   ]
  },
  {
   "cell_type": "code",
   "execution_count": 17,
   "id": "51ad63f4",
   "metadata": {},
   "outputs": [
    {
     "data": {
      "text/html": [
       "<div><i>Table length=8</i>\n",
       "<table id=\"table140073716923936\" class=\"table-striped table-bordered table-condensed\">\n",
       "<thead><tr><th>index</th><th>name</th><th>ra</th><th>dec</th></tr></thead>\n",
       "<thead><tr><th></th><th></th><th>deg</th><th>deg</th></tr></thead>\n",
       "<thead><tr><th>int64</th><th>bytes14</th><th>float64</th><th>float64</th></tr></thead>\n",
       "<tr><td>0</td><td>2HWC J1825-134</td><td>276.46</td><td>-13.4</td></tr>\n",
       "<tr><td>1</td><td>HAWC J1825-138</td><td>276.38</td><td>-13.86</td></tr>\n",
       "<tr><td>2</td><td>HAWC J1826-128</td><td>276.5</td><td>-12.86</td></tr>\n",
       "<tr><td>3</td><td>HAWC J1825-134</td><td>276.44</td><td>-13.42</td></tr>\n",
       "<tr><td>4</td><td>eHWC J1825-134</td><td>276.4</td><td>-13.37</td></tr>\n",
       "<tr><td>5</td><td>eHWC J1907+063</td><td>286.91</td><td>6.32</td></tr>\n",
       "<tr><td>6</td><td>eHWC J2019+368</td><td>304.95</td><td>36.78</td></tr>\n",
       "<tr><td>7</td><td>2HWC J1837-065</td><td>279.36</td><td>-6.58</td></tr>\n",
       "</table></div>"
      ],
      "text/plain": [
       "<Table length=8>\n",
       "index      name         ra     dec  \n",
       "                       deg     deg  \n",
       "int64    bytes14     float64 float64\n",
       "----- -------------- ------- -------\n",
       "    0 2HWC J1825-134  276.46   -13.4\n",
       "    1 HAWC J1825-138  276.38  -13.86\n",
       "    2 HAWC J1826-128   276.5  -12.86\n",
       "    3 HAWC J1825-134  276.44  -13.42\n",
       "    4 eHWC J1825-134   276.4  -13.37\n",
       "    5 eHWC J1907+063  286.91    6.32\n",
       "    6 eHWC J2019+368  304.95   36.78\n",
       "    7 2HWC J1837-065  279.36   -6.58"
      ]
     },
     "execution_count": 17,
     "metadata": {},
     "output_type": "execute_result"
    }
   ],
   "source": [
    "Table().read(make_path(FILE_NAME)) "
   ]
  },
  {
   "cell_type": "code",
   "execution_count": 18,
   "id": "b17b0b88",
   "metadata": {},
   "outputs": [
    {
     "data": {
      "text/html": [
       "<i>Row index=0</i>\n",
       "<table id=\"table140073716921968\">\n",
       "<thead><tr><th>index</th><th>name</th><th>ra</th><th>dec</th></tr></thead>\n",
       "<thead><tr><th></th><th></th><th>deg</th><th>deg</th></tr></thead>\n",
       "<thead><tr><th>int64</th><th>bytes14</th><th>float64</th><th>float64</th></tr></thead>\n",
       "<tr><td>0</td><td>2HWC J1825-134</td><td>276.46</td><td>-13.4</td></tr>\n",
       "</table>"
      ],
      "text/plain": [
       "<Row index=0>\n",
       "index      name         ra     dec  \n",
       "                       deg     deg  \n",
       "int64    bytes14     float64 float64\n",
       "----- -------------- ------- -------\n",
       "    0 2HWC J1825-134  276.46   -13.4"
      ]
     },
     "execution_count": 18,
     "metadata": {},
     "output_type": "execute_result"
    }
   ],
   "source": [
    "table = SourceCatalogHAWC().table()\n",
    "table[0]"
   ]
  },
  {
   "cell_type": "code",
   "execution_count": 19,
   "id": "9f877640",
   "metadata": {},
   "outputs": [
    {
     "data": {
      "text/html": [
       "<div><i>Table length=8</i>\n",
       "<table id=\"table140073715373680\" class=\"table-striped table-bordered table-condensed\">\n",
       "<thead><tr><th>index</th><th>name</th><th>ra</th><th>dec</th></tr></thead>\n",
       "<thead><tr><th></th><th></th><th>deg</th><th>deg</th></tr></thead>\n",
       "<thead><tr><th>int64</th><th>bytes14</th><th>float64</th><th>float64</th></tr></thead>\n",
       "<tr><td>0</td><td>2HWC J1825-134</td><td>276.46</td><td>-13.4</td></tr>\n",
       "<tr><td>1</td><td>HAWC J1825-138</td><td>276.38</td><td>-13.86</td></tr>\n",
       "<tr><td>2</td><td>HAWC J1826-128</td><td>276.5</td><td>-12.86</td></tr>\n",
       "<tr><td>3</td><td>HAWC J1825-134</td><td>276.44</td><td>-13.42</td></tr>\n",
       "<tr><td>4</td><td>eHWC J1825-134</td><td>276.4</td><td>-13.37</td></tr>\n",
       "<tr><td>5</td><td>eHWC J1907+063</td><td>286.91</td><td>6.32</td></tr>\n",
       "<tr><td>6</td><td>eHWC J2019+368</td><td>304.95</td><td>36.78</td></tr>\n",
       "<tr><td>7</td><td>2HWC J1837-065</td><td>279.36</td><td>-6.58</td></tr>\n",
       "</table></div>"
      ],
      "text/plain": [
       "<Table length=8>\n",
       "index      name         ra     dec  \n",
       "                       deg     deg  \n",
       "int64    bytes14     float64 float64\n",
       "----- -------------- ------- -------\n",
       "    0 2HWC J1825-134  276.46   -13.4\n",
       "    1 HAWC J1825-138  276.38  -13.86\n",
       "    2 HAWC J1826-128   276.5  -12.86\n",
       "    3 HAWC J1825-134  276.44  -13.42\n",
       "    4 eHWC J1825-134   276.4  -13.37\n",
       "    5 eHWC J1907+063  286.91    6.32\n",
       "    6 eHWC J2019+368  304.95   36.78\n",
       "    7 2HWC J1837-065  279.36   -6.58"
      ]
     },
     "execution_count": 19,
     "metadata": {},
     "output_type": "execute_result"
    }
   ],
   "source": [
    " Table().read(make_path(FILE_NAME)) "
   ]
  },
  {
   "cell_type": "code",
   "execution_count": 20,
   "id": "f9050eda",
   "metadata": {},
   "outputs": [],
   "source": [
    "from gammapy.utils.table import table_row_to_dict"
   ]
  },
  {
   "cell_type": "code",
   "execution_count": 21,
   "id": "44e15a55",
   "metadata": {},
   "outputs": [
    {
     "data": {
      "text/plain": [
       "{'index': 0,\n",
       " 'name': '2HWC J1825-134',\n",
       " 'ra': <Quantity 276.46 deg>,\n",
       " 'dec': <Quantity -13.4 deg>}"
      ]
     },
     "execution_count": 21,
     "metadata": {},
     "output_type": "execute_result"
    }
   ],
   "source": [
    "data = table_row_to_dict(table[0], make_quantity=True)\n",
    "data"
   ]
  },
  {
   "cell_type": "code",
   "execution_count": null,
   "id": "9272391c",
   "metadata": {},
   "outputs": [],
   "source": []
  }
 ],
 "metadata": {
  "kernelspec": {
   "display_name": "Python 3 (ipykernel)",
   "language": "python",
   "name": "python3"
  },
  "language_info": {
   "codemirror_mode": {
    "name": "ipython",
    "version": 3
   },
   "file_extension": ".py",
   "mimetype": "text/x-python",
   "name": "python",
   "nbconvert_exporter": "python",
   "pygments_lexer": "ipython3",
   "version": "3.9.18"
  }
 },
 "nbformat": 4,
 "nbformat_minor": 5
}
