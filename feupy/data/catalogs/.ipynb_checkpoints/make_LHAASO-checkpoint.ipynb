{
 "cells": [
  {
   "cell_type": "code",
   "execution_count": 12,
   "id": "55fa46a6",
   "metadata": {},
   "outputs": [
    {
     "data": {
      "text/plain": [
       "'\\nThis script converts `LHAASO_publishNature.pkl` to FITS format.\\n\\nLHAASO_publishNature catalog are the twelve LHAASO sources from this paper:\\nhttps://www.nature.com/articles/s41586-021-03498-z\\n'"
      ]
     },
     "execution_count": 12,
     "metadata": {},
     "output_type": "execute_result"
    }
   ],
   "source": [
    "\"\"\"\n",
    "This script converts `LHAASO_publishNature.pkl` to FITS format.\n",
    "\n",
    "LHAASO_publishNature catalog are the twelve LHAASO sources from this paper:\n",
    "https://www.nature.com/articles/s41586-021-03498-z\n",
    "\"\"\""
   ]
  },
  {
   "cell_type": "code",
   "execution_count": 1,
   "id": "14e8609e",
   "metadata": {},
   "outputs": [],
   "source": [
    "from feupy.config import *\n",
    "from feupy.models.spectral_models import *\n",
    "\n",
    "from astropy.coordinates import SkyCoord\n",
    "from astropy.table import Table, Column\n",
    "\n",
    "import numpy as np"
   ]
  },
  {
   "cell_type": "code",
   "execution_count": 10,
   "id": "d78f83aa",
   "metadata": {},
   "outputs": [],
   "source": [
    "\"\"\"dict_keys: Source name based on J2000 coordinates\n",
    "'position': SkyCoord(Right Ascension (J2000), Declination (J2000), unit='deg', frame='icrs')\n",
    "'signicance_100TeV': Statistical significance of detection above 100 TeV (calculated using a point-like template for the Crab Nebula and LHAASO J2108+5157 and 0.3° extension templates for the other sources)\n",
    "'E_max': (Detected highest photon energy,  The corresponding error)\n",
    "'flux_100TeV': (Differential photon fluxes at 100 TeV, The corresponding error)\n",
    "\"\"\"\n",
    "\n",
    "data_name='LHAASO_publishNature'\n",
    "data={\n",
    "  'LHAASO J0534+2202': {\n",
    "    'position': SkyCoord(83.55, 22.05, unit=UNIT_DEG, frame=FRAME_ICRS),\n",
    "    'signicance_100TeV': 17.8,\n",
    "    'E_max':(0.88, 0.11)*u.Unit('PeV'),\n",
    "    'flux_100TeV':(1.00, 0.14)*CU,\n",
    "    'sky_model': None},\n",
    "  'LHAASO J1825-1326': {\n",
    "    'position': SkyCoord(276.45, -13.45, unit=UNIT_DEG, frame=FRAME_ICRS),\n",
    "    'signicance_100TeV': 16.4,\n",
    "    'E_max':(0.42, 0.16)*u.Unit('PeV'),\n",
    "    'flux_100TeV': (3.57, 0.52)*CU,\n",
    "    'sky_model': sky_model_lp(\n",
    "      alpha=0.92,\n",
    "      amplitude='1e-12 cm-2 s-1 TeV-1',\n",
    "      reference=10*u.TeV,\n",
    "      beta=1.19,\n",
    "      datasets_names='LHAASO J1825-1326')},  \n",
    "  'LHAASO J1839-0545': {\n",
    "    'position': SkyCoord(279.95, -5.75, unit=UNIT_DEG, frame=FRAME_ICRS),\n",
    "    'signicance_100TeV': 7.7,\n",
    "    'E_max': (0.21, 0.05)*u.Unit('PeV'),\n",
    "    'flux_100TeV': (0.70, 0.18)*CU,\n",
    "    'sky_model': None},  \n",
    "  'LHAASO J1843-0338': {\n",
    "    'position': SkyCoord(280.75, -3.65, unit=UNIT_DEG, frame=FRAME_ICRS),\n",
    "    'signicance_100TeV': 8.5,\n",
    "    'E_max' :(0.26, 0.10)*u.Unit('PeV'),\n",
    "    'flux_100TeV': (0.73,0.17)*CU,\n",
    "    'sky_model': None\n",
    "  }, \n",
    "  'LHAASO J1849-0003': {\n",
    "    'position': SkyCoord(282.35, -0.05, unit=UNIT_DEG, frame=FRAME_ICRS),\n",
    "    'signicance_100TeV': 10.4,\n",
    "    'E_max': (0.35, 0.07)*u.Unit('PeV'),\n",
    "    'flux_100TeV': (0.74, 0.15)*CU,\n",
    "    'sky_model': None}, \n",
    "  'LHAASO J1908+0621': {\n",
    "    'position': SkyCoord(287.05, 6.35, unit=UNIT_DEG, frame=FRAME_ICRS),\n",
    "    'signicance_100TeV': 17.2,\n",
    "    'E_max': (0.44, 0.05)*u.Unit('PeV'),\n",
    "    'flux_100TeV': (1.36, 0.18)*CU,\n",
    "    'sky_model': sky_model_lp(\n",
    "    alpha=2.27,\n",
    "    amplitude='1e-12 cm-2 s-1 TeV-1',\n",
    "    reference=10*u.TeV,\n",
    "    beta=0.46,\n",
    "    datasets_names='LHAASO J1908+0621')},\n",
    "  'LHAASO J1929+1745': {\n",
    "    'position': SkyCoord(292.25, 17.75, unit=UNIT_DEG, frame=FRAME_ICRS),\n",
    "    'signicance_100TeV': 7.4,\n",
    "    'E_max': (0.71, 0.07)*u.Unit('PeV'),\n",
    "    'flux_100TeV': (0.38, 0.09)*CU,\n",
    "    'sky_model': None},  \n",
    "  'LHAASO J1956+2845': {\n",
    "    'position': SkyCoord(299.05, 28.75, unit=UNIT_DEG, frame=FRAME_ICRS),\n",
    "    'signicance_100TeV': 7.4,\n",
    "    'E_max': (0.42, 0.03)*u.Unit('PeV'),\n",
    "    'flux_100TeV': (0.41, 0.09)*CU,\n",
    "    'sky_model': None},\n",
    "  'LHAASO J2018+3651': {\n",
    "    'position': SkyCoord(304.75, 36.85, unit=UNIT_DEG, frame=FRAME_ICRS),\n",
    "    'signicance_100TeV': 10.4,\n",
    "    'E_max': (0.27, 0.02)*u.Unit('PeV'),\n",
    "    'flux_100TeV': (0.50, 0.10)*CU,\n",
    "    'sky_model': None},\n",
    "  'LHAASO J2032+4102': {\n",
    "    'position': SkyCoord(308.05, 41.05, unit=UNIT_DEG, frame=FRAME_ICRS),\n",
    "    'signicance_100TeV': 10.5,\n",
    "    'E_max': (1.42, 0.13)*u.Unit('PeV'),\n",
    "    'flux_100TeV': (0.54, 0.10)*CU,\n",
    "    'sky_model': None},\n",
    "  'LHAASO J2108+5157': {\n",
    "    'position': SkyCoord(317.15, 51.95, unit=UNIT_DEG, frame=FRAME_ICRS),\n",
    "    'signicance_100TeV': 8.3,\n",
    "    'E_max': (0.43, 0.05)*u.Unit('PeV'),\n",
    "    'flux_100TeV': (0.38, 0.09)*CU,\n",
    "    'sky_model': None},\n",
    "  'LHAASO J2226+6057': {\n",
    "    'position': SkyCoord(336.75, 60.95, unit=UNIT_DEG, frame=FRAME_ICRS),\n",
    "    'signicance_100TeV': 13.6,\n",
    "    'E_max': (0.57, 0.19)*u.Unit('PeV'),\n",
    "    'flux_100TeV': (1.05, 0.16)*CU,\n",
    "    'sky_model': sky_model_lp(\n",
    "    alpha=1.56,\n",
    "    amplitude='1e-12 cm-2 s-1 TeV-1',\n",
    "    reference=10*u.TeV,\n",
    "    beta=0.88,\n",
    "    datasets_names='LHAASO J2226+6057')}\n",
    "}"
   ]
  },
  {
   "cell_type": "code",
   "execution_count": 11,
   "id": "2fe1c3c8",
   "metadata": {},
   "outputs": [],
   "source": [
    "import pickle\n",
    "with open(f\"{data_name}.pkl\", \"wb\") as fp:  \n",
    "        pickle.dump(data, fp)     \n",
    "# with open(f\"{data_name}.pkl\", \"rb\") as fp:  \n",
    "#     data = pickle.load(fp)\n",
    "# data"
   ]
  },
  {
   "cell_type": "code",
   "execution_count": null,
   "id": "fabc38eb",
   "metadata": {},
   "outputs": [],
   "source": []
  },
  {
   "cell_type": "code",
   "execution_count": null,
   "id": "eb70f127",
   "metadata": {},
   "outputs": [],
   "source": [
    "from gammapy.modeling.models import SpectralModel\n"
   ]
  },
  {
   "cell_type": "code",
   "execution_count": null,
   "id": "526a1877",
   "metadata": {},
   "outputs": [],
   "source": [
    "names = list(data.keys())\n",
    "array = np.empty((len(names)))\n",
    "\n",
    "table = Table()\n",
    "table.meta['catalog_name'] = data_name\n",
    "table.meta['reference'] = 'https://doi.org/10.1038/s41586-021-03498-z'\n",
    "table[\"index\"] = list(range(0, len(names), 1))\n",
    "table['source_name'] = names\n",
    "table['source_name'].description = 'Source name'\n",
    "table['ra'] = Column(\n",
    "    data=array,\n",
    "    description='Right Ascension (J2000)', unit='deg', format='.3f',\n",
    ")\n",
    "table['dec'] = Column(\n",
    "    data=array,\n",
    "    description='Declination (J2000)', unit='deg', format='.3f',\n",
    ")\n",
    "table['signicance_100TeV'] = Column(\n",
    "    data=array,\n",
    "    description='ignicance above 100TeV (J2000)', unit='deg', format='.3f',\n",
    ")\n",
    "\n",
    "table['spectral_model_type'] = names\n",
    "table['spectral_model_type'].description = 'Spectral Model Type'\n",
    "# table['spectral_model'].dtype = SpectralModel\n",
    "\n",
    "for index, name in enumerate(names):\n",
    "    table['ra'][index] =  data[name][\"position\"].ra.value\n",
    "    table['dec'][index] = data[name][\"position\"].dec.value\n",
    "    if data[name][\"sky_model\"]:\n",
    "        table['spectral_model_type'][index] = data[name][\"sky_model\"].spectral_model.tag[1]\n",
    "    else: table['spectral_model_type'][index] = None"
   ]
  },
  {
   "cell_type": "code",
   "execution_count": null,
   "id": "ca133ecd",
   "metadata": {},
   "outputs": [],
   "source": []
  },
  {
   "cell_type": "code",
   "execution_count": null,
   "id": "1a553ca2",
   "metadata": {},
   "outputs": [],
   "source": []
  },
  {
   "cell_type": "code",
   "execution_count": null,
   "id": "c14aeaab",
   "metadata": {},
   "outputs": [],
   "source": []
  },
  {
   "cell_type": "code",
   "execution_count": null,
   "id": "f6755215",
   "metadata": {},
   "outputs": [],
   "source": []
  },
  {
   "cell_type": "code",
   "execution_count": null,
   "id": "e5021b56",
   "metadata": {},
   "outputs": [],
   "source": []
  },
  {
   "cell_type": "code",
   "execution_count": null,
   "id": "eeee3246",
   "metadata": {},
   "outputs": [],
   "source": [
    "table.write(f\"{data_name}.fits\",\n",
    "    format = 'fits', \n",
    "    overwrite = True\n",
    ") "
   ]
  },
  {
   "cell_type": "code",
   "execution_count": null,
   "id": "41f31bb1",
   "metadata": {},
   "outputs": [],
   "source": [
    "t = table.read(f\"{dict_name}.fits\")   \n",
    "t"
   ]
  },
  {
   "cell_type": "code",
   "execution_count": null,
   "id": "b742328e",
   "metadata": {},
   "outputs": [],
   "source": []
  }
 ],
 "metadata": {
  "ipub": {
   "titlepage": {
    "author": "R. P. Costa Jr.",
    "email": "rubensp@utfpr.edu.br",
    "institution": [
     "Federal University of Technology – Paraná (UTFPR) "
    ],
    "tagline": "A TeV Astronomy Python package based on Gammapy.",
    "title": "feupy"
   }
  },
  "kernelspec": {
   "display_name": "Python 3 (ipykernel)",
   "language": "python",
   "name": "python3"
  },
  "language_info": {
   "codemirror_mode": {
    "name": "ipython",
    "version": 3
   },
   "file_extension": ".py",
   "mimetype": "text/x-python",
   "name": "python",
   "nbconvert_exporter": "python",
   "pygments_lexer": "ipython3",
   "version": "3.9.18"
  }
 },
 "nbformat": 4,
 "nbformat_minor": 5
}
