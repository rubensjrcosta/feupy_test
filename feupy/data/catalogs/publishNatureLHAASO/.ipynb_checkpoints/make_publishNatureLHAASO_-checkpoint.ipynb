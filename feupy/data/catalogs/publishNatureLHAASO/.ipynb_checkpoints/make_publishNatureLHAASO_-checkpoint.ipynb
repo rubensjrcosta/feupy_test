{
 "cells": [
  {
   "cell_type": "code",
   "execution_count": 15,
   "id": "3e41b2dd",
   "metadata": {},
   "outputs": [
    {
     "data": {
      "text/plain": [
       "'\\nThis script converts `publishNatureLHAASO.pkl` to FITS format.\\n\\npublishNatureLHAASO catalog are the twelve LHAASO sources from this paper:\\nhttps://www.nature.com/articles/s41586-021-03498-z\\n'"
      ]
     },
     "execution_count": 15,
     "metadata": {},
     "output_type": "execute_result"
    }
   ],
   "source": [
    "\"\"\"\n",
    "This script converts `publishNatureLHAASO.pkl` to FITS format.\n",
    "\n",
    "publishNatureLHAASO catalog are the twelve LHAASO sources from this paper:\n",
    "https://www.nature.com/articles/s41586-021-03498-z\n",
    "\"\"\""
   ]
  },
  {
   "cell_type": "code",
   "execution_count": 16,
   "id": "14e8609e",
   "metadata": {},
   "outputs": [],
   "source": [
    "import numpy as np\n",
    "import pickle\n",
    "\n",
    "from feupy.config import *\n",
    "from feupy.utils.string_handling import *\n",
    "from feupy.utils.table import *\n",
    "\n",
    "from astropy.coordinates import SkyCoord\n",
    "from astropy.table import Table, Column\n",
    "\n",
    "from gammapy.utils.scripts import make_path\n",
    "from gammapy.modeling.models import LogParabolaSpectralModel"
   ]
  },
  {
   "cell_type": "code",
   "execution_count": 17,
   "id": "d78f83aa",
   "metadata": {},
   "outputs": [],
   "source": [
    "\"\"\"dict_keys: Source name based on J2000 coordinates\n",
    "'position': SkyCoord(Right Ascension (J2000), Declination (J2000), unit='deg', frame='icrs')\n",
    "'significance_100TeV': Statistical significance of detection above 100 TeV (calculated using a point-like template for the Crab Nebula and LHAASO J2108+5157 and 0.3° extension templates for the other sources)\n",
    "'E_max': (Detected highest photon energy,  The corresponding error)\n",
    "'flux_100TeV': (Differential photon fluxes at 100 TeV, The corresponding error)\n",
    "\"\"\"\n",
    "\n",
    "data_name='publishNatureLHAASO'\n",
    "data={\n",
    "    'LHAASO J0534+2202': {\n",
    "        'position': SkyCoord(83.55, 22.05, unit=UNIT_DEG, frame=FRAME_ICRS),\n",
    "        'significance_100TeV': 17.8,\n",
    "        'E_max':(0.88, 0.11)*u.Unit('PeV'),\n",
    "        'flux_100TeV':(1.00, 0.14)*CU,\n",
    "        'spectral_model': None},\n",
    "    'LHAASO J1825-1326': {\n",
    "        'position': SkyCoord(276.45, -13.45, unit=UNIT_DEG, frame=FRAME_ICRS),\n",
    "        'significance_100TeV': 16.4,\n",
    "        'E_max':(0.42, 0.16)*u.Unit('PeV'),\n",
    "        'flux_100TeV': (3.57, 0.52)*CU,\n",
    "        'spectral_model': LogParabolaSpectralModel(\n",
    "            alpha=0.92,\n",
    "            amplitude='1e-12 cm-2 s-1 TeV-1',\n",
    "            reference=10*u.TeV,\n",
    "            beta=1.19)},  \n",
    "    'LHAASO J1839-0545': {\n",
    "        'position': SkyCoord(279.95, -5.75, unit=UNIT_DEG, frame=FRAME_ICRS),\n",
    "        'significance_100TeV': 7.7,\n",
    "        'E_max': (0.21, 0.05)*u.Unit('PeV'),\n",
    "        'flux_100TeV': (0.70, 0.18)*CU,\n",
    "        'spectral_model': None},  \n",
    "    'LHAASO J1843-0338': {\n",
    "        'position': SkyCoord(280.75, -3.65, unit=UNIT_DEG, frame=FRAME_ICRS),\n",
    "        'significance_100TeV': 8.5,\n",
    "        'E_max' :(0.26, 0.10)*u.Unit('PeV'),\n",
    "        'flux_100TeV': (0.73,0.17)*CU,\n",
    "        'spectral_model': None}, \n",
    "    'LHAASO J1849-0003': {\n",
    "        'position': SkyCoord(282.35, -0.05, unit=UNIT_DEG, frame=FRAME_ICRS),\n",
    "        'significance_100TeV': 10.4,\n",
    "        'E_max': (0.35, 0.07)*u.Unit('PeV'),\n",
    "        'flux_100TeV': (0.74, 0.15)*CU,\n",
    "        'spectral_model': None}, \n",
    "    'LHAASO J1908+0621': {\n",
    "        'position': SkyCoord(287.05, 6.35, unit=UNIT_DEG, frame=FRAME_ICRS),\n",
    "        'significance_100TeV': 17.2,\n",
    "        'E_max': (0.44, 0.05)*u.Unit('PeV'),\n",
    "        'flux_100TeV': (1.36, 0.18)*CU,\n",
    "        'spectral_model': LogParabolaSpectralModel(\n",
    "            alpha=2.27,\n",
    "            amplitude='1e-12 cm-2 s-1 TeV-1',\n",
    "            reference=10*u.TeV,\n",
    "            beta=0.46)},\n",
    "    'LHAASO J1929+1745': {\n",
    "        'position': SkyCoord(292.25, 17.75, unit=UNIT_DEG, frame=FRAME_ICRS),\n",
    "        'significance_100TeV': 7.4,\n",
    "        'E_max': (0.71, 0.07)*u.Unit('PeV'),\n",
    "        'flux_100TeV': (0.38, 0.09)*CU,\n",
    "        'spectral_model': None},  \n",
    "    'LHAASO J1956+2845': {\n",
    "        'position': SkyCoord(299.05, 28.75, unit=UNIT_DEG, frame=FRAME_ICRS),\n",
    "        'significance_100TeV': 7.4,\n",
    "        'E_max': (0.42, 0.03)*u.Unit('PeV'),\n",
    "        'flux_100TeV': (0.41, 0.09)*CU,\n",
    "        'spectral_model': None},\n",
    "    'LHAASO J2018+3651': {\n",
    "        'position': SkyCoord(304.75, 36.85, unit=UNIT_DEG, frame=FRAME_ICRS),\n",
    "        'significance_100TeV': 10.4,\n",
    "        'E_max': (0.27, 0.02)*u.Unit('PeV'),\n",
    "        'flux_100TeV': (0.50, 0.10)*CU,\n",
    "        'spectral_model': None},\n",
    "    'LHAASO J2032+4102': {\n",
    "        'position': SkyCoord(308.05, 41.05, unit=UNIT_DEG, frame=FRAME_ICRS),\n",
    "        'significance_100TeV': 10.5,\n",
    "        'E_max': (1.42, 0.13)*u.Unit('PeV'),\n",
    "        'flux_100TeV': (0.54, 0.10)*CU,\n",
    "        'spectral_model': None},\n",
    "    'LHAASO J2108+5157': {\n",
    "        'position': SkyCoord(317.15, 51.95, unit=UNIT_DEG, frame=FRAME_ICRS),\n",
    "        'significance_100TeV': 8.3,\n",
    "        'E_max': (0.43, 0.05)*u.Unit('PeV'),\n",
    "        'flux_100TeV': (0.38, 0.09)*CU,\n",
    "        'spectral_model': None},\n",
    "    'LHAASO J2226+6057': {\n",
    "        'position': SkyCoord(336.75, 60.95, unit=UNIT_DEG, frame=FRAME_ICRS),\n",
    "        'significance_100TeV': 13.6,\n",
    "        'E_max': (0.57, 0.19)*u.Unit('PeV'),\n",
    "        'flux_100TeV': (1.05, 0.16)*CU,\n",
    "        'spectral_model': LogParabolaSpectralModel(\n",
    "            alpha=1.56,\n",
    "            amplitude='1e-12 cm-2 s-1 TeV-1',\n",
    "            reference=10*u.TeV,\n",
    "            beta=0.88)}\n",
    "    }"
   ]
  },
  {
   "cell_type": "code",
   "execution_count": 18,
   "id": "55a9b557",
   "metadata": {},
   "outputs": [],
   "source": [
    "with open(f\"{data_name}.pkl\", \"wb\") as fp:  \n",
    "        pickle.dump(data, fp)     \n",
    "# with open(f\"{data_name}.pkl\", \"rb\") as fp:  \n",
    "#     data = pickle.load(fp)\n",
    "# data"
   ]
  },
  {
   "cell_type": "code",
   "execution_count": 19,
   "id": "526a1877",
   "metadata": {},
   "outputs": [],
   "source": [
    "names = list(data.keys())\n",
    "array = np.empty((len(names)))\n",
    "\n",
    "table = Table()\n",
    "table.meta['catalog_name'] = data_name\n",
    "table.meta[\"SED_TYPE\"] = \"e2dnde\"\n",
    "table.meta['reference'] = 'https://doi.org/10.1038/s41586-021-03498-z'\n",
    "table[\"index\"] = list(range(0, len(names), 1))\n",
    "table['source_name'] = names\n",
    "table['source_name'].description = 'Source name'\n",
    "table['ra'] = Column(\n",
    "    data=array,\n",
    "    description='Right Ascension (J2000)', unit='deg', format='.2f',\n",
    ")\n",
    "table['dec'] = Column(\n",
    "    data=array,\n",
    "    description='Declination (J2000)', unit='deg', format='.2f',\n",
    ")\n",
    "table['significance_100TeV'] = Column(\n",
    "    data=array,\n",
    "    description='Significance above 100TeV', format='.1f',\n",
    ")\n",
    "table['E_max'] = Column(\n",
    "    data=array,\n",
    "    description='Detected highest photon energy', unit='PeV', format='.2f',\n",
    ")\n",
    "table['E_max_err'] = Column(\n",
    "    data=array,\n",
    "    description='Detected highest photon energy error', unit='PeV', format='.2f',\n",
    ")\n",
    "table['flux_100TeV'] = Column(\n",
    "    data=array,\n",
    "    description='Differential photon fluxes at 100 TeV', unit=CU.unit, format='.2e',\n",
    ")\n",
    "table['flux_100TeV_err'] = Column(\n",
    "    data=array,\n",
    "    description='Differential photon fluxes at 100 TeV error', unit=CU.unit, format='.2e',\n",
    ")\n",
    "table['spectral_model_type'] = names\n",
    "table['spectral_model_type'].description = 'Spectral Model Type'\n",
    "\n",
    "# table['spectral_model'].dtype = SpectralModel\n",
    "\n",
    "for index, name in enumerate(names):\n",
    "    table['ra'][index] =  data[name][\"position\"].ra.value\n",
    "    table['dec'][index] = data[name][\"position\"].dec.value\n",
    "    table['significance_100TeV'][index] = data[name][\"significance_100TeV\"]\n",
    "    table['E_max'][index] = data[name][\"E_max\"][0].value\n",
    "    table['E_max_err'][index] = data[name][\"E_max\"][1].value\n",
    "    table['flux_100TeV'][index] = data[name][\"flux_100TeV\"][0].value\n",
    "    table['flux_100TeV_err'][index] = data[name][\"flux_100TeV\"][1].value\n",
    "    if data[name][\"spectral_model\"]:\n",
    "        table['spectral_model_type'][index] = data[name][\"spectral_model\"].tag[1]\n",
    "    else: table['spectral_model_type'][index] = None"
   ]
  },
  {
   "cell_type": "code",
   "execution_count": 20,
   "id": "eeee3246",
   "metadata": {
    "scrolled": true
   },
   "outputs": [],
   "source": [
    "# table.write(f\"{data_name}.fits\",\n",
    "#     format = 'fits', \n",
    "#     overwrite = True\n",
    "# ) \n",
    "# table.read(f\"{data_name}.fits\")   "
   ]
  },
  {
   "cell_type": "code",
   "execution_count": 21,
   "id": "9d0b4dac",
   "metadata": {},
   "outputs": [],
   "source": [
    "FILE_PATH = \"$PYTHONPATH/feupy/data/catalogs/publishNatureLHAASO/flux_points_tables/\"\n",
    "length=9\n",
    "e_ref = []\n",
    "e2dnde = []\n",
    "e2dnde_errp = []\n",
    "e2dnde_errn = []\n",
    "is_ul = []\n",
    "for index, name in enumerate(names):\n",
    "    _table = Table.read(make_path(f'{FILE_PATH}{name_to_txt(name)}.fits')) \n",
    "    e_ref.append(append_nones(length=length, list_=list(_table['e_ref'])))\n",
    "    e2dnde.append(append_nones(length=length, list_=list(_table['e2dnde'])))\n",
    "    e2dnde_errp.append(append_nones(length=length, list_=list(_table['e2dnde_errp'])))\n",
    "    e2dnde_errn.append(append_nones(length=length, list_=list(_table['e2dnde_errn'])))\n",
    "    is_ul.append(append_nones(length=length, list_=list(_table['is_ul'])))\n",
    "col_1 = Column(name='e_ref', description='Reference Energy', data=u.Quantity(e_ref, 'TeV'))\n",
    "col_2 = Column(name='e2dnde', description='e2dnde', data=u.Quantity(e2dnde, 'TeV cm-2 s-1'))\n",
    "col_3 = Column(name='e2dnde_errp', description='e2dnde_errp', data=u.Quantity(e2dnde_errp, 'TeV cm-2 s-1'))\n",
    "col_4 = Column(name='e2dnde_errn', description='e2dnde_errn', data=u.Quantity(e2dnde_errn, 'TeV cm-2 s-1'))\n",
    "col_5 = Column(name='is_ul', description='is_ul', data=is_ul,dtype=bool)\n",
    "table.add_columns([col_1,col_2,col_3,col_4,col_5])\n",
    "# table"
   ]
  },
  {
   "cell_type": "code",
   "execution_count": 22,
   "id": "df1f1ff1",
   "metadata": {},
   "outputs": [
    {
     "name": "stderr",
     "output_type": "stream",
     "text": [
      "WARNING: VerifyWarning: Keyword name 'catalog_name' is greater than 8 characters or contains characters not allowed by the FITS standard; a HIERARCH card will be created. [astropy.io.fits.card]\n",
      "WARNING: VerifyWarning: Keyword name 'reference' is greater than 8 characters or contains characters not allowed by the FITS standard; a HIERARCH card will be created. [astropy.io.fits.card]\n"
     ]
    }
   ],
   "source": [
    "table.write(f\"{data_name}.fits\",\n",
    "    format = 'fits', \n",
    "    overwrite = True\n",
    ") "
   ]
  },
  {
   "cell_type": "code",
   "execution_count": 23,
   "id": "65e0c382",
   "metadata": {},
   "outputs": [],
   "source": [
    "# t=table.read(f\"{data_name}.fits\") \n",
    "# t['e2dnde'][0]"
   ]
  },
  {
   "cell_type": "code",
   "execution_count": null,
   "id": "f77b0433",
   "metadata": {},
   "outputs": [],
   "source": []
  },
  {
   "cell_type": "code",
   "execution_count": null,
   "id": "b670ba82",
   "metadata": {},
   "outputs": [],
   "source": []
  }
 ],
 "metadata": {
  "ipub": {
   "titlepage": {
    "author": "R. P. Costa Jr.",
    "email": "rubensp@utfpr.edu.br",
    "institution": [
     "Federal University of Technology – Paraná (UTFPR) "
    ],
    "tagline": "A TeV Astronomy Python package based on Gammapy.",
    "title": "feupy"
   }
  },
  "kernelspec": {
   "display_name": "Python 3 (ipykernel)",
   "language": "python",
   "name": "python3"
  },
  "language_info": {
   "codemirror_mode": {
    "name": "ipython",
    "version": 3
   },
   "file_extension": ".py",
   "mimetype": "text/x-python",
   "name": "python",
   "nbconvert_exporter": "python",
   "pygments_lexer": "ipython3",
   "version": "3.9.18"
  }
 },
 "nbformat": 4,
 "nbformat_minor": 5
}
