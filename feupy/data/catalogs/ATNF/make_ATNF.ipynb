{
 "cells": [
  {
   "cell_type": "code",
   "execution_count": 1,
   "id": "3e41b2dd",
   "metadata": {
    "scrolled": true
   },
   "outputs": [
    {
     "data": {
      "text/plain": [
       "'This script converts extraHAWC data to FITS format.'"
      ]
     },
     "execution_count": 1,
     "metadata": {},
     "output_type": "execute_result"
    }
   ],
   "source": [
    "\"\"\"This script converts extraHAWC data to FITS format.\"\"\""
   ]
  },
  {
   "cell_type": "code",
   "execution_count": 2,
   "id": "084c85db",
   "metadata": {},
   "outputs": [],
   "source": [
    "from psrqpy import QueryATNF\n",
    "\n",
    "from astropy.table import Table, Column\n",
    "# from astropy.coordinates import SkyCoord\n",
    "from astropy import units as u"
   ]
  },
  {
   "cell_type": "code",
   "execution_count": 3,
   "id": "11b17195",
   "metadata": {},
   "outputs": [],
   "source": [
    "PSR_PARAMS = [\n",
    "        'JNAME', \n",
    "        'RAJD', \n",
    "        'DECJD',\n",
    "        'DIST',\n",
    "        'DIST_DM', \n",
    "        'AGE', \n",
    "        'P0',\n",
    "        'BSURF',\n",
    "        'EDOT', \n",
    "        'TYPE', \n",
    "        'ASSOC',\n",
    "    ]"
   ]
  },
  {
   "cell_type": "code",
   "execution_count": 4,
   "id": "b22e5df5",
   "metadata": {},
   "outputs": [
    {
     "data": {
      "text/html": [
       "<div><i>Table length=3389</i>\n",
       "<table id=\"table139798979095232\" class=\"table-striped table-bordered table-condensed\">\n",
       "<thead><tr><th>ASSOC</th><th>P0</th><th>P0_ERR</th><th>AGE</th><th>DIST</th><th>BSURF</th><th>RAJD</th><th>DIST_DM</th><th>TYPE</th><th>DECJD</th><th>JNAME</th><th>DECJD_ERR</th><th>EDOT</th><th>RAJD_ERR</th></tr></thead>\n",
       "<thead><tr><th></th><th>s</th><th>s</th><th>yr</th><th>kpc</th><th>G</th><th>deg</th><th>kpc</th><th></th><th>deg</th><th></th><th>deg</th><th>erg / s</th><th>deg</th></tr></thead>\n",
       "<thead><tr><th>object</th><th>float64</th><th>float64</th><th>float64</th><th>float64</th><th>float64</th><th>float64</th><th>float64</th><th>object</th><th>float64</th><th>str12</th><th>float64</th><th>float64</th><th>float64</th></tr></thead>\n",
       "<tr><td>GRS</td><td>0.11536356826797663</td><td>1.3308752883520106e-12</td><td>306320.673338943</td><td>6.357</td><td>839582781928.5583</td><td>0.742375</td><td>6.357</td><td>HE</td><td>62.26927777777777</td><td>J0002+6216</td><td>2.777777777777778e-05</td><td>1.5343064289991659e+35</td><td>8.333333333333333e-05</td></tr>\n",
       "<tr><td>--</td><td>0.69374767047</td><td>1.4e-10</td><td>5241663.591471478</td><td>0.86</td><td>1220534226367.7017</td><td>1.52</td><td>0.86</td><td>--</td><td>18.583055555555557</td><td>J0006+1834</td><td>0.0011111111111111111</td><td>2.4794397172145643e+32</td><td>0.0008333333333333333</td></tr>\n",
       "<tr><td>GRS</td><td>0.3158731908527248</td><td>2.993276180984457e-10</td><td>13886.907032358007</td><td>1.4</td><td>10796748883638.508</td><td>1.757083333333333</td><td>--</td><td>NRAD</td><td>73.05205555555555</td><td>J0007+7303</td><td>0.00022222222222222223</td><td>4.514344633110194e+35</td><td>0.0008333333333333333</td></tr>\n",
       "<tr><td>--</td><td>2.55287</td><td>--</td><td>--</td><td>5.399</td><td>--</td><td>2.891666666666666</td><td>5.399</td><td>--</td><td>8.166666666666666</td><td>J0011+08</td><td>0.13333333333333333</td><td>--</td><td>0.475</td></tr>\n",
       "<tr><td>--</td><td>3.0253007099721887</td><td>1.8304888771516458e-10</td><td>374084274.72983634</td><td>5.425</td><td>630038110115.9003</td><td>3.097083333333333</td><td>5.425</td><td>RRAT</td><td>54.52972222222222</td><td>J0012+5431</td><td>0.0008333333333333333</td><td>1.826918708078064e+29</td><td>0.00041666666666666664</td></tr>\n",
       "<tr><td>--</td><td>1.2406990389455896</td><td>1.077533873668357e-11</td><td>34825753.759158485</td><td>1.776</td><td>846835742960.678</td><td>3.5739583333333327</td><td>1.776</td><td>--</td><td>47.77594444444444</td><td>J0014+4746</td><td>8.333333333333333e-05</td><td>1.1667890839703214e+31</td><td>0.00016666666666666666</td></tr>\n",
       "<tr><td>...</td><td>...</td><td>...</td><td>...</td><td>...</td><td>...</td><td>...</td><td>...</td><td>...</td><td>...</td><td>...</td><td>...</td><td>...</td><td>...</td></tr>\n",
       "<tr><td>--</td><td>1.164</td><td>--</td><td>--</td><td>3.058</td><td>--</td><td>357.99999999999994</td><td>3.058</td><td>--</td><td>65.0</td><td>J2352+65</td><td>--</td><td>--</td><td>--</td></tr>\n",
       "<tr><td>--</td><td>0.944783886655436</td><td>1.071139910980502e-11</td><td>920457.076794578</td><td>2.4390066586091717</td><td>3966557042147.665</td><td>358.51992916666666</td><td>2.399</td><td>--</td><td>61.929679166666666</td><td>J2354+6155</td><td>2.7777777777777776e-07</td><td>7.613025375740286e+32</td><td>4.1666666666666667e-07</td></tr>\n",
       "<tr><td>--</td><td>0.557996</td><td>--</td><td>--</td><td>1.108</td><td>--</td><td>358.60833333333323</td><td>1.108</td><td>--</td><td>-22.864722222222223</td><td>J2354-22</td><td>--</td><td>--</td><td>--</td></tr>\n",
       "<tr><td>--</td><td>0.003718992304493302</td><td>1.2447813384792362e-15</td><td>18284573581.925434</td><td>0.958</td><td>110781147.24766092</td><td>358.9637020833333</td><td>0.958</td><td>--</td><td>0.8526583333333333</td><td>J2355+0051</td><td>1.1111111111111112e-05</td><td>2.4733773422175808e+33</td><td>5.833333333333333e-06</td></tr>\n",
       "<tr><td>--</td><td>1.0943962646965324</td><td>1.0779328657635503e-10</td><td>41364082.04000667</td><td>3.444</td><td>685402846309.037</td><td>358.9525833333333</td><td>3.444</td><td>RRAT</td><td>15.388333333333334</td><td>J2355+1523</td><td>0.0005555555555555556</td><td>1.2625633517998682e+31</td><td>0.0003333333333333333</td></tr>\n",
       "<tr><td>--</td><td>1.8409859072</td><td>3e-10</td><td>7716577.128537481</td><td>2.163</td><td>2669445817153.288</td><td>358.9575</td><td>2.163</td><td>--</td><td>22.77138888888889</td><td>J2355+2246</td><td>0.0022222222222222222</td><td>2.391663879716564e+31</td><td>0.0012499999999999998</td></tr>\n",
       "</table></div>"
      ],
      "text/plain": [
       "<Table length=3389>\n",
       "ASSOC           P0          ...          EDOT                 RAJD_ERR       \n",
       "                s           ...        erg / s                  deg          \n",
       "object       float64        ...        float64                float64        \n",
       "------ -------------------- ... ---------------------- ----------------------\n",
       "   GRS  0.11536356826797663 ... 1.5343064289991659e+35  8.333333333333333e-05\n",
       "    --        0.69374767047 ... 2.4794397172145643e+32  0.0008333333333333333\n",
       "   GRS   0.3158731908527248 ...  4.514344633110194e+35  0.0008333333333333333\n",
       "    --              2.55287 ...                     --                  0.475\n",
       "    --   3.0253007099721887 ...  1.826918708078064e+29 0.00041666666666666664\n",
       "    --   1.2406990389455896 ... 1.1667890839703214e+31 0.00016666666666666666\n",
       "   ...                  ... ...                    ...                    ...\n",
       "    --                1.164 ...                     --                     --\n",
       "    --    0.944783886655436 ...  7.613025375740286e+32 4.1666666666666667e-07\n",
       "    --             0.557996 ...                     --                     --\n",
       "    -- 0.003718992304493302 ... 2.4733773422175808e+33  5.833333333333333e-06\n",
       "    --   1.0943962646965324 ... 1.2625633517998682e+31  0.0003333333333333333\n",
       "    --         1.8409859072 ...  2.391663879716564e+31  0.0012499999999999998"
      ]
     },
     "execution_count": 4,
     "metadata": {},
     "output_type": "execute_result"
    }
   ],
   "source": [
    "table = QueryATNF(params=PSR_PARAMS).table\n",
    "table"
   ]
  },
  {
   "cell_type": "code",
   "execution_count": 5,
   "id": "c9b30400",
   "metadata": {},
   "outputs": [],
   "source": [
    "_listTYPE = []\n",
    "list_ = list(table[\"TYPE\"])\n",
    "for iten in list_:\n",
    "    iten = str(iten)\n",
    "    if iten == '--':\n",
    "        iten = None\n",
    "    _listTYPE.append(iten)\n",
    "col_1 = Column(name='TYPE', description='Pulsar Types', data=_listTYPE, dtype=str)"
   ]
  },
  {
   "cell_type": "code",
   "execution_count": 6,
   "id": "3a730782",
   "metadata": {},
   "outputs": [],
   "source": [
    "_listASSOC = []\n",
    "list_ = list(table[\"ASSOC\"])\n",
    "for iten in list_:\n",
    "    iten = str(iten)\n",
    "    if iten == '--':\n",
    "        iten = None\n",
    "    _listASSOC.append(iten)\n",
    "col_2 = Column(name='ASSOC', description='Names of other objects, e.g., supernova remnant, globular cluster or gamma-ray source', data=_listASSOC, dtype=str)"
   ]
  },
  {
   "cell_type": "code",
   "execution_count": 7,
   "id": "bf5bd606",
   "metadata": {},
   "outputs": [],
   "source": [
    "_listJNAME = []\n",
    "list_ = list(table[\"JNAME\"])\n",
    "for iten in list_:\n",
    "    iten = f\"PSR {iten}\"\n",
    "    _listJNAME.append(iten)\n",
    "col_3 = Column(name='JNAME', description='Pulsar name based on J2000 coordinates', data=_listJNAME, dtype=str)"
   ]
  },
  {
   "cell_type": "code",
   "execution_count": 8,
   "id": "f140febf",
   "metadata": {},
   "outputs": [],
   "source": [
    "table.remove_columns(['TYPE', 'ASSOC', 'JNAME'])\n",
    "table.add_columns([col_1,col_2, col_3])\n",
    "table.rename_columns(['RAJD', 'DECJD'], ['RAJ2000', 'DEJ2000'])"
   ]
  },
  {
   "cell_type": "code",
   "execution_count": 9,
   "id": "22180edb",
   "metadata": {},
   "outputs": [],
   "source": [
    "data_name = \"ATNF\"\n",
    "table.meta['catalog_name'] = data_name\n",
    "table.write(f\"{data_name}.fits\",\n",
    "    format = 'fits', \n",
    "    overwrite = True\n",
    ") "
   ]
  },
  {
   "cell_type": "code",
   "execution_count": 10,
   "id": "fd8a9a16",
   "metadata": {},
   "outputs": [
    {
     "data": {
      "text/html": [
       "<div><i>Table length=3389</i>\n",
       "<table id=\"table139798979095232\" class=\"table-striped table-bordered table-condensed\">\n",
       "<thead><tr><th>P0</th><th>P0_ERR</th><th>AGE</th><th>DIST</th><th>BSURF</th><th>RAJ2000</th><th>DIST_DM</th><th>DEJ2000</th><th>DECJD_ERR</th><th>EDOT</th><th>RAJD_ERR</th><th>TYPE</th><th>ASSOC</th><th>JNAME</th></tr></thead>\n",
       "<thead><tr><th>s</th><th>s</th><th>yr</th><th>kpc</th><th>G</th><th>deg</th><th>kpc</th><th>deg</th><th>deg</th><th>erg / s</th><th>deg</th><th></th><th></th><th></th></tr></thead>\n",
       "<thead><tr><th>float64</th><th>float64</th><th>float64</th><th>float64</th><th>float64</th><th>float64</th><th>float64</th><th>float64</th><th>float64</th><th>float64</th><th>float64</th><th>str7</th><th>str12</th><th>str16</th></tr></thead>\n",
       "<tr><td>0.11536356826797663</td><td>1.3308752883520106e-12</td><td>306320.673338943</td><td>6.357</td><td>839582781928.5583</td><td>0.742375</td><td>6.357</td><td>62.26927777777777</td><td>2.777777777777778e-05</td><td>1.5343064289991659e+35</td><td>8.333333333333333e-05</td><td>HE</td><td>GRS</td><td>PSR J0002+6216</td></tr>\n",
       "<tr><td>0.69374767047</td><td>1.4e-10</td><td>5241663.591471478</td><td>0.86</td><td>1220534226367.7017</td><td>1.52</td><td>0.86</td><td>18.583055555555557</td><td>0.0011111111111111111</td><td>2.4794397172145643e+32</td><td>0.0008333333333333333</td><td>None</td><td>None</td><td>PSR J0006+1834</td></tr>\n",
       "<tr><td>0.3158731908527248</td><td>2.993276180984457e-10</td><td>13886.907032358007</td><td>1.4</td><td>10796748883638.508</td><td>1.757083333333333</td><td>--</td><td>73.05205555555555</td><td>0.00022222222222222223</td><td>4.514344633110194e+35</td><td>0.0008333333333333333</td><td>NRAD</td><td>GRS</td><td>PSR J0007+7303</td></tr>\n",
       "<tr><td>2.55287</td><td>--</td><td>--</td><td>5.399</td><td>--</td><td>2.891666666666666</td><td>5.399</td><td>8.166666666666666</td><td>0.13333333333333333</td><td>--</td><td>0.475</td><td>None</td><td>None</td><td>PSR J0011+08</td></tr>\n",
       "<tr><td>3.0253007099721887</td><td>1.8304888771516458e-10</td><td>374084274.72983634</td><td>5.425</td><td>630038110115.9003</td><td>3.097083333333333</td><td>5.425</td><td>54.52972222222222</td><td>0.0008333333333333333</td><td>1.826918708078064e+29</td><td>0.00041666666666666664</td><td>RRAT</td><td>None</td><td>PSR J0012+5431</td></tr>\n",
       "<tr><td>1.2406990389455896</td><td>1.077533873668357e-11</td><td>34825753.759158485</td><td>1.776</td><td>846835742960.678</td><td>3.5739583333333327</td><td>1.776</td><td>47.77594444444444</td><td>8.333333333333333e-05</td><td>1.1667890839703214e+31</td><td>0.00016666666666666666</td><td>None</td><td>None</td><td>PSR J0014+4746</td></tr>\n",
       "<tr><td>...</td><td>...</td><td>...</td><td>...</td><td>...</td><td>...</td><td>...</td><td>...</td><td>...</td><td>...</td><td>...</td><td>...</td><td>...</td><td>...</td></tr>\n",
       "<tr><td>1.164</td><td>--</td><td>--</td><td>3.058</td><td>--</td><td>357.99999999999994</td><td>3.058</td><td>65.0</td><td>--</td><td>--</td><td>--</td><td>None</td><td>None</td><td>PSR J2352+65</td></tr>\n",
       "<tr><td>0.944783886655436</td><td>1.071139910980502e-11</td><td>920457.076794578</td><td>2.4390066586091717</td><td>3966557042147.665</td><td>358.51992916666666</td><td>2.399</td><td>61.929679166666666</td><td>2.7777777777777776e-07</td><td>7.613025375740286e+32</td><td>4.1666666666666667e-07</td><td>None</td><td>None</td><td>PSR J2354+6155</td></tr>\n",
       "<tr><td>0.557996</td><td>--</td><td>--</td><td>1.108</td><td>--</td><td>358.60833333333323</td><td>1.108</td><td>-22.864722222222223</td><td>--</td><td>--</td><td>--</td><td>None</td><td>None</td><td>PSR J2354-22</td></tr>\n",
       "<tr><td>0.003718992304493302</td><td>1.2447813384792362e-15</td><td>18284573581.925434</td><td>0.958</td><td>110781147.24766092</td><td>358.9637020833333</td><td>0.958</td><td>0.8526583333333333</td><td>1.1111111111111112e-05</td><td>2.4733773422175808e+33</td><td>5.833333333333333e-06</td><td>None</td><td>None</td><td>PSR J2355+0051</td></tr>\n",
       "<tr><td>1.0943962646965324</td><td>1.0779328657635503e-10</td><td>41364082.04000667</td><td>3.444</td><td>685402846309.037</td><td>358.9525833333333</td><td>3.444</td><td>15.388333333333334</td><td>0.0005555555555555556</td><td>1.2625633517998682e+31</td><td>0.0003333333333333333</td><td>RRAT</td><td>None</td><td>PSR J2355+1523</td></tr>\n",
       "<tr><td>1.8409859072</td><td>3e-10</td><td>7716577.128537481</td><td>2.163</td><td>2669445817153.288</td><td>358.9575</td><td>2.163</td><td>22.77138888888889</td><td>0.0022222222222222222</td><td>2.391663879716564e+31</td><td>0.0012499999999999998</td><td>None</td><td>None</td><td>PSR J2355+2246</td></tr>\n",
       "</table></div>"
      ],
      "text/plain": [
       "<Table length=3389>\n",
       "         P0                  P0_ERR         ... ASSOC     JNAME     \n",
       "         s                     s            ...                     \n",
       "      float64               float64         ... str12     str16     \n",
       "-------------------- ---------------------- ... ----- --------------\n",
       " 0.11536356826797663 1.3308752883520106e-12 ...   GRS PSR J0002+6216\n",
       "       0.69374767047                1.4e-10 ...  None PSR J0006+1834\n",
       "  0.3158731908527248  2.993276180984457e-10 ...   GRS PSR J0007+7303\n",
       "             2.55287                     -- ...  None   PSR J0011+08\n",
       "  3.0253007099721887 1.8304888771516458e-10 ...  None PSR J0012+5431\n",
       "  1.2406990389455896  1.077533873668357e-11 ...  None PSR J0014+4746\n",
       "                 ...                    ... ...   ...            ...\n",
       "               1.164                     -- ...  None   PSR J2352+65\n",
       "   0.944783886655436  1.071139910980502e-11 ...  None PSR J2354+6155\n",
       "            0.557996                     -- ...  None   PSR J2354-22\n",
       "0.003718992304493302 1.2447813384792362e-15 ...  None PSR J2355+0051\n",
       "  1.0943962646965324 1.0779328657635503e-10 ...  None PSR J2355+1523\n",
       "        1.8409859072                  3e-10 ...  None PSR J2355+2246"
      ]
     },
     "execution_count": 10,
     "metadata": {},
     "output_type": "execute_result"
    }
   ],
   "source": [
    "table"
   ]
  },
  {
   "cell_type": "code",
   "execution_count": 11,
   "id": "0e106305",
   "metadata": {},
   "outputs": [],
   "source": []
  },
  {
   "cell_type": "code",
   "execution_count": null,
   "id": "8fa30c95",
   "metadata": {},
   "outputs": [],
   "source": []
  },
  {
   "cell_type": "code",
   "execution_count": null,
   "id": "9418ca64",
   "metadata": {},
   "outputs": [],
   "source": []
  }
 ],
 "metadata": {
  "ipub": {
   "titlepage": {
    "author": "R. P. Costa Jr.",
    "email": "rubensp@utfpr.edu.br",
    "institution": [
     "Federal University of Technology – Paraná (UTFPR) "
    ],
    "tagline": "A TeV Astronomy Python package based on Gammapy.",
    "title": "feupy"
   }
  },
  "kernelspec": {
   "display_name": "Python 3 (ipykernel)",
   "language": "python",
   "name": "python3"
  },
  "language_info": {
   "codemirror_mode": {
    "name": "ipython",
    "version": 3
   },
   "file_extension": ".py",
   "mimetype": "text/x-python",
   "name": "python",
   "nbconvert_exporter": "python",
   "pygments_lexer": "ipython3",
   "version": "3.9.18"
  }
 },
 "nbformat": 4,
 "nbformat_minor": 5
}
