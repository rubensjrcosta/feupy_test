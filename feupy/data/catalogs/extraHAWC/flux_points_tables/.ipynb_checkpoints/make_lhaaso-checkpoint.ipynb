{
 "cells": [
  {
   "cell_type": "code",
   "execution_count": null,
   "id": "7388aa04",
   "metadata": {},
   "outputs": [],
   "source": [
    "\"\"\"\n",
    "This script converts `2HWC.yaml` to ECSV format.\n",
    "\n",
    "2HWC is the HAWC catalog from this paper:\n",
    "http://adsabs.harvard.edu/abs/2017ApJ...843...40A\n",
    "\n",
    "The file `2HWC.yaml` was obtained via email by Colas Rivière\n",
    "on August 16, 2017\n",
    "\n",
    "TODO: change to public version and note URL here as soon\n",
    "as it becomes available on the HAWC webpage\n",
    "\"\"\""
   ]
  },
  {
   "cell_type": "code",
   "execution_count": null,
   "id": "9ba2b5d1",
   "metadata": {},
   "outputs": [],
   "source": []
  },
  {
   "cell_type": "code",
   "execution_count": null,
   "id": "a4931e91",
   "metadata": {},
   "outputs": [],
   "source": [
    "from astropy.units import Quantity\n",
    "\n",
    "def table_row_to_dict(row, make_quantity=True):\n",
    "    \"\"\"Make one source data dictionary.\n",
    "\n",
    "    Parameters\n",
    "    ----------\n",
    "    row : `~astropy.table.Row`\n",
    "        Row.\n",
    "    make_quantity : bool, optional\n",
    "        Make quantity values for columns with units.\n",
    "        Default is True.\n",
    "\n",
    "    Returns\n",
    "    -------\n",
    "    data : dict\n",
    "        Row data.\n",
    "    \"\"\"\n",
    "    \n",
    "    data = {}\n",
    "    for name, col in row.columns.items():\n",
    "        val = row[name]\n",
    "\n",
    "        if make_quantity and col.unit:\n",
    "            val = Quantity(val, unit=col.unit)\n",
    "        data[name] = val\n",
    "    return data"
   ]
  },
  {
   "cell_type": "code",
   "execution_count": null,
   "id": "ea6b5537",
   "metadata": {},
   "outputs": [],
   "source": []
  }
 ],
 "metadata": {
  "ipub": {
   "titlepage": {
    "author": "R. P. Costa Jr.",
    "email": "rubensp@utfpr.edu.br",
    "institution": [
     "Federal University of Technology – Paraná (UTFPR) "
    ],
    "tagline": "A TeV Astronomy Python package based on Gammapy.",
    "title": "feupy"
   }
  },
  "kernelspec": {
   "display_name": "Python 3 (ipykernel)",
   "language": "python",
   "name": "python3"
  },
  "language_info": {
   "codemirror_mode": {
    "name": "ipython",
    "version": 3
   },
   "file_extension": ".py",
   "mimetype": "text/x-python",
   "name": "python",
   "nbconvert_exporter": "python",
   "pygments_lexer": "ipython3",
   "version": "3.9.18"
  }
 },
 "nbformat": 4,
 "nbformat_minor": 5
}
