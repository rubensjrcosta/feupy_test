{
 "cells": [
  {
   "cell_type": "code",
   "execution_count": 1,
   "id": "3e41b2dd",
   "metadata": {},
   "outputs": [
    {
     "data": {
      "text/plain": [
       "'This script converts extraHAWC data to FITS format.'"
      ]
     },
     "execution_count": 1,
     "metadata": {},
     "output_type": "execute_result"
    }
   ],
   "source": [
    "\"\"\"This script converts extraHAWC data to FITS format.\"\"\""
   ]
  },
  {
   "cell_type": "code",
   "execution_count": 3,
   "id": "ecadb922",
   "metadata": {},
   "outputs": [],
   "source": [
    "import numpy as np\n",
    "import pickle\n",
    "\n",
    "from feupy.config import *\n",
    "from feupy.utils.string_handling import *\n",
    "from feupy.utils.table import *\n",
    "\n",
    "from astropy.coordinates import SkyCoord\n",
    "from astropy.table import Table, Column\n",
    "\n",
    "from gammapy.utils.scripts import make_path\n",
    "from gammapy.modeling.models import LogParabolaSpectralModel, ExpCutoffPowerLawSpectralModel, PowerLawSpectralModel"
   ]
  },
  {
   "cell_type": "code",
   "execution_count": null,
   "id": "27aa0441",
   "metadata": {},
   "outputs": [],
   "source": []
  },
  {
   "cell_type": "code",
   "execution_count": null,
   "id": "06e2e231",
   "metadata": {},
   "outputs": [],
   "source": [
    "data = {\n",
    "    \"2HWC J1837-065\": {\n",
    "        \"position\": SkyCoord(279.36, -6.58, unit=UNIT_DEG, frame=FRAME_ICRS), \n",
    "        'spectral_model': PowerLawSpectralModel(\n",
    "            index=2.90,\n",
    "            amplitude=\"85.2e-15 cm-2 s-1 TeV-1\",\n",
    "            reference=7 * u.TeV,),\n",
    "        'reference': '2HWC catalogue',},\n",
    "    \"2HWC J1825-134\": {\n",
    "        \"position\":  SkyCoord(276.46, -13.40, unit=UNIT_DEG, frame=FRAME_ICRS),\n",
    "        'spectral_model': PowerLawSpectralModel(\n",
    "            index=2.58,\n",
    "            amplitude=\"138.0e-15 cm-2 s-1 TeV-1\",\n",
    "            reference=7 * u.TeV,),\n",
    "        'reference': '2HWC catalogue',}, \n",
    "    \"HAWC J1825-138\": {\n",
    "        \"position\":  SkyCoord(276.38, -13.86, unit=UNIT_DEG, frame=FRAME_ICRS),\n",
    "        'spectral_model': ExpCutoffPowerLawSpectralModel(\n",
    "            amplitude=2.7e-14 * u.Unit(\"cm-2 s-1 TeV-1\"),\n",
    "            index=2.02,\n",
    "            lambda_=1/27 * u.Unit(\"TeV-1\"),\n",
    "            reference=18 * u.TeV,),\n",
    "        'reference': 'https://arxiv.org/pdf/2012.15275.pdf',},\n",
    "    \"HAWC J1826-128\": {\n",
    "        \"position\":  SkyCoord(276.50, -12.86, unit=UNIT_DEG, frame=FRAME_ICRS),\n",
    "        'spectral_model': ExpCutoffPowerLawSpectralModel(\n",
    "            amplitude=2.7e-14 * u.Unit(\"cm-2 s-1 TeV-1\"),\n",
    "            index=1.2,\n",
    "            lambda_=(1/24) * u.Unit(\"TeV-1\"),\n",
    "            reference=18 * u.TeV,),\n",
    "        'reference': 'https://arxiv.org/pdf/2012.15275.pdf',},\n",
    "    \"HAWC J1825-134\": {\n",
    "        \"position\":  SkyCoord(276.44, -13.42, unit=UNIT_DEG, frame=FRAME_ICRS),\n",
    "        'spectral_model': PowerLawSpectralModel(\n",
    "            index=2.28,\n",
    "            amplitude=\"4.2e-15 TeV-1 cm-2 s-1\",\n",
    "            reference=18 * u.TeV,),\n",
    "        'reference': 'https://arxiv.org/pdf/2012.15275.pdf',},\n",
    "    \"eHWC J1825-134\": {\n",
    "        \"position\":  SkyCoord(276.40, -13.37, unit=UNIT_DEG, frame=FRAME_ICRS),\n",
    "        'spectral_model': ExpCutoffPowerLawSpectralModel(\n",
    "            amplitude=2.12e-13 * u.Unit(\"cm-2 s-1 TeV-1\"),\n",
    "            index=2.12,\n",
    "            lambda_= (1/61) * u.Unit(\"TeV-1\"),\n",
    "            reference=10 * u.TeV,),\n",
    "        'reference': 'https://arxiv.org/pdf/1909.08609.pdf',},\n",
    "    \"eHWC J1907+063\": {\n",
    "        \"position\":  SkyCoord(286.91, 6.32, unit=UNIT_DEG, frame=FRAME_ICRS),\n",
    "        'spectral_model': LogParabolaSpectralModel(\n",
    "             alpha=2.46,\n",
    "            amplitude=\"0.95e-13 cm-2 s-1 TeV-1\",\n",
    "            reference=10 * u.TeV,\n",
    "            beta=0.11,),\n",
    "        'reference': 'https://arxiv.org/pdf/1909.08609.pdf',}, \n",
    "    \"eHWC J2019+368\": {\n",
    "        \"position\":  SkyCoord(304.95, 36.78, unit=UNIT_DEG, frame=FRAME_ICRS),\n",
    "        'spectral_model': LogParabolaSpectralModel(\n",
    "            alpha=2.08,\n",
    "            amplitude=\"0.45e-13 cm-2 s-1 TeV-1\",\n",
    "            reference=10 * u.TeV,\n",
    "            beta=0.26,),\n",
    "        'reference': 'https://arxiv.org/pdf/1909.08609.pdf',}, \n",
    "}\n",
    "data_name='extraHAWC'"
   ]
  },
  {
   "cell_type": "code",
   "execution_count": null,
   "id": "55a9b557",
   "metadata": {},
   "outputs": [],
   "source": [
    "# with open(f\"{data_name}.pkl\", \"wb\") as fp:  \n",
    "#         pickle.dump(data, fp)     \n",
    "# with open(f\"{data_name}.pkl\", \"rb\") as fp:  \n",
    "#     data = pickle.load(fp)\n",
    "# data"
   ]
  },
  {
   "cell_type": "code",
   "execution_count": null,
   "id": "526a1877",
   "metadata": {},
   "outputs": [],
   "source": [
    "names = list(data.keys())\n",
    "array = np.empty((len(names)))\n",
    "\n",
    "table = Table()\n",
    "table.meta['catalog_name'] = data_name\n",
    "table.meta[\"SED_TYPE\"] = \"e2dnde\"\n",
    "table.meta['reference'] = '...'\n",
    "table[\"index\"] = list(range(0, len(names), 1))\n",
    "table['source_name'] = names\n",
    "table['source_name'].description = 'Source name'\n",
    "table['ra'] = Column(\n",
    "    data=array,\n",
    "    description='Right Ascension (J2000)', unit='deg', format='.2f',\n",
    ")\n",
    "table['dec'] = Column(\n",
    "    data=array,\n",
    "    description='Declination (J2000)', unit='deg', format='.2f',\n",
    ")\n",
    "\n",
    "table['spectral_model_type'] = names\n",
    "table['spectral_model_type'].description = 'Spectral Model Type'\n",
    "\n",
    "# table['spectral_model'].dtype = SpectralModel\n",
    "\n",
    "for index, name in enumerate(names):\n",
    "    table['ra'][index] =  data[name][\"position\"].ra.value\n",
    "    table['dec'][index] = data[name][\"position\"].dec.value\n",
    "    if data[name][\"spectral_model\"]:\n",
    "        table['spectral_model_type'][index] = data[name][\"spectral_model\"].tag[1]\n",
    "    else: table['spectral_model_type'][index] = None"
   ]
  },
  {
   "cell_type": "code",
   "execution_count": null,
   "id": "eeee3246",
   "metadata": {
    "scrolled": true
   },
   "outputs": [],
   "source": [
    "# table.write(f\"{data_name}.fits\",\n",
    "#     format = 'fits', \n",
    "#     overwrite = True\n",
    "# ) \n",
    "# table.read(f\"{data_name}.fits\")   "
   ]
  },
  {
   "cell_type": "code",
   "execution_count": null,
   "id": "9d0b4dac",
   "metadata": {},
   "outputs": [],
   "source": [
    "FILE_PATH = \"$PYTHONPATH/feupy/data/catalogs/extraHAWC/flux_points_tables/\"\n",
    "length=10\n",
    "e_ref = []\n",
    "e2dnde = []\n",
    "e2dnde_errp = []\n",
    "e2dnde_errn = []\n",
    "is_ul = []\n",
    "for index, name in enumerate(names):\n",
    "    _table = Table.read(make_path(f'{FILE_PATH}{name_to_txt(name)}.fits')) \n",
    "    e_ref.append(append_nones(length=length, list_=list(_table['e_ref'])))\n",
    "    e2dnde.append(append_nones(length=length, list_=list(_table['e2dnde'])))\n",
    "    e2dnde_errp.append(append_nones(length=length, list_=list(_table['e2dnde_errp'])))\n",
    "    e2dnde_errn.append(append_nones(length=length, list_=list(_table['e2dnde_errn'])))\n",
    "    is_ul.append(append_nones(length=length, list_=list(_table['is_ul'])))\n",
    "col_1 = Column(name='e_ref', description='Reference Energy', data=u.Quantity(e_ref, 'TeV'))\n",
    "col_2 = Column(name='e2dnde', description='e2dnde', data=u.Quantity(e2dnde, 'TeV cm-2 s-1'))\n",
    "col_3 = Column(name='e2dnde_errp', description='e2dnde_errp', data=u.Quantity(e2dnde_errp, 'TeV cm-2 s-1'))\n",
    "col_4 = Column(name='e2dnde_errn', description='e2dnde_errn', data=u.Quantity(e2dnde_errn, 'TeV cm-2 s-1'))\n",
    "col_5 = Column(name='is_ul', description='is_ul', data=is_ul,dtype=bool)\n",
    "table.add_columns([col_1,col_2,col_3,col_4,col_5])\n",
    "# table"
   ]
  },
  {
   "cell_type": "code",
   "execution_count": null,
   "id": "df1f1ff1",
   "metadata": {},
   "outputs": [],
   "source": [
    "table.write(f\"{data_name}.fits\",\n",
    "    format = 'fits', \n",
    "    overwrite = True\n",
    ") "
   ]
  },
  {
   "cell_type": "code",
   "execution_count": null,
   "id": "b6686db5",
   "metadata": {},
   "outputs": [],
   "source": []
  }
 ],
 "metadata": {
  "ipub": {
   "titlepage": {
    "author": "R. P. Costa Jr.",
    "email": "rubensp@utfpr.edu.br",
    "institution": [
     "Federal University of Technology – Paraná (UTFPR) "
    ],
    "tagline": "A TeV Astronomy Python package based on Gammapy.",
    "title": "feupy"
   }
  },
  "kernelspec": {
   "display_name": "Python 3 (ipykernel)",
   "language": "python",
   "name": "python3"
  },
  "language_info": {
   "codemirror_mode": {
    "name": "ipython",
    "version": 3
   },
   "file_extension": ".py",
   "mimetype": "text/x-python",
   "name": "python",
   "nbconvert_exporter": "python",
   "pygments_lexer": "ipython3",
   "version": "3.9.18"
  }
 },
 "nbformat": 4,
 "nbformat_minor": 5
}
