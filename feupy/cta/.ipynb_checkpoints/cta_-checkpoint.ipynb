{
 "cells": [
  {
   "cell_type": "code",
   "execution_count": 18,
   "id": "d758b0db",
   "metadata": {},
   "outputs": [],
   "source": [
    "from gammapy.irf import load_irf_dict_from_file\n",
    "from gammapy.data import observatory_locations\n",
    "\n",
    "from astropy import units as u"
   ]
  },
  {
   "cell_type": "code",
   "execution_count": 19,
   "id": "4134a0ca",
   "metadata": {},
   "outputs": [],
   "source": [
    "__all__ = [\n",
    "    \"CTAOPerf\",\n",
    "    \"ObservationParameters\"\n",
    "]"
   ]
  },
  {
   "cell_type": "code",
   "execution_count": 3,
   "id": "b58d018c",
   "metadata": {},
   "outputs": [],
   "source": [
    "# class CTAOPerf:\n",
    "#     \"\"\"CTAO Instrument Response Functions - prod5 version v0.1\n",
    "    \n",
    "#     See: https://zenodo.org/records/5499840#.YUya5WYzbUI\n",
    "    \n",
    "#     CTA is represented by `~feupy.cta.CTAOPerf`.\n",
    "#     \"\"\"    \n",
    "#     IRF_ZENITH = [20, 40, 60]\n",
    "#     IRF_HOURS = [0.5, 5, 50]\n",
    "#     SITE = [\"North\", \"South\"]\n",
    "#     OBS_LOC = {\"North\": \"cta_north\", \n",
    "#                \"South\": \"cta_south\",}\n",
    "\n",
    "#     def __init__(self, irf_zenith, irf_hours, site):\n",
    "        \n",
    "#         assert self.IRF_ZENITH.count(irf_zenith) > 0, f\"Zenith angle {self.IRF_ZENITH} is not in the list: {IRF_ZENITH}!\"\n",
    "#         assert self.IRF_HOURS.count(irf_hours) > 0, f\"Observation time {self.IRF_HOURS} is not in the list: {IRF_HOURS}!\"\n",
    "#         assert self.SITE.count(site) > 0, f\"Site {site} is not in the list: {self.SITE}!\"\n",
    "\n",
    "#         self.irf_zenith = irf_zenith\n",
    "#         self.irf_hours = irf_hours\n",
    "#         self.site = site\n",
    "#         self.obs_loc = observatory_locations[self.OBS_LOC[site]]\n",
    "#         self.irf_name = f'{site}_z{irf_zenith}_{irf_hours}h'\n",
    "#         self.irf = self.load_irf()\n",
    "    \n",
    "#     def load_irf(self):\n",
    "#         dirbasename=\"$PYTHONPATH/feupy/data/irfs/cta-prod5-zenodo-v0.1/fits/\"\n",
    "        \n",
    "#         if self.site == 'South':\n",
    "#             telescopes = '14MSTs37SSTs'\n",
    "#         else: telescopes = '4LSTs09MSTs'\n",
    "        \n",
    "#         dir_irf = f'CTA-Performance-prod5-v0.1-{self.site}-{self.irf_zenith}deg.FITS/'\n",
    "        \n",
    "#         if self.irf_hours == 0.5:\n",
    "#             seconds = 1800\n",
    "#         elif self.irf_hours == 5:\n",
    "#             seconds = 18000\n",
    "#         else: seconds = 180000\n",
    "            \n",
    "#         irf_file_name = f'Prod5-{self.site}-{self.irf_zenith}deg-{self.site}Az-{telescopes}.{seconds}s-v0.1.fits.gz'\n",
    "#         return load_irf_dict_from_file(f'{dirbasename}{dir_irf}{irf_file_name}')"
   ]
  },
  {
   "cell_type": "code",
   "execution_count": 20,
   "id": "1f36acaa",
   "metadata": {},
   "outputs": [],
   "source": [
    "class CTAOPerf:\n",
    "    \"\"\"CTAO Instrument Response Functions - prod5 version v0.1\n",
    "    \n",
    "    See: https://zenodo.org/records/5499840#.YUya5WYzbUI\n",
    "    \n",
    "    CTAOPerf is represented by `~feupy.cta.CTAOPerf`.\n",
    "    \"\"\"    \n",
    "\n",
    "\n",
    "    def __init__(self):\n",
    "        self.irfs_list = None\n",
    "        self.irfs_label_list = None\n",
    "    \n",
    "    def get_irfs(self, irfs_label):\n",
    "        index = self.irfs_label_list.index(irfs_label)\n",
    "        return self.irfs_list[index]\n",
    "    \n",
    "    def get_irfs_label(self, irfs):\n",
    "        index = self.irfs_list.index(irfs)\n",
    "        return self.irfs_label_list[index]\n",
    "    \n",
    "    def get_obs_loc(self, label):\n",
    "        if 'South' in label:\n",
    "            return observatory_locations['cta_south']\n",
    "        else: return observatory_locations['cta_north'] \n",
    "    \n",
    "    def load_irfs(self):\n",
    "        dir_fits = '$PYTHONPATH/feupy/data/irfs/cta-prod5-zenodo-v0.1/fits/'\n",
    "        zenith = ['20deg', '40deg', '60deg']\n",
    "        site_array = [\n",
    "            ('South', '14MSTs37SSTs'), \n",
    "            ('South-SSTSubArray', '37SSTs'), \n",
    "            ('South-MSTSubArray', '14MSTs'), \n",
    "            ('North', '4LSTs09MSTs'), \n",
    "            ('North-MSTSubArray', '09MSTs'),\n",
    "            ('North-LSTSubArray', '4LSTs'),\n",
    "        ]\n",
    "        opti = ['AverageAz', 'NorthAz', 'SouthAz']\n",
    "        obs_time = [('1800s', '0.5h'), ('18000s', '5h'), ('180000s', '50h')]\n",
    "        ctao_irfs_list = []  # will be filled with different performance\n",
    "        irfs_label_list = []  # will be filled with different performance irfs_label_list for the legend\n",
    "        for isite_array in site_array: \n",
    "            for izenith in zenith:\n",
    "                dir_FITS = f'CTA-Performance-prod5-v0.1-{isite_array[0]}-{izenith}.FITS/'\n",
    "                isite = isite_array[0].rstrip('-SSTSubArray').rstrip('-MSTSubArray').rstrip('-LSTSubArray')\n",
    "                for iopti in opti:\n",
    "                    for iobs_time in obs_time:\n",
    "                        irfs_file_name = f'Prod5-{isite}-{izenith}-{iopti}-{isite_array[1]}.{iobs_time[0]}-v0.1.fits.gz'\n",
    "                        file_name = f'{dir_fits}{dir_FITS}{irfs_file_name}'\n",
    "                        ctao_irfs = load_irf_dict_from_file(file_name)\n",
    "                        ctao_irfs_list.append(ctao_irfs)\n",
    "                        irfs_label = isite_array[0] + ' (' + izenith + '-' + iobs_time[1] + ')'\n",
    "                        irfs_label_list.append(irfs_label)\n",
    "    \n",
    "        self.irfs_list = ctao_irfs_list\n",
    "        self.irfs_label_list = irfs_label_list\n"
   ]
  },
  {
   "cell_type": "code",
   "execution_count": 46,
   "id": "c5cd8341",
   "metadata": {},
   "outputs": [],
   "source": [
    "class ObservationParameters:\n",
    "    \"\"\"Container for observation parameters.\n",
    "\n",
    "    Parameters\n",
    "    ----------\n",
    "    livetime :  `~astropy.units.Quantity`\n",
    "        Livetime exposure of the simulated observation\n",
    "    on_region_radius : `~astropy.coordinates.angles.Angle`\n",
    "        Integration radius of the ON extraction region\n",
    "    offset : `~astropy.units.Quantity`\n",
    "        Pointing position offset    \n",
    "    e_edges_min :  `~astropy.units.Quantity`\n",
    "        Minimal energy for simulation\n",
    "    e_edges_max : `~astropy.units.Quantity`\n",
    "        Maximal energy for simulation\n",
    "    n_obs : int\n",
    "    \n",
    "        Number of simulations of each observation   \n",
    "    alpha : `~astropy.units.Quantity`\n",
    "        Normalisation between ON and OFF regions\n",
    "    \"\"\"\n",
    "    @u.quantity_input(livetime=u.h, on_region_radius=u.deg, offset=u.deg, e_edges_min=u.eV, e_edges_max=u.eV)\n",
    "    def __init__(self,livetime=None,\n",
    "                 on_region_radius=None, \n",
    "                 offset=None, \n",
    "                 e_edges_min=None,\n",
    "                 e_edges_max=None,\n",
    "                n_obs=None, \n",
    "                ):\n",
    "        self.livetime = livetime\n",
    "        self.on_region_radius = on_region_radius\n",
    "        self.offset = offset\n",
    "        self.e_edges_min = e_edges_min\n",
    "        self.e_edges_max = e_edges_max\n",
    "        self.n_obs = n_obs\n",
    "\n",
    "    def __str__(self):\n",
    "        \"\"\"Observation summary report (`str`).\"\"\"\n",
    "        ss = '*** Observation parameters summary ***\\n\\n'\n",
    "        ss += 'livetime={} [{}]\\n'.format(self.livetime.value, self.livetime.unit)\n",
    "        ss += 'on_region_radius={} [{}]\\n'.format(self.on_region_radius.value, self.on_region_radius.unit)\n",
    "        ss += 'offset={} [{}]\\n'.format(self.offset.value, self.offset.unit)\n",
    "        ss += 'e_edges_min={} [{}]\\n'.format(self.e_edges_min.value, self.e_edges_min.unit)\n",
    "        ss += 'e_edges_max={} [{}]\\n'.format(self.e_edges_max.value, self.e_edges_max.unit)\n",
    "        ss += 'n_obs={}\\n'.format(self.n_obs)\n",
    "        return ss"
   ]
  },
  {
   "cell_type": "code",
   "execution_count": 42,
   "id": "9df14d13",
   "metadata": {},
   "outputs": [],
   "source": []
  },
  {
   "cell_type": "code",
   "execution_count": null,
   "id": "f281e3e5",
   "metadata": {},
   "outputs": [],
   "source": [
    " "
   ]
  },
  {
   "cell_type": "code",
   "execution_count": 47,
   "id": "18e650ae",
   "metadata": {},
   "outputs": [],
   "source": [
    "# from astropy.coordinates import SkyCoord, Angle\n",
    "\n",
    "# obs_parm=ObservationParameters(\n",
    "#     livetime=50*u.h, \n",
    "#     offset=0.11*u.deg, \n",
    "#     e_edges_min=0.1*u.TeV, \n",
    "#     e_edges_max=100.*u.TeV,\n",
    "#     on_region_radius=Angle(\"1.0 deg\"),\n",
    "#     n_obs=1000\n",
    "# )\n",
    "# print(obs)"
   ]
  },
  {
   "cell_type": "code",
   "execution_count": null,
   "id": "cb6fafb4",
   "metadata": {},
   "outputs": [],
   "source": [
    "# irf_zenith=20\n",
    "# irf_hours=0.5\n",
    "# site='North'\n",
    "# ctaoirfs = CTAOIrfs(irf_zenith, irf_hours, site)"
   ]
  },
  {
   "cell_type": "code",
   "execution_count": null,
   "id": "f3b76673",
   "metadata": {},
   "outputs": [],
   "source": [
    "# ctao_perf=CTAOPerf()"
   ]
  },
  {
   "cell_type": "code",
   "execution_count": null,
   "id": "356d278b",
   "metadata": {},
   "outputs": [],
   "source": [
    "# ctao_perf.load_irfs()"
   ]
  },
  {
   "cell_type": "code",
   "execution_count": null,
   "id": "50d68004",
   "metadata": {},
   "outputs": [],
   "source": [
    "# len(ctao_perf.irfs)"
   ]
  },
  {
   "cell_type": "code",
   "execution_count": null,
   "id": "b270a911",
   "metadata": {},
   "outputs": [],
   "source": [
    "# cta_perf_list"
   ]
  },
  {
   "cell_type": "code",
   "execution_count": null,
   "id": "c93bcb54",
   "metadata": {},
   "outputs": [],
   "source": []
  }
 ],
 "metadata": {
  "kernelspec": {
   "display_name": "Python 3 (ipykernel)",
   "language": "python",
   "name": "python3"
  },
  "language_info": {
   "codemirror_mode": {
    "name": "ipython",
    "version": 3
   },
   "file_extension": ".py",
   "mimetype": "text/x-python",
   "name": "python",
   "nbconvert_exporter": "python",
   "pygments_lexer": "ipython3",
   "version": "3.9.18"
  }
 },
 "nbformat": 4,
 "nbformat_minor": 5
}
