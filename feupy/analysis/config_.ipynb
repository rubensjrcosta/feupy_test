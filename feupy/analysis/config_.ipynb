{
 "cells": [
  {
   "cell_type": "code",
   "execution_count": 1,
   "id": "75dd3a58",
   "metadata": {},
   "outputs": [],
   "source": [
    "# Licensed under a 3-clause BSD style license - see LICENSE.rst"
   ]
  },
  {
   "cell_type": "code",
   "execution_count": 2,
   "id": "df1144f8",
   "metadata": {},
   "outputs": [],
   "source": [
    "import numpy as np\n",
    "import pandas as pd \n",
    "\n",
    "from feupy.roi import ROI\n",
    "from feupy.target import Target\n",
    "from feupy.utils.string_handling import name_to_txt\n",
    "from feupy.scripts import gammapy_catalogs \n",
    "\n",
    "from feupy.catalog.pulsar.atnf import SourceCatalogATNF\n",
    "from feupy.catalog.lhaaso import SourceCatalogPublishNatureLHAASO\n",
    "from feupy.catalog.hawc import SourceCatalogExtraHAWC\n",
    "\n",
    "from astropy import units as u\n",
    "from astropy.coordinates import SkyCoord\n",
    "from astropy.units import Quantity\n",
    "\n",
    "from gammapy.utils.units import energy_unit_format\n",
    "\n",
    "from gammapy.datasets import FluxPointsDataset\n",
    "from gammapy.datasets import Datasets\n",
    "\n",
    "from gammapy.modeling.models import SkyModel, Models\n",
    "\n",
    "from gammapy.estimators import FluxPoints\n",
    "\n",
    "from pathlib import Path"
   ]
  },
  {
   "cell_type": "code",
   "execution_count": 4,
   "id": "4513ce03",
   "metadata": {},
   "outputs": [],
   "source": [
    "__all__ = [\"CounterpartsAnalysisConfig\"]"
   ]
  },
  {
   "cell_type": "code",
   "execution_count": 5,
   "id": "9797e17e",
   "metadata": {},
   "outputs": [],
   "source": [
    "# How to create a class:\n",
    "class CounterpartsAnalysisConfig:\n",
    "   # ADD others parameters\n",
    "   \n",
    "    # color=\"red\" # The color of the flux ponts\n",
    "    all=[]\n",
    "    @u.quantity_input(pos_ra=u.deg, pos_dec=u.deg, radius=u.deg, e_ref_min=u.eV, e_ref_max=u.eV)\n",
    "    def __init__(self, target_name: str, pos_ra, pos_dec, radius, e_ref_min=None, e_ref_max=None, catalogs_roi=None):\n",
    "       # Run validations to the received arguments\n",
    "        assert  0 <= pos_ra.value <= 360, f\"Right Ascension {pos_ra} is not in the range: (0,360) deg!\"\n",
    "        assert -90 <= pos_dec.value <= 90, f\"Declination {pos_dec} is not in the range: (-90,90) deg!\"\n",
    "\n",
    "        # Assign to self object\n",
    "        self.__target_name = target_name\n",
    "        self.position = SkyCoord(pos_ra, pos_dec) \n",
    "        self.radius = radius\n",
    "        if e_ref_min is not None:\n",
    "            self.e_ref_min = Quantity(e_ref_min, \"TeV\")\n",
    "        else: self.e_ref_min = e_ref_min\n",
    "        if e_ref_max is not None:\n",
    "            self.e_ref_max = Quantity(e_ref_max, \"TeV\")\n",
    "        else: self.e_ref_max = e_ref_max\n",
    "        self.energy_range = [self.e_ref_min, self.e_ref_max]\n",
    "        self.target = Target(self.__target_name, self.position.ra, self.position.dec)\n",
    "        self.roi = ROI(self.__target_name, self.position.ra, self.position.dec, self.radius)\n",
    "        \n",
    "        # Actions to execute\n",
    "        CounterpartsAnalysisConfig.all.append(self)\n",
    "    \n",
    "    @property\n",
    "    # Property Decorator=Read-Only Attribute\n",
    "    def info(self):\n",
    "        info={}\n",
    "        info[\"target_name\"] = self.target_name\n",
    "        info[\"position\"] = self.position\n",
    "        info[\"radius\"] = self.radius\n",
    "        info[\"energy_range\"] = self.energy_range\n",
    "        return info    \n",
    "    \n",
    "    @property\n",
    "    def target_name(self):\n",
    "        return self.__target_name\n",
    "\n",
    "    def __repr__(self):\n",
    "        ss = f\"{self.__class__.__name__}(\"\n",
    "        ss += f\"target_name={self.__target_name}, \"\n",
    "        ss += \"pos_ra=Quantity('{:.2f}'), \".format(self.position.ra).replace(' ', '')\n",
    "        ss += \"pos_dec=Quantity('{:.2f}'), \".format(self.position.dec).replace(' ', '')\n",
    "        ss += \"radius=Quantity('{:.2f}'), \".format(self.radius).replace(' ', '')\n",
    "        if self.e_ref_min is None: ss += \"e_ref_min=None, \"\n",
    "        else: ss += \"e_ref_min=Quantity('{}'), \".format(energy_unit_format(self.e_ref_min).replace(' ', ''))\n",
    "        if self.e_ref_max is None: ss += \"e_ref_max=None)\"\n",
    "        else: ss += \"e_ref_max=Quantity('{}'))\".format(energy_unit_format(self.e_ref_max).replace(' ', ''))\n",
    "        return ss "
   ]
  },
  {
   "cell_type": "code",
   "execution_count": 7,
   "id": "924c5e87",
   "metadata": {},
   "outputs": [],
   "source": [
    "def test_analysis_confg():\n",
    "    return CounterpartsAnalysisConfig(\n",
    "        \"LHAASO J1825-1326\", \n",
    "        276.45* u.Unit('deg'), \n",
    "        -13.45* u.Unit('deg'),\n",
    "        1* u.Unit('deg'),\n",
    "        1* u.Unit('erg')\n",
    "    )"
   ]
  },
  {
   "cell_type": "code",
   "execution_count": 10,
   "id": "1a982c10",
   "metadata": {},
   "outputs": [],
   "source": []
  },
  {
   "cell_type": "code",
   "execution_count": null,
   "id": "3dcd551f",
   "metadata": {},
   "outputs": [],
   "source": []
  }
 ],
 "metadata": {
  "kernelspec": {
   "display_name": "Python 3 (ipykernel)",
   "language": "python",
   "name": "python3"
  },
  "language_info": {
   "codemirror_mode": {
    "name": "ipython",
    "version": 3
   },
   "file_extension": ".py",
   "mimetype": "text/x-python",
   "name": "python",
   "nbconvert_exporter": "python",
   "pygments_lexer": "ipython3",
   "version": "3.9.18"
  }
 },
 "nbformat": 4,
 "nbformat_minor": 5
}
