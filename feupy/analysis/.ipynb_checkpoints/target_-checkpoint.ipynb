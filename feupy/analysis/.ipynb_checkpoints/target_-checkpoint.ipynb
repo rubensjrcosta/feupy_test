{
 "cells": [
  {
   "cell_type": "code",
   "execution_count": 6,
   "id": "4b0f3e1c",
   "metadata": {},
   "outputs": [
    {
     "data": {
      "text/plain": [
       "<module 'config' from '/home/born-again/Documents/GitHub/roi_class_test/modules/config.py'>"
      ]
     },
     "execution_count": 6,
     "metadata": {},
     "output_type": "execute_result"
    }
   ],
   "source": [
    "import os\n",
    "import sys\n",
    "import importlib\n",
    "module_path = os.path.abspath(f'../')\n",
    "if module_path not in sys.path:\n",
    "    sys.path.append(module_path)\n",
    "\n",
    "import config as cfg\n",
    "importlib.reload(cfg)"
   ]
  },
  {
   "cell_type": "code",
   "execution_count": null,
   "id": "4fa0f423",
   "metadata": {},
   "outputs": [],
   "source": []
  },
  {
   "cell_type": "code",
   "execution_count": 2,
   "id": "4995abf1",
   "metadata": {},
   "outputs": [],
   "source": [
    "# from target import target\n",
    "from astropy import units as u\n",
    "from astropy.coordinates import SkyCoord\n",
    "import csv\n",
    "# from pathlib import Path\n",
    "\n",
    "class Target:\n",
    "    # ADD others parameters\n",
    "#     color = \"red\" # The color of the flux ponts\n",
    "\n",
    "    all = []\n",
    "    \n",
    "    # Validating the units of arguments to functions\n",
    "    @u.quantity_input(pos_ra= u.deg,  pos_dec= u.deg)\n",
    "    def __init__(self, name: str, pos_ra,  pos_dec):\n",
    "\n",
    "        # Run validations to the received arguments\n",
    "\n",
    "#         assert  distance>=0, f\"Distance: {distance} <= 0!\"\n",
    "        assert  0 <= pos_ra.value <= 360, f\"Right Ascension {pos_ra} is not in the range: (0,360) deg!\"\n",
    "        assert -90 <= pos_dec.value <= 90, f\"Declination {pos_dec} is not in the range: (-90,90) deg!\"\n",
    "        \n",
    "        # Assign to self object\n",
    "        self.__name = name\n",
    "        self.position = SkyCoord(pos_ra,pos_dec) \n",
    "        \n",
    "        # Actions to execute\n",
    "        Target.all.append(self) \n",
    "        \n",
    "    def info(self):\n",
    "        return  {\n",
    "            'name': self.name,\n",
    "            'position': self.position  \n",
    "    }\n",
    "          \n",
    "    @property\n",
    "    # Property Decorator = Read-Only Attribute\n",
    "    def name(self):\n",
    "        return self.__name\n",
    "    \n",
    "    @classmethod\n",
    "    def instantiate_from_csv(cls):\n",
    "#         path_file = \n",
    "#         print(path_file)\n",
    "        with open(f'{cfg.path_main}/targets.csv', 'r') as f:\n",
    "            reader = csv.DictReader(f)\n",
    "            targets = list(reader)\n",
    "            print(targets)\n",
    "        for target in targets:\n",
    "            name=target.get('name')\n",
    "            pos_ra=target.get('pos_ra')\n",
    "            pos_dec=target.get('pos_dec')\n",
    "#             print(u.Quantity(ra))\n",
    "            Target(\n",
    "                name,\n",
    "                u.Quantity(pos_ra), \n",
    "                u.Quantity(pos_dec)\n",
    "            )\n",
    "    def __repr__(self):\n",
    "        return f\"{self.__class__.__name__}('{self.__name}', {self.position.ra.deg}*u.Unit('deg'), {self.position.dec.deg}* u.Unit('deg'))\"\n"
   ]
  },
  {
   "cell_type": "code",
   "execution_count": null,
   "id": "c063a128",
   "metadata": {},
   "outputs": [],
   "source": []
  }
 ],
 "metadata": {
  "kernelspec": {
   "display_name": "Python 3 (ipykernel)",
   "language": "python",
   "name": "python3"
  },
  "language_info": {
   "codemirror_mode": {
    "name": "ipython",
    "version": 3
   },
   "file_extension": ".py",
   "mimetype": "text/x-python",
   "name": "python",
   "nbconvert_exporter": "python",
   "pygments_lexer": "ipython3",
   "version": "3.9.18"
  }
 },
 "nbformat": 4,
 "nbformat_minor": 5
}
