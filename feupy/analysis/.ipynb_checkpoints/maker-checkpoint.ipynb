{
 "cells": [
  {
   "cell_type": "code",
   "execution_count": 1,
   "id": "91fa8621",
   "metadata": {},
   "outputs": [],
   "source": [
    "# from gammapy.datasets import FluxPointsDataset\n",
    "from astropy.coordinates import SkyCoord\n",
    "from astropy import units as u\n",
    "\n",
    "import pickle"
   ]
  },
  {
   "cell_type": "code",
   "execution_count": 2,
   "id": "dc9f74f7",
   "metadata": {},
   "outputs": [],
   "source": [
    "from feupy.analysis.roi import ROI\n",
    "# from feupy.scripts.gammapy import catalogs \n"
   ]
  },
  {
   "cell_type": "code",
   "execution_count": 3,
   "id": "a04caa2a",
   "metadata": {},
   "outputs": [],
   "source": [
    "from feupy.source.observations import Source\n",
    "source = Source"
   ]
  },
  {
   "cell_type": "code",
   "execution_count": 4,
   "id": "da036992",
   "metadata": {},
   "outputs": [],
   "source": [
    "from feupy.catalog.pulsar.atnf import PSR_PARAMS\n",
    "from feupy.catalog.pulsar.atnf import SourceCatalogATNF\n",
    "from gammapy.utils.table import table_row_to_dict"
   ]
  },
  {
   "cell_type": "code",
   "execution_count": 5,
   "id": "4c70c199",
   "metadata": {},
   "outputs": [],
   "source": [
    "from feupy.catalog.lhaaso import SourceCatalogLHAASO\n",
    "from feupy.catalog.hawc import SourceCatalogHAWC\n"
   ]
  },
  {
   "cell_type": "code",
   "execution_count": 6,
   "id": "7d404253",
   "metadata": {},
   "outputs": [],
   "source": [
    "def gammapy_catalog(roi: ROI):\n",
    "    \"\"\"\n",
    "    Gets catalogs subset (only sources within the radius of the region of interest)\n",
    "    \"\"\"\n",
    "    \n",
    "    source_catalogs = catalogs.load_all_catalogs()\n",
    "    source_position = roi.position \n",
    "    radius = roi.radius \n",
    "        \n",
    "    catalogs_roi = []\n",
    "    catalogs_no_counterparts = []\n",
    "    numbers_catalogs_roi = 0\n",
    "    \n",
    "    for catalog in source_catalogs:        \n",
    "        # Selects only sources within the region of interest. \n",
    "        mask_roi = source_position.separation(catalog.positions) < radius\n",
    "        \n",
    "        if len(catalog[mask_roi].table):\n",
    "            catalogs_roi.append(catalog[mask_roi])\n",
    "            numbers_catalogs_roi += 1\n",
    "        else:\n",
    "            catalogs_no_counterparts.append(f\"{catalog.tag}: {catalog.description}\")\n",
    "    \n",
    "    if numbers_catalogs_roi:\n",
    "        print(f\"\\n{numbers_catalogs_roi} catalogs with sources within the region of interest:\", end = \"\\n\\n\")\n",
    "        for catalog in catalogs_roi:\n",
    "            print(f\"{catalog.tag}: {catalog.description}\")\n",
    "            display(catalog.table)\n",
    "    else:\n",
    "        print(\"No catalogs with sources in the region of interest!\", end = \"\\n\\n\")\n",
    "\n",
    "    if numbers_catalogs_roi and len(catalogs_no_counterparts):\n",
    "        print(\"Catalogs without sources within the region of interest:\", end = \"\\n\\n\")\n",
    "        for index, catalog_no_counterpart in enumerate(catalogs_no_counterparts):                            \n",
    "            print(catalog_no_counterpart)\n",
    "\n",
    "    return catalogs_roi"
   ]
  },
  {
   "cell_type": "code",
   "execution_count": 7,
   "id": "6f972f65",
   "metadata": {},
   "outputs": [],
   "source": [
    "#  gammapy_catalog(roi)"
   ]
  },
  {
   "cell_type": "code",
   "execution_count": 34,
   "id": "1d07be13",
   "metadata": {},
   "outputs": [],
   "source": [
    "# @u.quantity_input(pos_ra= u.deg,  pos_dec= u.deg, radius = u.deg)\n",
    "def atnf_catalog(roi: ROI, params=PSR_PARAMS):\n",
    "    \"\"\"\n",
    "    \"\"\"\n",
    "    cat=SourceCatalogATNF()\n",
    "    \n",
    "    dict_psr = []    \n",
    "    radius = roi.radius.value\n",
    "    \n",
    "    # define circular search region\n",
    "    search_region = [str(roi.position.ra), str(roi.position.dec), radius]\n",
    "    # query ATNF catalog\n",
    "    psrs = SourceCatalogATNF().query(params = params, circular_boundary = search_region)\n",
    "\n",
    "#     param deathline: minimum Edot, erg/s\n",
    "#     psrs = SourceCatalogATNF().query(params=params, circular_boundary=search_region,\n",
    "#                      condition = 'EDOT > {}'.format(deathline))\n",
    "\n",
    "    if len(psrs) == 0:\n",
    "        print('no PSR found!')\n",
    "    else:\n",
    "        # pulsars position in SkyCoord form\n",
    "        cpsrs = SkyCoord(\n",
    "            ra=psrs['RAJ'], \n",
    "            dec=psrs['DECJ'], \n",
    "            frame='icrs',            \n",
    "            unit=(u.hourangle, u.deg)\n",
    "        )\n",
    "        print(f'{len(psrs)} PSRs found!')\n",
    "        # calculate angular separation between pulsars and target\n",
    "        sep = cpsrs.separation(roi.position)\n",
    "        \n",
    "#     # select closest pulsar\n",
    "#     s = np.where(sep == np.min(sep))[0][0]\n",
    "#     # assume E_gamma = 0.03 E_e in deep KN regime, convert to TeV\n",
    "#     ecut = 0.01 * 1.e-12 * Emax_pwn(psrs['AGE'][s], psrs['EDOT'][s])\n",
    "    \n",
    "    for index, _table in enumerate(psrs.table):\n",
    "        _dict = table_row_to_dict(_table, make_quantity=True)\n",
    "        dict_psr.append(_dict)\n",
    "    \n",
    "    return psrs.table, dict_psr, sep\n"
   ]
  },
  {
   "cell_type": "code",
   "execution_count": 35,
   "id": "1e352dab",
   "metadata": {
    "scrolled": true
   },
   "outputs": [],
   "source": [
    "from feupy.source.pulsar import Pulsar\n",
    "psr1=Pulsar(name='J0002+6216', pos_ra=276*u.Unit('deg'), pos_dec=-13* u.Unit('deg'),dist=7* u.Unit('pc'))"
   ]
  },
  {
   "cell_type": "code",
   "execution_count": 36,
   "id": "6e8c17c9",
   "metadata": {},
   "outputs": [],
   "source": [
    "roi = ROI(\n",
    "    \"LHAASO J1825-1326\", \n",
    "    u.Quantity(\"276.45deg\"), \n",
    "    -13.45* u.Unit('deg'), \n",
    "    u.Quantity(\"1.0deg\")\n",
    ")"
   ]
  },
  {
   "cell_type": "code",
   "execution_count": 37,
   "id": "90a798da",
   "metadata": {
    "scrolled": true
   },
   "outputs": [
    {
     "name": "stdout",
     "output_type": "stream",
     "text": [
      "9 PSRs found!\n"
     ]
    },
    {
     "data": {
      "text/plain": [
       "tuple"
      ]
     },
     "execution_count": 37,
     "metadata": {},
     "output_type": "execute_result"
    }
   ],
   "source": [
    "type(atnf_catalog(roi))"
   ]
  },
  {
   "cell_type": "code",
   "execution_count": 38,
   "id": "719a6298",
   "metadata": {},
   "outputs": [
    {
     "name": "stdout",
     "output_type": "stream",
     "text": [
      "9 PSRs found!\n"
     ]
    },
    {
     "data": {
      "text/html": [
       "<div><i>Table length=9</i>\n",
       "<table id=\"table139623030271568\" class=\"table-striped table-bordered table-condensed\">\n",
       "<thead><tr><th>DIST</th><th>RAJ</th><th>ASSOC</th><th>DECJD</th><th>RAJ_ERR</th><th>DIST_DM</th><th>RAJD</th><th>P0</th><th>P0_ERR</th><th>RAJD_ERR</th><th>DECJ_ERR</th><th>JNAME</th><th>BSURF</th><th>AGE</th><th>DECJD_ERR</th><th>EDOT</th><th>TYPE</th><th>DECJ</th></tr></thead>\n",
       "<thead><tr><th>kpc</th><th></th><th></th><th>deg</th><th></th><th>kpc</th><th>deg</th><th>s</th><th>s</th><th>deg</th><th></th><th></th><th>G</th><th>yr</th><th>deg</th><th>erg / s</th><th></th><th></th></tr></thead>\n",
       "<thead><tr><th>float64</th><th>str17</th><th>object</th><th>float64</th><th>float64</th><th>float64</th><th>float64</th><th>float64</th><th>float64</th><th>float64</th><th>float64</th><th>str10</th><th>float64</th><th>float64</th><th>float64</th><th>float64</th><th>object</th><th>str18</th></tr></thead>\n",
       "<tr><td>6.404</td><td>18:22:41.7</td><td>--</td><td>-12.880277777777778</td><td>0.3</td><td>6.404</td><td>275.67375</td><td>2.071040272488777</td><td>4.2892078102703873e-10</td><td>0.0012499999999999998</td><td>29.0</td><td>J1822-1252</td><td>13407513468220.033</td><td>387120.8816857764</td><td>0.008055555555555555</td><td>3.767056097657509e+32</td><td>--</td><td>-12:52:49</td></tr>\n",
       "<tr><td>4.753</td><td>18:22:54.04194538</td><td>--</td><td>-14.000667226709274</td><td>0.008808397114839689</td><td>4.753</td><td>275.7251747724059</td><td>0.21477110978897967</td><td>5.5351955519987955e-12</td><td>3.670165464516537e-05</td><td>0.5352776632408136</td><td>J1822-1400</td><td>446596656524.6291</td><td>3752206.934136644</td><td>0.0001486882397891149</td><td>3.6139926894270687e+33</td><td>--</td><td>-14:00:02.40201615</td></tr>\n",
       "<tr><td>5.873</td><td>18:23:24.25</td><td>--</td><td>-13.798333333333334</td><td>0.08</td><td>5.873</td><td>275.8510416666666</td><td>0.6171072055520304</td><td>1.1424639094327075e-10</td><td>0.0003333333333333333</td><td>9.0</td><td>J1823-1347</td><td>2463073247990.15</td><td>1018433.2602161817</td><td>0.0025</td><td>1.6127682497493343e+33</td><td>--</td><td>-13:47:54</td></tr>\n",
       "<tr><td>4.693</td><td>18:24:50.181</td><td>--</td><td>-13.839166666666667</td><td>0.017</td><td>4.693</td><td>276.20908749999995</td><td>1.39659854604</td><td>4e-11</td><td>7.083333333333332e-05</td><td>1.6</td><td>J1824-1350</td><td>931708626698.8145</td><td>36454314.14156563</td><td>0.00044444444444444447</td><td>8.796981346432255e+30</td><td>--</td><td>-13:50:21.0</td></tr>\n",
       "<tr><td>4.548</td><td>18:24:57.387</td><td>--</td><td>-14.384805555555555</td><td>0.007</td><td>4.548</td><td>276.2391124999999</td><td>0.3593941624571582</td><td>5.166566560331289e-12</td><td>2.9166666666666663e-05</td><td>1.1</td><td>J1824-1423</td><td>379952146479.85596</td><td>14516109.201103011</td><td>0.0003055555555555556</td><td>3.3360573651144316e+32</td><td>--</td><td>-14:23:05.3</td></tr>\n",
       "<tr><td>1.55</td><td>18:26:08.53</td><td>GRS</td><td>-12.9425</td><td>0.01</td><td>--</td><td>276.53554166666663</td><td>0.11022370245976539</td><td>3.644779375181667e-12</td><td>4.1666666666666665e-05</td><td>0.5</td><td>J1826-1256</td><td>3702433995666.4067</td><td>14379.418845446497</td><td>0.0001388888888888889</td><td>3.580423918918167e+36</td><td>NRAD</td><td>-12:56:33.0</td></tr>\n",
       "<tr><td>3.606</td><td>18:26:13.175</td><td>GRS</td><td>-13.579666666666666</td><td>0.003</td><td>3.606</td><td>276.55489583333326</td><td>0.10148679420759428</td><td>2.0599138797069183e-13</td><td>1.2499999999999999e-05</td><td>0.1</td><td>J1826-1334</td><td>2796488334016.8047</td><td>21367.762023771757</td><td>2.777777777777778e-05</td><td>2.842154401543624e+36</td><td>HE</td><td>-13:34:46.8</td></tr>\n",
       "<tr><td>3.243</td><td>18:26:42.391</td><td>--</td><td>-14.322666666666667</td><td>0.004</td><td>3.243</td><td>276.67662916666666</td><td>0.770620171033</td><td>7e-12</td><td>1.6666666666666664e-05</td><td>0.3</td><td>J1826-1419</td><td>2632805643384.2354</td><td>1389981.879245211</td><td>8.333333333333333e-05</td><td>7.577673527237672e+32</td><td>RRAT</td><td>-14:19:21.6</td></tr>\n",
       "<tr><td>7.949</td><td>18:28:42.85</td><td>--</td><td>-13.612499999999999</td><td>0.04</td><td>7.949</td><td>277.1785416666666</td><td>0.8603321159906617</td><td>6.661542148244725e-11</td><td>0.00016666666666666666</td><td>5.0</td><td>J1828-1336</td><td>936157272925.846</td><td>13702525.950139022</td><td>0.001388888888888889</td><td>6.167268694736522e+31</td><td>--</td><td>-13:36:45</td></tr>\n",
       "</table></div>"
      ],
      "text/plain": [
       "<Table length=9>\n",
       "  DIST         RAJ        ASSOC  ...  TYPE         DECJ       \n",
       "  kpc                            ...                          \n",
       "float64       str17       object ... object       str18       \n",
       "------- ----------------- ------ ... ------ ------------------\n",
       "  6.404        18:22:41.7     -- ...     --          -12:52:49\n",
       "  4.753 18:22:54.04194538     -- ...     -- -14:00:02.40201615\n",
       "  5.873       18:23:24.25     -- ...     --          -13:47:54\n",
       "  4.693      18:24:50.181     -- ...     --        -13:50:21.0\n",
       "  4.548      18:24:57.387     -- ...     --        -14:23:05.3\n",
       "   1.55       18:26:08.53    GRS ...   NRAD        -12:56:33.0\n",
       "  3.606      18:26:13.175    GRS ...     HE        -13:34:46.8\n",
       "  3.243      18:26:42.391     -- ...   RRAT        -14:19:21.6\n",
       "  7.949       18:28:42.85     -- ...     --          -13:36:45"
      ]
     },
     "execution_count": 38,
     "metadata": {},
     "output_type": "execute_result"
    }
   ],
   "source": [
    "catalog_roi_atnf, _dict, sep = atnf_catalog(roi)\n",
    "catalog_roi_atnf"
   ]
  },
  {
   "cell_type": "code",
   "execution_count": 40,
   "id": "4e8f20f9",
   "metadata": {},
   "outputs": [
    {
     "data": {
      "text/plain": [
       "array([0.94651159, 0.89388189, 0.67836611, 0.45415804, 0.95695403,\n",
       "       0.51428808, 0.16497165, 0.89997138, 0.72671967])"
      ]
     },
     "execution_count": 40,
     "metadata": {},
     "output_type": "execute_result"
    }
   ],
   "source": [
    "sep.deg"
   ]
  },
  {
   "cell_type": "code",
   "execution_count": null,
   "id": "da42900d",
   "metadata": {},
   "outputs": [],
   "source": [
    "Source.all"
   ]
  },
  {
   "cell_type": "code",
   "execution_count": 13,
   "id": "7409f425",
   "metadata": {},
   "outputs": [],
   "source": [
    "SourceCatalogLHAASO().instantiate_from_fits()"
   ]
  },
  {
   "cell_type": "code",
   "execution_count": 14,
   "id": "f05e57e8",
   "metadata": {},
   "outputs": [],
   "source": [
    "SourceCatalogHAWC().instantiate_from_fits()"
   ]
  },
  {
   "cell_type": "code",
   "execution_count": 19,
   "id": "3801b9fe",
   "metadata": {},
   "outputs": [],
   "source": [
    "# table['RAJ']"
   ]
  },
  {
   "cell_type": "code",
   "execution_count": null,
   "id": "f40f5d15",
   "metadata": {},
   "outputs": [],
   "source": [
    "cpsrs = SkyCoord(\n",
    "        ra=psrs['RAJ'], \n",
    "        dec=psrs['DECJ'], \n",
    "        frame='icrs',            \n",
    "        unit=(u.hourangle, u.deg)\n",
    "    )"
   ]
  },
  {
   "cell_type": "code",
   "execution_count": 16,
   "id": "d0425a10",
   "metadata": {},
   "outputs": [],
   "source": [
    "Pulsar.instantiate_from_ATNF(_dict)"
   ]
  },
  {
   "cell_type": "code",
   "execution_count": 17,
   "id": "0ce204f4",
   "metadata": {},
   "outputs": [
    {
     "data": {
      "text/plain": [
       "[Pulsar('J0002+6216', 276.0.deg, -13.0.deg),\n",
       " Pulsar('J1822-1252', 275.67375.deg, -12.880277777777778.deg),\n",
       " Pulsar('J1822-1400', 275.7251747724059.deg, -14.000667226709274.deg),\n",
       " Pulsar('J1823-1347', 275.8510416666666.deg, -13.798333333333334.deg),\n",
       " Pulsar('J1824-1350', 276.20908749999995.deg, -13.839166666666667.deg),\n",
       " Pulsar('J1824-1423', 276.2391124999999.deg, -14.384805555555555.deg),\n",
       " Pulsar('J1826-1256', 276.53554166666663.deg, -12.9425.deg),\n",
       " Pulsar('J1826-1334', 276.55489583333326.deg, -13.579666666666666.deg),\n",
       " Pulsar('J1826-1419', 276.67662916666666.deg, -14.322666666666667.deg),\n",
       " Pulsar('J1828-1336', 277.1785416666666.deg, -13.612499999999999.deg)]"
      ]
     },
     "execution_count": 17,
     "metadata": {},
     "output_type": "execute_result"
    }
   ],
   "source": [
    "Pulsar.all"
   ]
  },
  {
   "cell_type": "code",
   "execution_count": 18,
   "id": "c33d3cd7",
   "metadata": {},
   "outputs": [
    {
     "data": {
      "text/plain": [
       "[Pulsar('J0002+6216', 276.0.deg, -13.0.deg),\n",
       " Source('LHAASO J0534+2202', 83.55.deg, 22.05.deg),\n",
       " Source('LHAASO J1825-1326', 276.45.deg, -13.45.deg),\n",
       " Source('LHAASO J1839-0545', 279.95.deg, -5.75.deg),\n",
       " Source('LHAASO J1843-0338', 280.75.deg, -3.65.deg),\n",
       " Source('LHAASO J1849-0003', 282.35.deg, -0.05.deg),\n",
       " Source('LHAASO J1908+0621', 287.05.deg, 6.35.deg),\n",
       " Source('LHAASO J1929+1745', 292.25.deg, 17.75.deg),\n",
       " Source('LHAASO J1956+2845', 299.05.deg, 28.75.deg),\n",
       " Source('LHAASO J2018+3651', 304.75.deg, 36.85.deg),\n",
       " Source('LHAASO J2032+4102', 308.05.deg, 41.05.deg),\n",
       " Source('LHAASO J2108+5157', 317.15.deg, 51.95.deg),\n",
       " Source('LHAASO J2226+6057', 336.75.deg, 60.95.deg),\n",
       " Source('2HWC J1825-134', 276.46.deg, -13.4.deg),\n",
       " Source('HAWC J1825-138', 276.38.deg, -13.86.deg),\n",
       " Source('HAWC J1826-128', 276.5.deg, -12.86.deg),\n",
       " Source('HAWC J1825-134', 276.44.deg, -13.42.deg),\n",
       " Source('eHWC J1825-134', 276.4.deg, -13.37.deg),\n",
       " Source('eHWC J1907+063', 286.91.deg, 6.32.deg),\n",
       " Source('eHWC J2019+368', 304.95.deg, 36.78.deg),\n",
       " Source('2HWC J1837-065', 279.36.deg, -6.58.deg),\n",
       " Pulsar('J1822-1252', 275.67375.deg, -12.880277777777778.deg),\n",
       " Pulsar('J1822-1400', 275.7251747724059.deg, -14.000667226709274.deg),\n",
       " Pulsar('J1823-1347', 275.8510416666666.deg, -13.798333333333334.deg),\n",
       " Pulsar('J1824-1350', 276.20908749999995.deg, -13.839166666666667.deg),\n",
       " Pulsar('J1824-1423', 276.2391124999999.deg, -14.384805555555555.deg),\n",
       " Pulsar('J1826-1256', 276.53554166666663.deg, -12.9425.deg),\n",
       " Pulsar('J1826-1334', 276.55489583333326.deg, -13.579666666666666.deg),\n",
       " Pulsar('J1826-1419', 276.67662916666666.deg, -14.322666666666667.deg),\n",
       " Pulsar('J1828-1336', 277.1785416666666.deg, -13.612499999999999.deg)]"
      ]
     },
     "execution_count": 18,
     "metadata": {},
     "output_type": "execute_result"
    }
   ],
   "source": [
    "Source.all"
   ]
  },
  {
   "cell_type": "code",
   "execution_count": 24,
   "id": "29dd6855",
   "metadata": {},
   "outputs": [
    {
     "data": {
      "text/plain": [
       "['index', 'name', 'ra', 'dec']"
      ]
     },
     "execution_count": 24,
     "metadata": {},
     "output_type": "execute_result"
    }
   ],
   "source": [
    "SourceCatalogLHAASO().table().colnames"
   ]
  },
  {
   "cell_type": "code",
   "execution_count": null,
   "id": "bb7a6f0d",
   "metadata": {},
   "outputs": [],
   "source": []
  },
  {
   "cell_type": "code",
   "execution_count": null,
   "id": "0ae3071d",
   "metadata": {},
   "outputs": [],
   "source": [
    "        table = Table().read(make_path(FILE_NAME))\n",
    "        col_names = table.colnames\n",
    "        for index, source in enumerate(table):\n",
    "            index, name, ra, dec, = table[index][col_names]\n",
    "            pos_ra = ra*table[\"ra\"].unit\n",
    "            pos_dec = dec*table[\"dec\"].unit\n",
    "            \n",
    "            Source(name=name,pos_ra=pos_ra,pos_dec=pos_dec)"
   ]
  },
  {
   "cell_type": "code",
   "execution_count": null,
   "id": "991e0fa1",
   "metadata": {},
   "outputs": [],
   "source": [
    "def lhaaso_catalog(roi: ROI):\n",
    "    \"\"\"\n",
    "    Gets catalogs subset (only sources within the radius of the region of interest)\n",
    "    \"\"\"\n",
    "    \n",
    "    source_catalogs =  SourceCatalogLHAASO().table()\n",
    "    \n",
    "    source_position = roi.position \n",
    "    radius = roi.radius \n",
    "        \n",
    "    catalogs_roi = []\n",
    "    catalogs_no_counterparts = []\n",
    "    numbers_catalogs_roi = 0\n",
    "    \n",
    "    for catalog in source_catalogs:        \n",
    "        # Selects only sources within the region of interest. \n",
    "        mask_roi = source_position.separation(catalog.positions) < radius\n",
    "        \n",
    "        if len(catalog[mask_roi].table):\n",
    "            catalogs_roi.append(catalog[mask_roi])\n",
    "            numbers_catalogs_roi += 1\n",
    "        else:\n",
    "            catalogs_no_counterparts.append(f\"{catalog.tag}: {catalog.description}\")\n",
    "    \n",
    "    if numbers_catalogs_roi:\n",
    "        print(f\"\\n{numbers_catalogs_roi} catalogs with sources within the region of interest:\", end = \"\\n\\n\")\n",
    "        for catalog in catalogs_roi:\n",
    "            print(f\"{catalog.tag}: {catalog.description}\")\n",
    "            display(catalog.table)\n",
    "    else:\n",
    "        print(\"No catalogs with sources in the region of interest!\", end = \"\\n\\n\")\n",
    "\n",
    "    if numbers_catalogs_roi and len(catalogs_no_counterparts):\n",
    "        print(\"Catalogs without sources within the region of interest:\", end = \"\\n\\n\")\n",
    "        for index, catalog_no_counterpart in enumerate(catalogs_no_counterparts):                            \n",
    "            print(catalog_no_counterpart)\n",
    "\n",
    "    return catalogs_roi"
   ]
  },
  {
   "cell_type": "code",
   "execution_count": 70,
   "id": "a7f25159",
   "metadata": {},
   "outputs": [],
   "source": [
    "catalog = SourceCatalogLHAASO().table()"
   ]
  },
  {
   "cell_type": "code",
   "execution_count": 71,
   "id": "9a8321cf",
   "metadata": {},
   "outputs": [],
   "source": [
    "coords = SkyCoord(\n",
    "    ra=catalog['ra'], \n",
    "    dec=catalog['dec'], \n",
    "    frame='icrs',            \n",
    "    unit=(catalog['dec'].unit, catalog['dec'].unit)\n",
    ")"
   ]
  },
  {
   "cell_type": "code",
   "execution_count": 72,
   "id": "2faeefb9",
   "metadata": {},
   "outputs": [
    {
     "data": {
      "text/latex": [
       "[$165^\\circ01{}^\\prime03.30410502{}^{\\prime\\prime}$\n",
       " $0^\\circ00{}^\\prime00{}^{\\prime\\prime}$\n",
       " $8^\\circ26{}^\\prime12.50908588{}^{\\prime\\prime}$\n",
       " $10^\\circ40{}^\\prime49.95744213{}^{\\prime\\prime}$\n",
       " $14^\\circ37{}^\\prime09.66362327{}^{\\prime\\prime}$\n",
       " $22^\\circ25{}^\\prime26.59525527{}^{\\prime\\prime}$\n",
       " $34^\\circ52{}^\\prime42.15629088{}^{\\prime\\prime}$\n",
       " $47^\\circ31{}^\\prime13.51059901{}^{\\prime\\prime}$\n",
       " $56^\\circ55{}^\\prime27.14675192{}^{\\prime\\prime}$\n",
       " $61^\\circ50{}^\\prime20.20818387{}^{\\prime\\prime}$\n",
       " $74^\\circ15{}^\\prime31.00872988{}^{\\prime\\prime}$\n",
       " $88^\\circ14{}^\\prime37.47900782{}^{\\prime\\prime}$]"
      ],
      "text/plain": [
       "<Angle [165.01758447,   0.        ,   8.43680808,  10.68054373,\n",
       "         14.61935101,  22.42405424,  34.87837675,  47.52041961,\n",
       "         56.92420743,  61.83894672,  74.25861354,  88.24374417] deg>"
      ]
     },
     "execution_count": 72,
     "metadata": {},
     "output_type": "execute_result"
    }
   ],
   "source": [
    "sep = coords.separation(roi.position)\n",
    "sep"
   ]
  },
  {
   "cell_type": "code",
   "execution_count": 87,
   "id": "c3085e9c",
   "metadata": {},
   "outputs": [
    {
     "data": {
      "text/html": [
       "<div><i>Table length=1</i>\n",
       "<table id=\"table139623038131168\" class=\"table-striped table-bordered table-condensed\">\n",
       "<thead><tr><th>index</th><th>name</th><th>ra</th><th>dec</th></tr></thead>\n",
       "<thead><tr><th></th><th></th><th>deg</th><th>deg</th></tr></thead>\n",
       "<thead><tr><th>int64</th><th>bytes17</th><th>float64</th><th>float64</th></tr></thead>\n",
       "<tr><td>1</td><td>LHAASO J1825-1326</td><td>276.45</td><td>-13.45</td></tr>\n",
       "</table></div>"
      ],
      "text/plain": [
       "<Table length=1>\n",
       "index        name          ra     dec  \n",
       "                          deg     deg  \n",
       "int64      bytes17      float64 float64\n",
       "----- ----------------- ------- -------\n",
       "    1 LHAASO J1825-1326  276.45  -13.45"
      ]
     },
     "execution_count": 87,
     "metadata": {},
     "output_type": "execute_result"
    }
   ],
   "source": [
    "catalog"
   ]
  },
  {
   "cell_type": "code",
   "execution_count": 75,
   "id": "1dbb439e",
   "metadata": {},
   "outputs": [
    {
     "data": {
      "text/plain": [
       "12"
      ]
     },
     "execution_count": 75,
     "metadata": {},
     "output_type": "execute_result"
    }
   ],
   "source": [
    "len(SourceCatalogLHAASO().table())"
   ]
  },
  {
   "cell_type": "code",
   "execution_count": 76,
   "id": "146fef56",
   "metadata": {},
   "outputs": [
    {
     "data": {
      "text/html": [
       "<div><i>Table length=1</i>\n",
       "<table id=\"table139623040642688\" class=\"table-striped table-bordered table-condensed\">\n",
       "<thead><tr><th>index</th><th>name</th><th>ra</th><th>dec</th></tr></thead>\n",
       "<thead><tr><th></th><th></th><th>deg</th><th>deg</th></tr></thead>\n",
       "<thead><tr><th>int64</th><th>bytes17</th><th>float64</th><th>float64</th></tr></thead>\n",
       "<tr><td>1</td><td>LHAASO J1825-1326</td><td>276.45</td><td>-13.45</td></tr>\n",
       "</table></div>"
      ],
      "text/plain": [
       "<Table length=1>\n",
       "index        name          ra     dec  \n",
       "                          deg     deg  \n",
       "int64      bytes17      float64 float64\n",
       "----- ----------------- ------- -------\n",
       "    1 LHAASO J1825-1326  276.45  -13.45"
      ]
     },
     "execution_count": 76,
     "metadata": {},
     "output_type": "execute_result"
    }
   ],
   "source": [
    "catalogs_roi =[]\n",
    "catalogs_no_counterparts=[]\n",
    "# numbers_catalogs_roi =[]\n",
    "\n",
    "mask_roi = roi.position.separation(coords) < roi.radius\n",
    "catalog[mask_roi]"
   ]
  },
  {
   "cell_type": "code",
   "execution_count": 86,
   "id": "307a3426",
   "metadata": {},
   "outputs": [
    {
     "ename": "IndexError",
     "evalue": "boolean index did not match indexed array along dimension 0; dimension is 1 but corresponding boolean dimension is 12",
     "output_type": "error",
     "traceback": [
      "\u001b[0;31m---------------------------------------------------------------------------\u001b[0m",
      "\u001b[0;31mIndexError\u001b[0m                                Traceback (most recent call last)",
      "Cell \u001b[0;32mIn[86], line 1\u001b[0m\n\u001b[0;32m----> 1\u001b[0m \u001b[43mcatalog\u001b[49m\u001b[43m[\u001b[49m\u001b[43mmask_roi\u001b[49m\u001b[43m]\u001b[49m\u001b[38;5;241m.\u001b[39mtable\n",
      "File \u001b[0;32m~/anaconda3/envs/gammapy-1.1/lib/python3.9/site-packages/astropy/table/table.py:2084\u001b[0m, in \u001b[0;36mTable.__getitem__\u001b[0;34m(self, item)\u001b[0m\n\u001b[1;32m   2075\u001b[0m     \u001b[38;5;28;01mreturn\u001b[39;00m \u001b[38;5;28mself\u001b[39m\u001b[38;5;241m.\u001b[39m_new_from_slice([])\n\u001b[1;32m   2076\u001b[0m \u001b[38;5;28;01melif\u001b[39;00m (\n\u001b[1;32m   2077\u001b[0m     \u001b[38;5;28misinstance\u001b[39m(item, (\u001b[38;5;28mslice\u001b[39m, np\u001b[38;5;241m.\u001b[39mndarray, \u001b[38;5;28mlist\u001b[39m))\n\u001b[1;32m   2078\u001b[0m     \u001b[38;5;129;01mor\u001b[39;00m \u001b[38;5;28misinstance\u001b[39m(item, \u001b[38;5;28mtuple\u001b[39m)\n\u001b[0;32m   (...)\u001b[0m\n\u001b[1;32m   2082\u001b[0m     \u001b[38;5;66;03m# is produced by np.where, as in t[np.where(t['a'] > 2)]\u001b[39;00m\n\u001b[1;32m   2083\u001b[0m     \u001b[38;5;66;03m# For all, a new table is constructed with slice of all columns\u001b[39;00m\n\u001b[0;32m-> 2084\u001b[0m     \u001b[38;5;28;01mreturn\u001b[39;00m \u001b[38;5;28;43mself\u001b[39;49m\u001b[38;5;241;43m.\u001b[39;49m\u001b[43m_new_from_slice\u001b[49m\u001b[43m(\u001b[49m\u001b[43mitem\u001b[49m\u001b[43m)\u001b[49m\n\u001b[1;32m   2085\u001b[0m \u001b[38;5;28;01melse\u001b[39;00m:\n\u001b[1;32m   2086\u001b[0m     \u001b[38;5;28;01mraise\u001b[39;00m \u001b[38;5;167;01mValueError\u001b[39;00m(\u001b[38;5;124mf\u001b[39m\u001b[38;5;124m\"\u001b[39m\u001b[38;5;124mIllegal type \u001b[39m\u001b[38;5;132;01m{\u001b[39;00m\u001b[38;5;28mtype\u001b[39m(item)\u001b[38;5;132;01m}\u001b[39;00m\u001b[38;5;124m for table item access\u001b[39m\u001b[38;5;124m\"\u001b[39m)\n",
      "File \u001b[0;32m~/anaconda3/envs/gammapy-1.1/lib/python3.9/site-packages/astropy/table/table.py:1491\u001b[0m, in \u001b[0;36mTable._new_from_slice\u001b[0;34m(self, slice_)\u001b[0m\n\u001b[1;32m   1489\u001b[0m newcols \u001b[38;5;241m=\u001b[39m []\n\u001b[1;32m   1490\u001b[0m \u001b[38;5;28;01mfor\u001b[39;00m col \u001b[38;5;129;01min\u001b[39;00m \u001b[38;5;28mself\u001b[39m\u001b[38;5;241m.\u001b[39mcolumns\u001b[38;5;241m.\u001b[39mvalues():\n\u001b[0;32m-> 1491\u001b[0m     newcol \u001b[38;5;241m=\u001b[39m \u001b[43mcol\u001b[49m\u001b[43m[\u001b[49m\u001b[43mslice_\u001b[49m\u001b[43m]\u001b[49m\n\u001b[1;32m   1493\u001b[0m     \u001b[38;5;66;03m# Note in line below, use direct attribute access to col.indices for Column\u001b[39;00m\n\u001b[1;32m   1494\u001b[0m     \u001b[38;5;66;03m# instances instead of the generic col.info.indices.  This saves about 4 usec\u001b[39;00m\n\u001b[1;32m   1495\u001b[0m     \u001b[38;5;66;03m# per column.\u001b[39;00m\n\u001b[1;32m   1496\u001b[0m     \u001b[38;5;28;01mif\u001b[39;00m (col \u001b[38;5;28;01mif\u001b[39;00m \u001b[38;5;28misinstance\u001b[39m(col, Column) \u001b[38;5;28;01melse\u001b[39;00m col\u001b[38;5;241m.\u001b[39minfo)\u001b[38;5;241m.\u001b[39mindices:\n\u001b[1;32m   1497\u001b[0m         \u001b[38;5;66;03m# TODO : as far as I can tell the only purpose of setting _copy_indices\u001b[39;00m\n\u001b[1;32m   1498\u001b[0m         \u001b[38;5;66;03m# here is to communicate that to the initial test in `slice_indices`.\u001b[39;00m\n\u001b[1;32m   1499\u001b[0m         \u001b[38;5;66;03m# Why isn't that just sent as an arg to the function?\u001b[39;00m\n",
      "File \u001b[0;32mastropy/table/_column_mixins.pyx:81\u001b[0m, in \u001b[0;36mastropy.table._column_mixins._ColumnGetitemShim.__getitem__\u001b[0;34m()\u001b[0m\n",
      "File \u001b[0;32mastropy/table/_column_mixins.pyx:64\u001b[0m, in \u001b[0;36mastropy.table._column_mixins.base_getitem\u001b[0;34m()\u001b[0m\n",
      "File \u001b[0;32mastropy/table/_column_mixins.pyx:76\u001b[0m, in \u001b[0;36mastropy.table._column_mixins.column_getitem\u001b[0;34m()\u001b[0m\n",
      "\u001b[0;31mIndexError\u001b[0m: boolean index did not match indexed array along dimension 0; dimension is 1 but corresponding boolean dimension is 12"
     ]
    }
   ],
   "source": [
    "catalog[mask_roi].table"
   ]
  },
  {
   "cell_type": "code",
   "execution_count": 78,
   "id": "5d47d7ce",
   "metadata": {},
   "outputs": [],
   "source": [
    "\n",
    "if len(catalog[mask_roi]):\n",
    "    catalogs_roi.append(catalog[mask_roi])\n",
    "else:\n",
    "    catalogs_no_counterparts.append(f\"{catalog.tag}: {catalog.description}\")\n"
   ]
  },
  {
   "cell_type": "code",
   "execution_count": 80,
   "id": "8f3f576f",
   "metadata": {},
   "outputs": [],
   "source": [
    "\n",
    "# if catalogs_roi:\n",
    "#     print(f\"\\n{len(catalogs_roi)} catalogs with sources within the region of interest:\", end = \"\\n\\n\")\n",
    "# for catalog in catalogs_roi:\n",
    "#     print(f\"{catalog.tag}: {catalog.description}\")\n",
    "#     display(catalog.table)\n",
    "# else:\n",
    "#     print(\"No catalogs with sources in the region of interest!\", end = \"\\n\\n\")\n",
    "\n",
    "# if catalogs_roi and len(catalogs_no_counterparts):\n",
    "#     print(\"Catalogs without sources within the region of interest:\", end = \"\\n\\n\")\n",
    "# for index, catalog_no_counterpart in enumerate(catalogs_no_counterparts):                            \n",
    "#     print(catalog_no_counterpart)"
   ]
  },
  {
   "cell_type": "code",
   "execution_count": 82,
   "id": "91aa05c4",
   "metadata": {
    "scrolled": true
   },
   "outputs": [
    {
     "data": {
      "text/plain": [
       "[]"
      ]
     },
     "execution_count": 82,
     "metadata": {},
     "output_type": "execute_result"
    }
   ],
   "source": [
    "catalogs_no_counterparts\n"
   ]
  },
  {
   "cell_type": "code",
   "execution_count": null,
   "id": "47e09ca8",
   "metadata": {},
   "outputs": [],
   "source": [
    "from astropy import units as u\n",
    "from astropy.units import Quantity\n",
    "from astropy.coordinates import SkyCoord"
   ]
  },
  {
   "cell_type": "code",
   "execution_count": null,
   "id": "52e2fec4",
   "metadata": {},
   "outputs": [],
   "source": [
    "roi = test_roi()\n",
    "roi"
   ]
  },
  {
   "cell_type": "code",
   "execution_count": null,
   "id": "9b5d247b",
   "metadata": {},
   "outputs": [],
   "source": [
    "psr1=Pulsar(name='J0002+6216', pos_ra=276*u.Unit('deg'), pos_dec=-13* u.Unit('deg'),dist=7* u.Unit('pc'))"
   ]
  },
  {
   "cell_type": "code",
   "execution_count": null,
   "id": "5fdc48bf",
   "metadata": {},
   "outputs": [],
   "source": [
    "pos=psr1.pos\n",
    "rad_search=1*u.deg"
   ]
  },
  {
   "cell_type": "code",
   "execution_count": null,
   "id": "7487749b",
   "metadata": {},
   "outputs": [],
   "source": []
  },
  {
   "cell_type": "code",
   "execution_count": null,
   "id": "a15a5c46",
   "metadata": {},
   "outputs": [],
   "source": []
  },
  {
   "cell_type": "code",
   "execution_count": null,
   "id": "e7d53ccc",
   "metadata": {},
   "outputs": [],
   "source": [
    "def test_roi():\n",
    "    return ROI(\n",
    "        \"LHAASO J1825-1326\", \n",
    "        u.Quantity(\"276.45deg\"), \n",
    "        -13.45* u.Unit('deg'), \n",
    "        u.Quantity(\"1.0deg\")\n",
    "    )"
   ]
  },
  {
   "cell_type": "code",
   "execution_count": null,
   "id": "187f283e",
   "metadata": {},
   "outputs": [],
   "source": [
    "def test_target():\n",
    "    return Target(\n",
    "        \"2HWC J1825-134\", \n",
    "        27.46* u.Unit('deg'), \n",
    "        12.2* u.Unit('deg')\n",
    "    )\n",
    "\n",
    "    "
   ]
  },
  {
   "cell_type": "code",
   "execution_count": null,
   "id": "010a1237",
   "metadata": {},
   "outputs": [],
   "source": [
    "def test_analysis_confg():\n",
    "    return An(\n",
    "        \"LHAASO J1825-1326\", \n",
    "        276.45* u.Unit('deg'), \n",
    "        -13.45* u.Unit('deg'),\n",
    "        1* u.Unit('deg'),\n",
    "        1* u.Unit('erg')\n",
    "    )"
   ]
  },
  {
   "cell_type": "code",
   "execution_count": null,
   "id": "ef08f329",
   "metadata": {},
   "outputs": [],
   "source": [
    "test_analysis_confg().all"
   ]
  },
  {
   "cell_type": "code",
   "execution_count": null,
   "id": "42138abe",
   "metadata": {},
   "outputs": [],
   "source": []
  }
 ],
 "metadata": {
  "kernelspec": {
   "display_name": "Python 3 (ipykernel)",
   "language": "python",
   "name": "python3"
  },
  "language_info": {
   "codemirror_mode": {
    "name": "ipython",
    "version": 3
   },
   "file_extension": ".py",
   "mimetype": "text/x-python",
   "name": "python",
   "nbconvert_exporter": "python",
   "pygments_lexer": "ipython3",
   "version": "3.9.18"
  }
 },
 "nbformat": 4,
 "nbformat_minor": 5
}
