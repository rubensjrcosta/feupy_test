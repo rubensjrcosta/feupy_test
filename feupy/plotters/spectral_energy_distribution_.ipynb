{
 "cells": [
  {
   "cell_type": "code",
   "execution_count": 1,
   "id": "fcbe08f8",
   "metadata": {},
   "outputs": [],
   "source": [
    "from feupy.config import *"
   ]
  },
  {
   "cell_type": "code",
   "execution_count": null,
   "id": "4513ce03",
   "metadata": {},
   "outputs": [],
   "source": [
    "__all__ = [\n",
    "    \"show_SED\",\n",
    "]"
   ]
  },
  {
   "cell_type": "code",
   "execution_count": 4,
   "id": "5f804288",
   "metadata": {},
   "outputs": [],
   "source": [
    "import matplotlib.pyplot as plt # A collection of command style functions\n",
    "from gammapy.utils.scripts import make_path\n",
    "\n",
    "\n",
    "FILE_PATH = \"$PYTHONPATH/feupy/plotters/\"\n",
    "path_my_plot_style = f\"{FILE_PATH}/my_plot_style.txt\" \n",
    "plt.style.use(make_path(path_my_plot_style))"
   ]
  },
  {
   "cell_type": "code",
   "execution_count": 1,
   "id": "23502822",
   "metadata": {},
   "outputs": [],
   "source": [
    "from astropy import units as u\n",
    "%matplotlib inline\n",
    "# import matplotlib.pyplot as plt # A collection of command style functions\n",
    "\n",
    "def show_SED(\n",
    "    datasets = None,  \n",
    "    models = None,\n",
    "    leg_style = None, \n",
    "    sed_type = \"e2dnde\", \n",
    "    plot_axis =  dict(\n",
    "        label =  (r'$\\rm{E\\ [TeV] }$', r'$\\rm{E^2\\ J(E)\\ [TeV\\ cm^{-2}\\ s^{-1}] }$'),\n",
    "        units =  (          'TeV',                       'TeV  cm-2     s-1')\n",
    "    ),\n",
    "    plot_limits = dict(\n",
    "        energy_bounds = [1e-5, 3e2] * u.TeV,\n",
    "        ylim = [1e-23, 1e-7]\n",
    "    ),\n",
    "    leg_place = dict(\n",
    "#         bbox_to_anchor = (0, -0.45), # Set legend outside plot\n",
    "        ncol=3, \n",
    "        loc='lower left', \n",
    "    ),\n",
    "    file_path=None\n",
    "):    \n",
    "    \n",
    "    ax = plt.subplot()\n",
    "    \n",
    "    ax.xaxis.set_units(u.Unit(plot_axis['units'][0]))\n",
    "    ax.yaxis.set_units(u.Unit(plot_axis['units'][1]))\n",
    "\n",
    "    kwargs = {\n",
    "        \"ax\": ax, \n",
    "        \"sed_type\": sed_type,\n",
    "#         \"uplims\": True\n",
    "    }\n",
    "                        \n",
    "    for index, dataset in enumerate(datasets):\n",
    "        color = leg_style[dataset.name][0]\n",
    "        marker = leg_style[dataset.name][1]\n",
    "        \n",
    "        label =    dataset.name\n",
    "        dataset.data.plot(\n",
    "            label = label, \n",
    "            marker = marker, \n",
    "            color=color,\n",
    "            **kwargs\n",
    "        )\n",
    "    \n",
    "    if models: \n",
    "        for index, model in enumerate(models):\n",
    "            linestyle = leg_style[model.name][1]\n",
    "            color = leg_style[model.name][0]\n",
    "            spectral_model = model.spectral_model\n",
    "            \n",
    "            energy_bounds=plot_limits['energy_bounds']\n",
    "\n",
    "            spectral_model.plot(label = f\"{model.name} (fit)\", energy_bounds=energy_bounds,   marker = ',', color=\"black\", **kwargs)\n",
    "#             energy_bounds = [7e-2, 8e2] * u.TeV\n",
    "#             spectral_model.plot(energy_bounds=energy_bounds,  linestyle = linestyle,  marker = ',', color=color, **kwargs)\n",
    "#             spectral_model.plot(label = f\"{model.name}\", energy_bounds=energy_bounds,  linestyle = linestyle, color=color, **kwargs)\n",
    "\n",
    "            spectral_model.plot_error(energy_bounds=energy_bounds,**kwargs)\n",
    "    \n",
    "    ax.set_ylim(plot_limits['ylim'])\n",
    "    ax.set_xlim(plot_limits['energy_bounds'])\n",
    "    \n",
    "    ax.legend(**leg_place)\n",
    "    \n",
    "    plt.xlabel(plot_axis['label'][0])   \n",
    "    plt.ylabel(plot_axis['label'][1])\n",
    "    \n",
    "    if file_path:\n",
    "        plt.savefig(file_path, bbox_inches='tight')\n",
    "#    plt.grid(which=\"both\")\n",
    "    plt.show()\n",
    "    \n",
    "    return"
   ]
  },
  {
   "cell_type": "code",
   "execution_count": null,
   "id": "39c2d7c2",
   "metadata": {},
   "outputs": [],
   "source": []
  }
 ],
 "metadata": {
  "kernelspec": {
   "display_name": "Python 3 (ipykernel)",
   "language": "python",
   "name": "python3"
  },
  "language_info": {
   "codemirror_mode": {
    "name": "ipython",
    "version": 3
   },
   "file_extension": ".py",
   "mimetype": "text/x-python",
   "name": "python",
   "nbconvert_exporter": "python",
   "pygments_lexer": "ipython3",
   "version": "3.9.18"
  }
 },
 "nbformat": 4,
 "nbformat_minor": 5
}
