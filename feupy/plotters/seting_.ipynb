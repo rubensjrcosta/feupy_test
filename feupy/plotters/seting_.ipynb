{
 "cells": [
  {
   "cell_type": "code",
   "execution_count": 1,
   "id": "fcbe08f8",
   "metadata": {},
   "outputs": [],
   "source": [
    "from feupy.config import *\n"
   ]
  },
  {
   "cell_type": "code",
   "execution_count": 6,
   "id": "9bc0bd75",
   "metadata": {},
   "outputs": [],
   "source": [
    "from gammapy.modeling.models import Models\n",
    "from gammapy.datasets import Datasets"
   ]
  },
  {
   "cell_type": "code",
   "execution_count": null,
   "id": "4513ce03",
   "metadata": {},
   "outputs": [],
   "source": [
    "__all__ = [\n",
    "    \"set_leg_style_models\",\n",
    "    \"set_leg_style_datasets\",\n",
    "    \"set_leg_style\",\n",
    "]"
   ]
  },
  {
   "cell_type": "code",
   "execution_count": 2,
   "id": "23502822",
   "metadata": {},
   "outputs": [],
   "source": [
    "def set_leg_style_models(leg_style, models, color = None, linestyle = None):\n",
    "    models = Models(models)\n",
    "    color_m = color\n",
    "    linestyle_m = linestyle\n",
    "    \n",
    "    if not linestyle:\n",
    "        while len(LINESTYLES) < len(models) +1:\n",
    "            LINESTYLES.extend(LINESTYLES)\n",
    "    if not color_m:      \n",
    "        while len(COLORS) < len(models) +1:\n",
    "            COLORS.extend(COLORS)\n",
    "\n",
    "    for index, model in enumerate(models):\n",
    "        if not color_m:\n",
    "            color = \"black\"\n",
    "            \n",
    "        linestyle = LINESTYLES[index]\n",
    "        leg_style[model.name] = (color, linestyle)\n",
    "    return leg_style"
   ]
  },
  {
   "cell_type": "code",
   "execution_count": null,
   "id": "fdea0e78",
   "metadata": {},
   "outputs": [],
   "source": [
    "def set_leg_style_datasets(leg_style, datasets, color = None, marker = None):\n",
    "    datasets = Datasets(datasets)\n",
    "    marker_ds = marker\n",
    "    color_ds = color\n",
    "    if not marker_ds:\n",
    "        while len(MARKERS) < len(datasets) +1:\n",
    "            MARKERS.extend(MARKERS)\n",
    "    if not color_ds:      \n",
    "        while len(COLORS) < len(datasets) +1:\n",
    "            COLORS.extend(COLORS)\n",
    "\n",
    "    for index, dataset in enumerate(datasets):\n",
    "        if not color_ds:\n",
    "            color = COLORS[index]\n",
    "\n",
    "        if not color_ds:\n",
    "            marker = MARKERS[index]\n",
    "        \n",
    "        #############################\n",
    "        if dataset.name.find('LHAASO') != -1:\n",
    "            color = COLOR_LHAASO\n",
    "            marker = MARKER_LHAASO\n",
    "            \n",
    "        if dataset.name.find('CTA') != -1:\n",
    "            color = COLOR_CTA\n",
    "            marker = MARKER_CTA\n",
    "        #############################    \n",
    "        leg_style[dataset.name] = (color, marker)\n",
    "    return leg_style"
   ]
  },
  {
   "cell_type": "code",
   "execution_count": 3,
   "id": "502b861b",
   "metadata": {},
   "outputs": [],
   "source": [
    "def set_leg_style(leg_style, datasets = None, models = None, color = None, marker = None, linestyle = None):\n",
    "    if all([datasets ==  None, models ==  None]):\n",
    "        return print(\"Sorry, there is error: 'datasets =  None' and 'models =  None'\")\n",
    "    else: \n",
    "        if datasets !=  None:\n",
    "            leg_style = set_leg_style_datasets(leg_style, datasets, color, marker)\n",
    "\n",
    "        if models !=  None:\n",
    "            leg_style = set_leg_style_models(leg_style, models, color, linestyle)\n",
    "        \n",
    "    return leg_style"
   ]
  },
  {
   "cell_type": "code",
   "execution_count": null,
   "id": "39c2d7c2",
   "metadata": {},
   "outputs": [],
   "source": []
  }
 ],
 "metadata": {
  "kernelspec": {
   "display_name": "Python 3 (ipykernel)",
   "language": "python",
   "name": "python3"
  },
  "language_info": {
   "codemirror_mode": {
    "name": "ipython",
    "version": 3
   },
   "file_extension": ".py",
   "mimetype": "text/x-python",
   "name": "python",
   "nbconvert_exporter": "python",
   "pygments_lexer": "ipython3",
   "version": "3.9.18"
  }
 },
 "nbformat": 4,
 "nbformat_minor": 5
}
