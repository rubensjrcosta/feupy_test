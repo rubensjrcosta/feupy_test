{
 "cells": [
  {
   "cell_type": "code",
   "execution_count": 1,
   "id": "9e2bf901",
   "metadata": {},
   "outputs": [],
   "source": [
    "from feupy.source.source import Source\n",
    "from feupy.source.pulsar import Pulsar"
   ]
  },
  {
   "cell_type": "code",
   "execution_count": null,
   "id": "f1f3573a",
   "metadata": {},
   "outputs": [],
   "source": [
    "Source.instantiate_from_csv()"
   ]
  },
  {
   "cell_type": "code",
   "execution_count": null,
   "id": "cc4c1602",
   "metadata": {
    "scrolled": true
   },
   "outputs": [],
   "source": [
    "Source.all[1]"
   ]
  },
  {
   "cell_type": "code",
   "execution_count": null,
   "id": "82874b41",
   "metadata": {},
   "outputs": [],
   "source": [
    "Source.all"
   ]
  },
  {
   "cell_type": "code",
   "execution_count": null,
   "id": "b328987b",
   "metadata": {},
   "outputs": [],
   "source": [
    "Pulsar.instantiate_from_fits()"
   ]
  },
  {
   "cell_type": "code",
   "execution_count": null,
   "id": "fa2951da",
   "metadata": {},
   "outputs": [],
   "source": [
    "Source.all"
   ]
  },
  {
   "cell_type": "code",
   "execution_count": null,
   "id": "83061c9f",
   "metadata": {},
   "outputs": [],
   "source": [
    "Pulsar.all"
   ]
  },
  {
   "cell_type": "code",
   "execution_count": null,
   "id": "7cf1dfe8",
   "metadata": {},
   "outputs": [],
   "source": [
    "from astropy import units as u\n",
    "\n",
    "# How to create an instances of a class\n",
    "source1 = Source(\"2HWC J1825-134\", 27.46* u.Unit('deg'), 12.2* u.Unit('deg'))\n",
    "source2 = Source(\"LHAASO J1825-1326\", 276.45* u.Unit('deg'), -13.45* u.Unit('deg'))"
   ]
  },
  {
   "cell_type": "code",
   "execution_count": null,
   "id": "d3f55c8f",
   "metadata": {},
   "outputs": [],
   "source": [
    "Source.all"
   ]
  },
  {
   "cell_type": "code",
   "execution_count": null,
   "id": "a59632f0",
   "metadata": {},
   "outputs": [],
   "source": []
  },
  {
   "cell_type": "code",
   "execution_count": null,
   "id": "5195b5ae",
   "metadata": {},
   "outputs": [],
   "source": []
  }
 ],
 "metadata": {
  "ipub": {
   "titlepage": {
    "author": "R. P. Costa Jr.",
    "email": "rubensp@utfpr.edu.br",
    "institution": [
     "Federal University of Technology – Paraná (UTFPR) "
    ],
    "tagline": "A TeV Astronomy Python package based on Gammapy.",
    "title": "feupy"
   }
  },
  "kernelspec": {
   "display_name": "Python 3 (ipykernel)",
   "language": "python",
   "name": "python3"
  },
  "language_info": {
   "codemirror_mode": {
    "name": "ipython",
    "version": 3
   },
   "file_extension": ".py",
   "mimetype": "text/x-python",
   "name": "python",
   "nbconvert_exporter": "python",
   "pygments_lexer": "ipython3",
   "version": "3.9.18"
  }
 },
 "nbformat": 4,
 "nbformat_minor": 5
}
