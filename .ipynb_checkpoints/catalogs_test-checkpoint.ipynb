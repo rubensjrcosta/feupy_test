{
 "cells": [
  {
   "cell_type": "code",
   "execution_count": 1,
   "id": "bfbba095",
   "metadata": {},
   "outputs": [],
   "source": [
    "from feupy.catalog.lhaaso import SourceCatalogPublishNatureLHAASO\n",
    "from feupy.catalog.hawc import SourceCatalogExtraHAWC\n",
    "\n",
    "from astropy.table import Table\n",
    "\n",
    "from gammapy.utils.scripts import make_path"
   ]
  },
  {
   "cell_type": "code",
   "execution_count": 2,
   "id": "57cd2614",
   "metadata": {},
   "outputs": [
    {
     "name": "stdout",
     "output_type": "stream",
     "text": [
      "Number of sources : 8\n"
     ]
    }
   ],
   "source": [
    "catalog = SourceCatalogExtraHAWC()\n",
    "print(\"Number of sources :\", len(catalog.table))"
   ]
  },
  {
   "cell_type": "code",
   "execution_count": 3,
   "id": "aa0bf8ba",
   "metadata": {},
   "outputs": [
    {
     "name": "stdout",
     "output_type": "stream",
     "text": [
      "Number of sources : 12\n"
     ]
    }
   ],
   "source": [
    "catalog = SourceCatalogPublishNatureLHAASO()\n",
    "print(\"Number of sources :\", len(catalog.table))"
   ]
  },
  {
   "cell_type": "code",
   "execution_count": 4,
   "id": "f5639cef",
   "metadata": {},
   "outputs": [
    {
     "data": {
      "text/plain": [
       "SourceCatalogObjectPublishNatureLHAASO('LHAASO J1839-0545')"
      ]
     },
     "execution_count": 4,
     "metadata": {},
     "output_type": "execute_result"
    }
   ],
   "source": [
    "catalog[2]"
   ]
  },
  {
   "cell_type": "code",
   "execution_count": 5,
   "id": "0ed8fcec",
   "metadata": {},
   "outputs": [
    {
     "data": {
      "text/plain": [
       "SourceCatalogObjectPublishNatureLHAASO('LHAASO J1839-0545')"
      ]
     },
     "execution_count": 5,
     "metadata": {},
     "output_type": "execute_result"
    }
   ],
   "source": [
    "source = catalog[2]\n",
    "source"
   ]
  },
  {
   "cell_type": "code",
   "execution_count": 6,
   "id": "52bcad75",
   "metadata": {},
   "outputs": [
    {
     "data": {
      "text/plain": [
       "(2, 'LHAASO J1839-0545')"
      ]
     },
     "execution_count": 6,
     "metadata": {},
     "output_type": "execute_result"
    }
   ],
   "source": [
    "source.row_index, source.name"
   ]
  },
  {
   "cell_type": "code",
   "execution_count": 7,
   "id": "e6cbcc38",
   "metadata": {},
   "outputs": [
    {
     "data": {
      "text/latex": [
       "$[3.172 \\times 10^{-13},~{\\rm NaN},~{\\rm NaN},~{\\rm NaN},~{\\rm NaN},~{\\rm NaN},~{\\rm NaN},~{\\rm NaN},~{\\rm NaN}] \\; \\mathrm{\\frac{TeV}{s\\,cm^{2}}}$"
      ],
      "text/plain": [
       "<Quantity [3.172e-13,       nan,       nan,       nan,       nan,\n",
       "                 nan,       nan,       nan,       nan] TeV / (s cm2)>"
      ]
     },
     "execution_count": 7,
     "metadata": {},
     "output_type": "execute_result"
    }
   ],
   "source": [
    "source.data['e2dnde_errn']"
   ]
  },
  {
   "cell_type": "code",
   "execution_count": 8,
   "id": "466bd8c6",
   "metadata": {},
   "outputs": [
    {
     "data": {
      "text/plain": [
       "<SkyCoord (Galactic): (l, b) in deg\n",
       "    (26.49008217, -0.04224311)>"
      ]
     },
     "execution_count": 8,
     "metadata": {},
     "output_type": "execute_result"
    }
   ],
   "source": [
    "source.position.galactic"
   ]
  },
  {
   "cell_type": "code",
   "execution_count": 9,
   "id": "206e3c2d",
   "metadata": {},
   "outputs": [
    {
     "data": {
      "text/html": [
       "<div><i>Table length=90</i>\n",
       "<table id=\"table140188975094896\" class=\"table-striped table-bordered table-condensed\">\n",
       "<thead><tr><th>Source_Name</th><th>Model_a</th><th>RAJ2000</th><th>DECJ2000</th><th>pos_err</th><th>r39</th><th>r39_err</th><th>r39_ul</th><th>N0</th><th>N0_err</th><th>N0_ul</th><th>gamma</th><th>gamma_err</th><th>gamma_ul</th><th>E0</th><th>TS</th><th>TS100</th><th>Model_b</th><th>RAJ2000_b</th><th>DECJ2000_b</th><th>pos_err_b</th><th>r39_b</th><th>r39_err_b</th><th>r39_ul_b</th><th>N0_b</th><th>N0_err_b</th><th>N0_ul_b</th><th>gamma_b</th><th>gamma_err_b</th><th>gamma_ul_b</th><th>E0_b</th><th>TS_b</th><th>TS100_b</th><th>ASSO_Name</th><th>ASSO_Sep</th></tr></thead>\n",
       "<thead><tr><th></th><th></th><th>deg</th><th>deg</th><th>deg</th><th>deg</th><th>deg</th><th>deg</th><th>1 / (TeV s cm2)</th><th>1 / (TeV s cm2)</th><th>1 / (TeV s cm2)</th><th></th><th></th><th></th><th>TeV</th><th></th><th></th><th></th><th>deg</th><th>deg</th><th>deg</th><th>deg</th><th>deg</th><th>deg</th><th>1 / (TeV s cm2)</th><th>1 / (TeV s cm2)</th><th>1 / (TeV s cm2)</th><th></th><th></th><th></th><th>TeV</th><th></th><th></th><th></th><th>deg</th></tr></thead>\n",
       "<thead><tr><th>bytes20</th><th>bytes7</th><th>float64</th><th>float64</th><th>float64</th><th>float64</th><th>float64</th><th>float64</th><th>float64</th><th>float64</th><th>float64</th><th>float64</th><th>float64</th><th>float64</th><th>float64</th><th>float64</th><th>float64</th><th>bytes7</th><th>float64</th><th>float64</th><th>float64</th><th>float64</th><th>float64</th><th>float64</th><th>float64</th><th>float64</th><th>float64</th><th>float64</th><th>float64</th><th>float64</th><th>float64</th><th>float64</th><th>float64</th><th>bytes16</th><th>float64</th></tr></thead>\n",
       "<tr><td>1LHAASO J0007+5659u</td><td>KM2A</td><td>1.86</td><td>57.0</td><td>0.12</td><td>--</td><td>--</td><td>0.18</td><td>3.3e-17</td><td>5e-18</td><td>--</td><td>3.1</td><td>0.2</td><td>--</td><td>50.0</td><td>86.5</td><td>43.6</td><td>WCDA</td><td>--</td><td>--</td><td>--</td><td>--</td><td>--</td><td>--</td><td>--</td><td>--</td><td>2.7000000000000002e-14</td><td>--</td><td>--</td><td>--</td><td>3.0</td><td>--</td><td>--</td><td>--</td><td>--</td></tr>\n",
       "<tr><td>1LHAASO J0007+7303u</td><td>KM2A</td><td>1.91</td><td>73.07</td><td>0.07</td><td>0.17</td><td>0.03</td><td>--</td><td>3.41e-16</td><td>2.7e-17</td><td>--</td><td>3.4</td><td>0.12</td><td>--</td><td>50.0</td><td>361.0</td><td>171.6</td><td>WCDA</td><td>1.48</td><td>73.15</td><td>0.1</td><td>--</td><td>--</td><td>0.22</td><td>5.01e-13</td><td>1.1100000000000002e-13</td><td>--</td><td>2.74</td><td>0.11</td><td>--</td><td>3.0</td><td>141.6</td><td>--</td><td>CTA 1</td><td>0.12</td></tr>\n",
       "<tr><td>1LHAASO J0056+6346u</td><td>KM2A</td><td>14.1</td><td>63.77</td><td>0.08</td><td>0.24</td><td>0.03</td><td>--</td><td>1.47e-16</td><td>1e-17</td><td>--</td><td>3.33</td><td>0.1</td><td>--</td><td>50.0</td><td>380.2</td><td>94.1</td><td>WCDA</td><td>13.78</td><td>63.96</td><td>0.15</td><td>0.33</td><td>0.07</td><td>--</td><td>1.45e-13</td><td>4.0999999999999996e-14</td><td>--</td><td>2.35</td><td>0.13</td><td>--</td><td>3.0</td><td>106.1</td><td>--</td><td>--</td><td>--</td></tr>\n",
       "<tr><td>1LHAASO J0206+4302u</td><td>KM2A</td><td>31.7</td><td>43.05</td><td>0.13</td><td>--</td><td>--</td><td>0.27</td><td>2.4e-17</td><td>3e-18</td><td>--</td><td>2.62</td><td>0.16</td><td>--</td><td>50.0</td><td>96.0</td><td>82.8</td><td>WCDA</td><td>--</td><td>--</td><td>--</td><td>--</td><td>--</td><td>--</td><td>--</td><td>--</td><td>9e-15</td><td>--</td><td>--</td><td>--</td><td>3.0</td><td>--</td><td>--</td><td>--</td><td>--</td></tr>\n",
       "<tr><td>1LHAASO J0212+4254u</td><td>KM2A</td><td>33.01</td><td>42.91</td><td>0.2</td><td>--</td><td>--</td><td>0.31</td><td>1.2e-17</td><td>3e-18</td><td>--</td><td>2.45</td><td>0.23</td><td>--</td><td>50.0</td><td>38.4</td><td>30.2</td><td>WCDA</td><td>--</td><td>--</td><td>--</td><td>--</td><td>--</td><td>--</td><td>--</td><td>--</td><td>7.000000000000001e-15</td><td>--</td><td>--</td><td>--</td><td>3.0</td><td>--</td><td>--</td><td>--</td><td>--</td></tr>\n",
       "<tr><td>1LHAASO J0216+4237u</td><td>KM2A</td><td>34.1</td><td>42.63</td><td>0.1</td><td>--</td><td>--</td><td>0.13</td><td>1.8e-17</td><td>3e-18</td><td>--</td><td>2.58</td><td>0.17</td><td>--</td><td>50.0</td><td>102.0</td><td>65.6</td><td>WCDA</td><td>--</td><td>--</td><td>--</td><td>--</td><td>--</td><td>--</td><td>--</td><td>--</td><td>2.0000000000000003e-14</td><td>--</td><td>--</td><td>--</td><td>3.0</td><td>--</td><td>--</td><td>--</td><td>--</td></tr>\n",
       "<tr><td>...</td><td>...</td><td>...</td><td>...</td><td>...</td><td>...</td><td>...</td><td>...</td><td>...</td><td>...</td><td>...</td><td>...</td><td>...</td><td>...</td><td>...</td><td>...</td><td>...</td><td>...</td><td>...</td><td>...</td><td>...</td><td>...</td><td>...</td><td>...</td><td>...</td><td>...</td><td>...</td><td>...</td><td>...</td><td>...</td><td>...</td><td>...</td><td>...</td><td>...</td><td>...</td></tr>\n",
       "<tr><td>1LHAASO J2200+5643u</td><td>KM2A</td><td>330.08</td><td>56.73</td><td>0.13</td><td>0.54</td><td>0.05</td><td>--</td><td>1.7e-16</td><td>1e-17</td><td>--</td><td>3.44</td><td>0.1</td><td>--</td><td>50.0</td><td>368.6</td><td>38.4</td><td>WCDA</td><td>330.38</td><td>56.73</td><td>0.2</td><td>0.43</td><td>0.07</td><td>--</td><td>3.8e-14</td><td>2.4e-14</td><td>--</td><td>1.77</td><td>0.28</td><td>--</td><td>3.0</td><td>75.7</td><td>--</td><td>--</td><td>--</td></tr>\n",
       "<tr><td>1LHAASO J2228+6100u</td><td>KM2A</td><td>337.01</td><td>61.0</td><td>0.04</td><td>0.35</td><td>0.01</td><td>--</td><td>4.759999999999999e-16</td><td>1.4000000000000003e-17</td><td>--</td><td>2.95</td><td>0.04</td><td>--</td><td>50.0</td><td>2180.9</td><td>605.2</td><td>WCDA</td><td>336.79</td><td>61.02</td><td>0.05</td><td>0.25</td><td>0.02</td><td>--</td><td>2.37e-13</td><td>1.6e-14</td><td>--</td><td>2.26</td><td>0.04</td><td>--</td><td>3.0</td><td>576.0</td><td>--</td><td>SNR G106.3+02.7</td><td>0.13</td></tr>\n",
       "<tr><td>1LHAASO J2229+5927u</td><td>WCDA</td><td>337.26</td><td>59.45</td><td>0.36</td><td>1.98</td><td>0.1</td><td>--</td><td>1.4900000000000001e-12</td><td>9.900000000000001e-14</td><td>--</td><td>2.67</td><td>0.05</td><td>--</td><td>3.0</td><td>228.0</td><td>--</td><td>KM2A*</td><td>337.88</td><td>59.55</td><td>0.46</td><td>1.74</td><td>0.16</td><td>--</td><td>4.4299999999999995e-16</td><td>3.6e-17</td><td>--</td><td>3.53</td><td>0.11</td><td>--</td><td>50.0</td><td>163.8</td><td>31.4</td><td>--</td><td>--</td></tr>\n",
       "<tr><td>1LHAASO J2238+5900</td><td>KM2A</td><td>339.54</td><td>59.0</td><td>0.09</td><td>0.43</td><td>0.03</td><td>--</td><td>2.0299999999999997e-16</td><td>1.2e-17</td><td>--</td><td>3.55</td><td>0.09</td><td>--</td><td>50.0</td><td>353.4</td><td>--</td><td>WCDA*</td><td>339.4</td><td>58.92</td><td>0.18</td><td>0.51</td><td>0.04</td><td>--</td><td>1.91e-13</td><td>2.6000000000000003e-14</td><td>--</td><td>2.39</td><td>0.07</td><td>--</td><td>3.0</td><td>110.2</td><td>--</td><td>--</td><td>--</td></tr>\n",
       "<tr><td>1LHAASO J2323+5854</td><td>WCDA</td><td>350.8</td><td>58.9</td><td>0.14</td><td>--</td><td>--</td><td>0.24</td><td>1.1000000000000001e-13</td><td>1.7000000000000003e-14</td><td>--</td><td>3.18</td><td>0.16</td><td>--</td><td>3.0</td><td>50.4</td><td>--</td><td>KM2A</td><td>--</td><td>--</td><td>--</td><td>--</td><td>--</td><td>--</td><td>--</td><td>--</td><td>1.5e-17</td><td>--</td><td>--</td><td>--</td><td>50.0</td><td>--</td><td>--</td><td>Cassiopeia A</td><td>0.1</td></tr>\n",
       "<tr><td>1LHAASO J2346+5138</td><td>WCDA</td><td>356.7</td><td>51.64</td><td>0.12</td><td>--</td><td>--</td><td>0.16</td><td>5.7e-14</td><td>9e-15</td><td>--</td><td>3.26</td><td>0.17</td><td>--</td><td>3.0</td><td>47.6</td><td>--</td><td>KM2A</td><td>--</td><td>--</td><td>--</td><td>--</td><td>--</td><td>--</td><td>--</td><td>--</td><td>7.000000000000001e-18</td><td>--</td><td>--</td><td>--</td><td>50.0</td><td>--</td><td>--</td><td>1ES 2344+514</td><td>0.08</td></tr>\n",
       "</table></div>"
      ],
      "text/plain": [
       "<Table length=90>\n",
       "    Source_Name     Model_a RAJ2000 ... TS100_b    ASSO_Name    ASSO_Sep\n",
       "                              deg   ...                           deg   \n",
       "      bytes20        bytes7 float64 ... float64     bytes16     float64 \n",
       "------------------- ------- ------- ... ------- --------------- --------\n",
       "1LHAASO J0007+5659u    KM2A    1.86 ...      --              --       --\n",
       "1LHAASO J0007+7303u    KM2A    1.91 ...      --           CTA 1     0.12\n",
       "1LHAASO J0056+6346u    KM2A    14.1 ...      --              --       --\n",
       "1LHAASO J0206+4302u    KM2A    31.7 ...      --              --       --\n",
       "1LHAASO J0212+4254u    KM2A   33.01 ...      --              --       --\n",
       "1LHAASO J0216+4237u    KM2A    34.1 ...      --              --       --\n",
       "                ...     ...     ... ...     ...             ...      ...\n",
       "1LHAASO J2200+5643u    KM2A  330.08 ...      --              --       --\n",
       "1LHAASO J2228+6100u    KM2A  337.01 ...      -- SNR G106.3+02.7     0.13\n",
       "1LHAASO J2229+5927u    WCDA  337.26 ...    31.4              --       --\n",
       " 1LHAASO J2238+5900    KM2A  339.54 ...      --              --       --\n",
       " 1LHAASO J2323+5854    WCDA   350.8 ...      --    Cassiopeia A      0.1\n",
       " 1LHAASO J2346+5138    WCDA   356.7 ...      --    1ES 2344+514     0.08"
      ]
     },
     "execution_count": 9,
     "metadata": {},
     "output_type": "execute_result"
    }
   ],
   "source": [
    "file_name = \"$PYTHONPATH/feupy/data/catalogs/1LHAASO/1LHAASO_catalog.fits\"\n",
    "table = Table.read(make_path(file_name))\n",
    "table"
   ]
  },
  {
   "cell_type": "code",
   "execution_count": 10,
   "id": "3458424f",
   "metadata": {},
   "outputs": [
    {
     "name": "stdout",
     "output_type": "stream",
     "text": [
      "<Table length=90>\n",
      "    name     dtype        unit         class     n_bad\n",
      "----------- ------- --------------- ------------ -----\n",
      "Source_Name bytes20                       Column     0\n",
      "    Model_a  bytes7                       Column     0\n",
      "    RAJ2000 float64             deg       Column     0\n",
      "   DECJ2000 float64             deg       Column     0\n",
      "    pos_err float64             deg       Column     0\n",
      "        r39 float64             deg MaskedColumn    29\n",
      "    r39_err float64             deg MaskedColumn    29\n",
      "     r39_ul float64             deg MaskedColumn    61\n",
      "         N0 float64 1 / (TeV s cm2)       Column     0\n",
      "     N0_err float64 1 / (TeV s cm2)       Column     0\n",
      "      N0_ul float64 1 / (TeV s cm2) MaskedColumn    90\n",
      "      gamma float64                       Column     0\n",
      "  gamma_err float64                       Column     0\n",
      "   gamma_ul float64                 MaskedColumn    90\n",
      "         E0 float64             TeV       Column     0\n",
      "         TS float64                       Column     0\n",
      "      TS100 float64                 MaskedColumn    59\n",
      "    Model_b  bytes7                       Column     0\n",
      "  RAJ2000_b float64             deg MaskedColumn    36\n",
      " DECJ2000_b float64             deg MaskedColumn    36\n",
      "  pos_err_b float64             deg MaskedColumn    36\n",
      "      r39_b float64             deg MaskedColumn    48\n",
      "  r39_err_b float64             deg MaskedColumn    48\n",
      "   r39_ul_b float64             deg MaskedColumn    78\n",
      "       N0_b float64 1 / (TeV s cm2) MaskedColumn    36\n",
      "   N0_err_b float64 1 / (TeV s cm2) MaskedColumn    36\n",
      "    N0_ul_b float64 1 / (TeV s cm2) MaskedColumn    54\n",
      "    gamma_b float64                 MaskedColumn    36\n",
      "gamma_err_b float64                 MaskedColumn    36\n",
      " gamma_ul_b float64                 MaskedColumn    90\n",
      "       E0_b float64             TeV       Column     0\n",
      "       TS_b float64                 MaskedColumn    36\n",
      "    TS100_b float64                 MaskedColumn    77\n",
      "  ASSO_Name bytes16                 MaskedColumn    25\n",
      "   ASSO_Sep float64             deg MaskedColumn    25\n"
     ]
    }
   ],
   "source": [
    "table.info()"
   ]
  },
  {
   "cell_type": "code",
   "execution_count": 11,
   "id": "b1ce86ff",
   "metadata": {},
   "outputs": [
    {
     "data": {
      "text/html": [
       "<div>\n",
       "<style scoped>\n",
       "    .dataframe tbody tr th:only-of-type {\n",
       "        vertical-align: middle;\n",
       "    }\n",
       "\n",
       "    .dataframe tbody tr th {\n",
       "        vertical-align: top;\n",
       "    }\n",
       "\n",
       "    .dataframe thead th {\n",
       "        text-align: right;\n",
       "    }\n",
       "</style>\n",
       "<table border=\"1\" class=\"dataframe\">\n",
       "  <thead>\n",
       "    <tr style=\"text-align: right;\">\n",
       "      <th></th>\n",
       "      <th>Source_Name</th>\n",
       "      <th>Model_a</th>\n",
       "      <th>RAJ2000</th>\n",
       "      <th>DECJ2000</th>\n",
       "      <th>pos_err</th>\n",
       "      <th>r39</th>\n",
       "      <th>r39_err</th>\n",
       "      <th>r39_ul</th>\n",
       "      <th>N0</th>\n",
       "      <th>N0_err</th>\n",
       "      <th>...</th>\n",
       "      <th>N0_err_b</th>\n",
       "      <th>N0_ul_b</th>\n",
       "      <th>gamma_b</th>\n",
       "      <th>gamma_err_b</th>\n",
       "      <th>gamma_ul_b</th>\n",
       "      <th>E0_b</th>\n",
       "      <th>TS_b</th>\n",
       "      <th>TS100_b</th>\n",
       "      <th>ASSO_Name</th>\n",
       "      <th>ASSO_Sep</th>\n",
       "    </tr>\n",
       "  </thead>\n",
       "  <tbody>\n",
       "    <tr>\n",
       "      <th>0</th>\n",
       "      <td>b'1LHAASO J0007+5659u'</td>\n",
       "      <td>b' KM2A'</td>\n",
       "      <td>1.86</td>\n",
       "      <td>57.00</td>\n",
       "      <td>0.12</td>\n",
       "      <td>NaN</td>\n",
       "      <td>NaN</td>\n",
       "      <td>0.18</td>\n",
       "      <td>3.300000e-17</td>\n",
       "      <td>5.000000e-18</td>\n",
       "      <td>...</td>\n",
       "      <td>NaN</td>\n",
       "      <td>2.700000e-14</td>\n",
       "      <td>NaN</td>\n",
       "      <td>NaN</td>\n",
       "      <td>NaN</td>\n",
       "      <td>3.0</td>\n",
       "      <td>NaN</td>\n",
       "      <td>NaN</td>\n",
       "      <td>NaN</td>\n",
       "      <td>NaN</td>\n",
       "    </tr>\n",
       "    <tr>\n",
       "      <th>1</th>\n",
       "      <td>b'1LHAASO J0007+7303u'</td>\n",
       "      <td>b' KM2A'</td>\n",
       "      <td>1.91</td>\n",
       "      <td>73.07</td>\n",
       "      <td>0.07</td>\n",
       "      <td>0.17</td>\n",
       "      <td>0.03</td>\n",
       "      <td>NaN</td>\n",
       "      <td>3.410000e-16</td>\n",
       "      <td>2.700000e-17</td>\n",
       "      <td>...</td>\n",
       "      <td>1.110000e-13</td>\n",
       "      <td>NaN</td>\n",
       "      <td>2.74</td>\n",
       "      <td>0.11</td>\n",
       "      <td>NaN</td>\n",
       "      <td>3.0</td>\n",
       "      <td>141.6</td>\n",
       "      <td>NaN</td>\n",
       "      <td>b'CTA 1'</td>\n",
       "      <td>0.12</td>\n",
       "    </tr>\n",
       "    <tr>\n",
       "      <th>2</th>\n",
       "      <td>b'1LHAASO J0056+6346u'</td>\n",
       "      <td>b' KM2A'</td>\n",
       "      <td>14.10</td>\n",
       "      <td>63.77</td>\n",
       "      <td>0.08</td>\n",
       "      <td>0.24</td>\n",
       "      <td>0.03</td>\n",
       "      <td>NaN</td>\n",
       "      <td>1.470000e-16</td>\n",
       "      <td>1.000000e-17</td>\n",
       "      <td>...</td>\n",
       "      <td>4.100000e-14</td>\n",
       "      <td>NaN</td>\n",
       "      <td>2.35</td>\n",
       "      <td>0.13</td>\n",
       "      <td>NaN</td>\n",
       "      <td>3.0</td>\n",
       "      <td>106.1</td>\n",
       "      <td>NaN</td>\n",
       "      <td>NaN</td>\n",
       "      <td>NaN</td>\n",
       "    </tr>\n",
       "    <tr>\n",
       "      <th>3</th>\n",
       "      <td>b'1LHAASO J0206+4302u'</td>\n",
       "      <td>b' KM2A'</td>\n",
       "      <td>31.70</td>\n",
       "      <td>43.05</td>\n",
       "      <td>0.13</td>\n",
       "      <td>NaN</td>\n",
       "      <td>NaN</td>\n",
       "      <td>0.27</td>\n",
       "      <td>2.400000e-17</td>\n",
       "      <td>3.000000e-18</td>\n",
       "      <td>...</td>\n",
       "      <td>NaN</td>\n",
       "      <td>9.000000e-15</td>\n",
       "      <td>NaN</td>\n",
       "      <td>NaN</td>\n",
       "      <td>NaN</td>\n",
       "      <td>3.0</td>\n",
       "      <td>NaN</td>\n",
       "      <td>NaN</td>\n",
       "      <td>NaN</td>\n",
       "      <td>NaN</td>\n",
       "    </tr>\n",
       "    <tr>\n",
       "      <th>4</th>\n",
       "      <td>b'1LHAASO J0212+4254u'</td>\n",
       "      <td>b' KM2A'</td>\n",
       "      <td>33.01</td>\n",
       "      <td>42.91</td>\n",
       "      <td>0.20</td>\n",
       "      <td>NaN</td>\n",
       "      <td>NaN</td>\n",
       "      <td>0.31</td>\n",
       "      <td>1.200000e-17</td>\n",
       "      <td>3.000000e-18</td>\n",
       "      <td>...</td>\n",
       "      <td>NaN</td>\n",
       "      <td>7.000000e-15</td>\n",
       "      <td>NaN</td>\n",
       "      <td>NaN</td>\n",
       "      <td>NaN</td>\n",
       "      <td>3.0</td>\n",
       "      <td>NaN</td>\n",
       "      <td>NaN</td>\n",
       "      <td>NaN</td>\n",
       "      <td>NaN</td>\n",
       "    </tr>\n",
       "    <tr>\n",
       "      <th>...</th>\n",
       "      <td>...</td>\n",
       "      <td>...</td>\n",
       "      <td>...</td>\n",
       "      <td>...</td>\n",
       "      <td>...</td>\n",
       "      <td>...</td>\n",
       "      <td>...</td>\n",
       "      <td>...</td>\n",
       "      <td>...</td>\n",
       "      <td>...</td>\n",
       "      <td>...</td>\n",
       "      <td>...</td>\n",
       "      <td>...</td>\n",
       "      <td>...</td>\n",
       "      <td>...</td>\n",
       "      <td>...</td>\n",
       "      <td>...</td>\n",
       "      <td>...</td>\n",
       "      <td>...</td>\n",
       "      <td>...</td>\n",
       "      <td>...</td>\n",
       "    </tr>\n",
       "    <tr>\n",
       "      <th>85</th>\n",
       "      <td>b'1LHAASO J2228+6100u'</td>\n",
       "      <td>b' KM2A'</td>\n",
       "      <td>337.01</td>\n",
       "      <td>61.00</td>\n",
       "      <td>0.04</td>\n",
       "      <td>0.35</td>\n",
       "      <td>0.01</td>\n",
       "      <td>NaN</td>\n",
       "      <td>4.760000e-16</td>\n",
       "      <td>1.400000e-17</td>\n",
       "      <td>...</td>\n",
       "      <td>1.600000e-14</td>\n",
       "      <td>NaN</td>\n",
       "      <td>2.26</td>\n",
       "      <td>0.04</td>\n",
       "      <td>NaN</td>\n",
       "      <td>3.0</td>\n",
       "      <td>576.0</td>\n",
       "      <td>NaN</td>\n",
       "      <td>b'SNR G106.3+02.7'</td>\n",
       "      <td>0.13</td>\n",
       "    </tr>\n",
       "    <tr>\n",
       "      <th>86</th>\n",
       "      <td>b'1LHAASO J2229+5927u'</td>\n",
       "      <td>b' WCDA'</td>\n",
       "      <td>337.26</td>\n",
       "      <td>59.45</td>\n",
       "      <td>0.36</td>\n",
       "      <td>1.98</td>\n",
       "      <td>0.10</td>\n",
       "      <td>NaN</td>\n",
       "      <td>1.490000e-12</td>\n",
       "      <td>9.900000e-14</td>\n",
       "      <td>...</td>\n",
       "      <td>3.600000e-17</td>\n",
       "      <td>NaN</td>\n",
       "      <td>3.53</td>\n",
       "      <td>0.11</td>\n",
       "      <td>NaN</td>\n",
       "      <td>50.0</td>\n",
       "      <td>163.8</td>\n",
       "      <td>31.4</td>\n",
       "      <td>NaN</td>\n",
       "      <td>NaN</td>\n",
       "    </tr>\n",
       "    <tr>\n",
       "      <th>87</th>\n",
       "      <td>b'1LHAASO J2238+5900'</td>\n",
       "      <td>b' KM2A'</td>\n",
       "      <td>339.54</td>\n",
       "      <td>59.00</td>\n",
       "      <td>0.09</td>\n",
       "      <td>0.43</td>\n",
       "      <td>0.03</td>\n",
       "      <td>NaN</td>\n",
       "      <td>2.030000e-16</td>\n",
       "      <td>1.200000e-17</td>\n",
       "      <td>...</td>\n",
       "      <td>2.600000e-14</td>\n",
       "      <td>NaN</td>\n",
       "      <td>2.39</td>\n",
       "      <td>0.07</td>\n",
       "      <td>NaN</td>\n",
       "      <td>3.0</td>\n",
       "      <td>110.2</td>\n",
       "      <td>NaN</td>\n",
       "      <td>NaN</td>\n",
       "      <td>NaN</td>\n",
       "    </tr>\n",
       "    <tr>\n",
       "      <th>88</th>\n",
       "      <td>b'1LHAASO J2323+5854'</td>\n",
       "      <td>b' WCDA'</td>\n",
       "      <td>350.80</td>\n",
       "      <td>58.90</td>\n",
       "      <td>0.14</td>\n",
       "      <td>NaN</td>\n",
       "      <td>NaN</td>\n",
       "      <td>0.24</td>\n",
       "      <td>1.100000e-13</td>\n",
       "      <td>1.700000e-14</td>\n",
       "      <td>...</td>\n",
       "      <td>NaN</td>\n",
       "      <td>1.500000e-17</td>\n",
       "      <td>NaN</td>\n",
       "      <td>NaN</td>\n",
       "      <td>NaN</td>\n",
       "      <td>50.0</td>\n",
       "      <td>NaN</td>\n",
       "      <td>NaN</td>\n",
       "      <td>b'Cassiopeia A'</td>\n",
       "      <td>0.10</td>\n",
       "    </tr>\n",
       "    <tr>\n",
       "      <th>89</th>\n",
       "      <td>b'1LHAASO J2346+5138'</td>\n",
       "      <td>b' WCDA'</td>\n",
       "      <td>356.70</td>\n",
       "      <td>51.64</td>\n",
       "      <td>0.12</td>\n",
       "      <td>NaN</td>\n",
       "      <td>NaN</td>\n",
       "      <td>0.16</td>\n",
       "      <td>5.700000e-14</td>\n",
       "      <td>9.000000e-15</td>\n",
       "      <td>...</td>\n",
       "      <td>NaN</td>\n",
       "      <td>7.000000e-18</td>\n",
       "      <td>NaN</td>\n",
       "      <td>NaN</td>\n",
       "      <td>NaN</td>\n",
       "      <td>50.0</td>\n",
       "      <td>NaN</td>\n",
       "      <td>NaN</td>\n",
       "      <td>b'1ES 2344+514'</td>\n",
       "      <td>0.08</td>\n",
       "    </tr>\n",
       "  </tbody>\n",
       "</table>\n",
       "<p>90 rows × 35 columns</p>\n",
       "</div>"
      ],
      "text/plain": [
       "               Source_Name   Model_a  RAJ2000  DECJ2000  pos_err   r39  \\\n",
       "0   b'1LHAASO J0007+5659u'  b' KM2A'     1.86     57.00     0.12   NaN   \n",
       "1   b'1LHAASO J0007+7303u'  b' KM2A'     1.91     73.07     0.07  0.17   \n",
       "2   b'1LHAASO J0056+6346u'  b' KM2A'    14.10     63.77     0.08  0.24   \n",
       "3   b'1LHAASO J0206+4302u'  b' KM2A'    31.70     43.05     0.13   NaN   \n",
       "4   b'1LHAASO J0212+4254u'  b' KM2A'    33.01     42.91     0.20   NaN   \n",
       "..                     ...       ...      ...       ...      ...   ...   \n",
       "85  b'1LHAASO J2228+6100u'  b' KM2A'   337.01     61.00     0.04  0.35   \n",
       "86  b'1LHAASO J2229+5927u'  b' WCDA'   337.26     59.45     0.36  1.98   \n",
       "87   b'1LHAASO J2238+5900'  b' KM2A'   339.54     59.00     0.09  0.43   \n",
       "88   b'1LHAASO J2323+5854'  b' WCDA'   350.80     58.90     0.14   NaN   \n",
       "89   b'1LHAASO J2346+5138'  b' WCDA'   356.70     51.64     0.12   NaN   \n",
       "\n",
       "    r39_err  r39_ul            N0        N0_err  ...      N0_err_b  \\\n",
       "0       NaN    0.18  3.300000e-17  5.000000e-18  ...           NaN   \n",
       "1      0.03     NaN  3.410000e-16  2.700000e-17  ...  1.110000e-13   \n",
       "2      0.03     NaN  1.470000e-16  1.000000e-17  ...  4.100000e-14   \n",
       "3       NaN    0.27  2.400000e-17  3.000000e-18  ...           NaN   \n",
       "4       NaN    0.31  1.200000e-17  3.000000e-18  ...           NaN   \n",
       "..      ...     ...           ...           ...  ...           ...   \n",
       "85     0.01     NaN  4.760000e-16  1.400000e-17  ...  1.600000e-14   \n",
       "86     0.10     NaN  1.490000e-12  9.900000e-14  ...  3.600000e-17   \n",
       "87     0.03     NaN  2.030000e-16  1.200000e-17  ...  2.600000e-14   \n",
       "88      NaN    0.24  1.100000e-13  1.700000e-14  ...           NaN   \n",
       "89      NaN    0.16  5.700000e-14  9.000000e-15  ...           NaN   \n",
       "\n",
       "         N0_ul_b  gamma_b  gamma_err_b  gamma_ul_b  E0_b   TS_b TS100_b  \\\n",
       "0   2.700000e-14      NaN          NaN         NaN   3.0    NaN     NaN   \n",
       "1            NaN     2.74         0.11         NaN   3.0  141.6     NaN   \n",
       "2            NaN     2.35         0.13         NaN   3.0  106.1     NaN   \n",
       "3   9.000000e-15      NaN          NaN         NaN   3.0    NaN     NaN   \n",
       "4   7.000000e-15      NaN          NaN         NaN   3.0    NaN     NaN   \n",
       "..           ...      ...          ...         ...   ...    ...     ...   \n",
       "85           NaN     2.26         0.04         NaN   3.0  576.0     NaN   \n",
       "86           NaN     3.53         0.11         NaN  50.0  163.8    31.4   \n",
       "87           NaN     2.39         0.07         NaN   3.0  110.2     NaN   \n",
       "88  1.500000e-17      NaN          NaN         NaN  50.0    NaN     NaN   \n",
       "89  7.000000e-18      NaN          NaN         NaN  50.0    NaN     NaN   \n",
       "\n",
       "             ASSO_Name  ASSO_Sep  \n",
       "0                  NaN       NaN  \n",
       "1             b'CTA 1'      0.12  \n",
       "2                  NaN       NaN  \n",
       "3                  NaN       NaN  \n",
       "4                  NaN       NaN  \n",
       "..                 ...       ...  \n",
       "85  b'SNR G106.3+02.7'      0.13  \n",
       "86                 NaN       NaN  \n",
       "87                 NaN       NaN  \n",
       "88     b'Cassiopeia A'      0.10  \n",
       "89     b'1ES 2344+514'      0.08  \n",
       "\n",
       "[90 rows x 35 columns]"
      ]
     },
     "execution_count": 11,
     "metadata": {},
     "output_type": "execute_result"
    }
   ],
   "source": [
    "table.to_pandas()"
   ]
  }
 ],
 "metadata": {
  "ipub": {
   "titlepage": {
    "author": "R. P. Costa Jr.",
    "email": "rubensp@utfpr.edu.br",
    "institution": [
     "Federal University of Technology – Paraná (UTFPR) "
    ],
    "tagline": "A TeV Astronomy Python package based on Gammapy.",
    "title": "feupy"
   }
  },
  "kernelspec": {
   "display_name": "Python 3 (ipykernel)",
   "language": "python",
   "name": "python3"
  },
  "language_info": {
   "codemirror_mode": {
    "name": "ipython",
    "version": 3
   },
   "file_extension": ".py",
   "mimetype": "text/x-python",
   "name": "python",
   "nbconvert_exporter": "python",
   "pygments_lexer": "ipython3",
   "version": "3.9.18"
  }
 },
 "nbformat": 4,
 "nbformat_minor": 5
}
